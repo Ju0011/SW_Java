{
 "cells": [
  {
   "cell_type": "code",
   "execution_count": 8,
   "metadata": {},
   "outputs": [
    {
     "name": "stderr",
     "output_type": "stream",
     "text": [
      "C:\\Users\\admin\\anaconda3\\Lib\\site-packages\\gym\\envs\\registration.py:498: UserWarning: \u001b[33mWARN: Overriding environment FrozenLake-v3 already in registry.\u001b[0m\n",
      "  logger.warn(f\"Overriding environment {new_spec.id} already in registry.\")\n"
     ]
    }
   ],
   "source": [
    "import gym\n",
    "import numpy as np\n",
    "import matplotlib.pyplot as plt\n",
    "from gym.envs.registration import register\n",
    "\n",
    "register(\n",
    "    id='FrozenLake-v3',\n",
    "    entry_point='gym.envs.toy_text:FrozenLakeEnv',\n",
    "    kwargs={'map_name' : '4x4', 'is_slippery': False}\n",
    ")\n",
    "env = gym.make('FrozenLake-v3')"
   ]
  },
  {
   "cell_type": "code",
   "execution_count": 9,
   "metadata": {},
   "outputs": [],
   "source": [
    "# Q를 모두 0으로 초기화.  Q[16,4]\n",
    "Q = np.zeros([env.observation_space.n, env.action_space.n]) \n",
    "\n",
    "#  learning parameters\n",
    "num_episodes = 2000\n",
    "\n",
    "# create lists to contain total rewards and steps per episode\n",
    "rList = []"
   ]
  },
  {
   "cell_type": "code",
   "execution_count": 11,
   "metadata": {},
   "outputs": [
    {
     "ename": "IndexError",
     "evalue": "only integers, slices (`:`), ellipsis (`...`), numpy.newaxis (`None`) and integer or boolean arrays are valid indices",
     "output_type": "error",
     "traceback": [
      "\u001b[1;31m---------------------------------------------------------------------------\u001b[0m",
      "\u001b[1;31mIndexError\u001b[0m                                Traceback (most recent call last)",
      "Cell \u001b[1;32mIn[11], line 11\u001b[0m\n\u001b[0;32m      6\u001b[0m \u001b[38;5;66;03m# The Q-Table learning algorithm\u001b[39;00m\n\u001b[0;32m      7\u001b[0m \u001b[38;5;28;01mwhile\u001b[39;00m \u001b[38;5;129;01mnot\u001b[39;00m done: \n\u001b[0;32m      8\u001b[0m     \u001b[38;5;66;03m#현재 state의 Q중 최대 reward를 얻을 수 있는 action을 구함. \u001b[39;00m\n\u001b[0;32m      9\u001b[0m     \u001b[38;5;66;03m#단, 알려진 길로만 가지 않기 위해서 random 값 add. \u001b[39;00m\n\u001b[0;32m     10\u001b[0m     \u001b[38;5;66;03m# 학습 후반 부로 갈 수로 random 값의 영향을 적게 하기위해   random/(i+1)\u001b[39;00m\n\u001b[1;32m---> 11\u001b[0m     action \u001b[38;5;241m=\u001b[39m np\u001b[38;5;241m.\u001b[39margmax(Q[state, :]\u001b[38;5;241m+\u001b[39m np\u001b[38;5;241m.\u001b[39mrandom\u001b[38;5;241m.\u001b[39mrandn(\u001b[38;5;241m1\u001b[39m, env\u001b[38;5;241m.\u001b[39maction_space\u001b[38;5;241m.\u001b[39mn) \u001b[38;5;241m/\u001b[39m (i\u001b[38;5;241m+\u001b[39m\u001b[38;5;241m1\u001b[39m))\n\u001b[0;32m     13\u001b[0m      \u001b[38;5;66;03m# 환경에서 action 후, new_state와 reward를 얻음 \u001b[39;00m\n\u001b[0;32m     14\u001b[0m     new_state, reward, done, _, info \u001b[38;5;241m=\u001b[39m env\u001b[38;5;241m.\u001b[39mstep(action)\n",
      "\u001b[1;31mIndexError\u001b[0m: only integers, slices (`:`), ellipsis (`...`), numpy.newaxis (`None`) and integer or boolean arrays are valid indices"
     ]
    }
   ],
   "source": [
    "for i in range(num_episodes): # 여러번 반복 학습\n",
    "    state = env.reset()   # 환경 reset 후, 첫번째 상태 얻음 \n",
    "    rAll = 0\n",
    "    done = False\n",
    "\n",
    "    # The Q-Table learning algorithm\n",
    "    while not done: \n",
    "        #현재 state의 Q중 최대 reward를 얻을 수 있는 action을 구함. \n",
    "        #단, 알려진 길로만 가지 않기 위해서 random 값 add. \n",
    "        # 학습 후반 부로 갈 수로 random 값의 영향을 적게 하기위해   random/(i+1)\n",
    "        action = np.argmax(Q[state, :]+ np.random.randn(1, env.action_space.n) / (i+1))\n",
    "\n",
    "         # 환경에서 action 후, new_state와 reward를 얻음 \n",
    "        new_state, reward, done, _, info = env.step(action)\n",
    "\n",
    "        # Update Q-Table with new knowledge using decay rate\n",
    "        Q[state, action] = reward +  np.max(Q[new_state, :])\n",
    "\n",
    "        rAll += reward\n",
    "        state = new_state\n",
    "    rList.append(rAll)\n",
    "\n",
    "print(\"Success rate: \" + str(sum(rList) / num_episodes))\n",
    "print(\"Final Q-Table Values\")\n",
    "print(\"LEFT DOWN RIGHT UP\")\n",
    "print(Q)\n",
    "plt.bar(range(len(rList)), rList, color='b', alpha=0.4)\n",
    "plt.show()\n",
    "\n"
   ]
  }
 ],
 "metadata": {
  "kernelspec": {
   "display_name": "Python 3 (ipykernel)",
   "language": "python",
   "name": "python3"
  },
  "language_info": {
   "codemirror_mode": {
    "name": "ipython",
    "version": 3
   },
   "file_extension": ".py",
   "mimetype": "text/x-python",
   "name": "python",
   "nbconvert_exporter": "python",
   "pygments_lexer": "ipython3",
   "version": "3.11.5"
  }
 },
 "nbformat": 4,
 "nbformat_minor": 2
}
