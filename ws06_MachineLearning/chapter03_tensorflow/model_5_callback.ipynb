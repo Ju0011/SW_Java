{
 "cells": [
  {
   "cell_type": "code",
   "execution_count": 3,
   "id": "c60058f0",
   "metadata": {
    "id": "c60058f0"
   },
   "outputs": [
    {
     "name": "stdout",
     "output_type": "stream",
     "text": [
      "WARNING:tensorflow:From C:\\Users\\admin\\anaconda3\\Lib\\site-packages\\keras\\src\\losses.py:2976: The name tf.losses.sparse_softmax_cross_entropy is deprecated. Please use tf.compat.v1.losses.sparse_softmax_cross_entropy instead.\n",
      "\n",
      "WARNING:tensorflow:From C:\\Users\\admin\\anaconda3\\Lib\\site-packages\\keras\\src\\backend.py:873: The name tf.get_default_graph is deprecated. Please use tf.compat.v1.get_default_graph instead.\n",
      "\n",
      "WARNING:tensorflow:From C:\\Users\\admin\\anaconda3\\Lib\\site-packages\\keras\\src\\optimizers\\__init__.py:309: The name tf.train.Optimizer is deprecated. Please use tf.compat.v1.train.Optimizer instead.\n",
      "\n"
     ]
    }
   ],
   "source": [
    "from tensorflow import keras\n",
    "import numpy\n",
    "x = numpy.array([0, 1, 2, 3, 4])\n",
    "y = numpy.array([1,3,5,7,9])\n",
    "\n",
    "model = keras.models.Sequential()\n",
    "model.add(keras.layers.Dense(1, input_shape=(1,)))\n",
    "model.compile('SGD', 'mse')\n"
   ]
  },
  {
   "cell_type": "markdown",
   "id": "9816cbed",
   "metadata": {
    "id": "9816cbed"
   },
   "source": [
    "#### EarlyStopping"
   ]
  },
  {
   "cell_type": "code",
   "execution_count": 4,
   "id": "1dd33d95",
   "metadata": {
    "id": "1dd33d95"
   },
   "outputs": [
    {
     "name": "stdout",
     "output_type": "stream",
     "text": [
      "WARNING:tensorflow:From C:\\Users\\admin\\anaconda3\\Lib\\site-packages\\keras\\src\\utils\\tf_utils.py:492: The name tf.ragged.RaggedTensorValue is deprecated. Please use tf.compat.v1.ragged.RaggedTensorValue instead.\n",
      "\n"
     ]
    }
   ],
   "source": [
    "callback1 = keras.callbacks.EarlyStopping(monitor = 'loss', patience = 3)\n",
    "\n",
    "# This callback will stop the training when there is no improvement in\n",
    "# the loss for three consecutive epochs.\n",
    "\n",
    "history = model.fit(x[:2], y[:2], epochs=10, batch_size=1,\n",
    "                   callbacks = [callback1],\n",
    "                    verbose=0)\n"
   ]
  },
  {
   "cell_type": "markdown",
   "id": "92d68da8",
   "metadata": {
    "id": "92d68da8"
   },
   "source": [
    "#### ModelCheckpoint\n",
    "훈련 중간 중간 현재 Parameter의 값들을 저장하고 싶을 때도 있습니다. 혹시나 무엇인가가 잘못됐을 때 중간부터 시작하기 위해서일 수도 있고, valdiation 결과가 최적일 때의 값을 사용하고 싶을 수도 있고요. 이런 목적으로 Tensorflow는 keras.callbacks.ModelCheckpoint를 제공합니다.\n"
   ]
  },
  {
   "cell_type": "code",
   "execution_count": 5,
   "id": "302f3ade",
   "metadata": {
    "id": "302f3ade"
   },
   "outputs": [],
   "source": [
    "callback2 = keras.callbacks.ModelCheckpoint  (\n",
    "    filepath='./model/checkpoint.{epoch:02d}.hdf5',\n",
    "    save_weights_only=True,    #  save_best_only: bool = False,\n",
    "    save_freq ='epoch')"
   ]
  },
  {
   "cell_type": "markdown",
   "id": "34929350",
   "metadata": {
    "id": "34929350"
   },
   "source": [
    "위와 같이 Callback을 만들면 매 epoch마다 결과가 ./model/checkpoint.01.hdf5와 같이 저장됩니다. <br>\n",
    "다른 인자를 이용하면 지금까지 결과 중 가장 성능이 좋은 결과만을 저장한다거나, <br>\n",
    "결과를 저장하는 주기를 조절할 수도 있습니다."
   ]
  },
  {
   "cell_type": "code",
   "execution_count": 6,
   "id": "d3b4532d",
   "metadata": {
    "id": "d3b4532d"
   },
   "outputs": [],
   "source": [
    "history = model.fit(x[:2], y[:2], epochs=10, batch_size=1,\n",
    "                    callbacks = [callback2],\n",
    "                    verbose=0)"
   ]
  },
  {
   "cell_type": "code",
   "execution_count": null,
   "id": "28b77704",
   "metadata": {
    "id": "28b77704"
   },
   "outputs": [],
   "source": []
  }
 ],
 "metadata": {
  "colab": {
   "provenance": []
  },
  "kernelspec": {
   "display_name": "Python 3 (ipykernel)",
   "language": "python",
   "name": "python3"
  },
  "language_info": {
   "codemirror_mode": {
    "name": "ipython",
    "version": 3
   },
   "file_extension": ".py",
   "mimetype": "text/x-python",
   "name": "python",
   "nbconvert_exporter": "python",
   "pygments_lexer": "ipython3",
   "version": "3.11.5"
  }
 },
 "nbformat": 4,
 "nbformat_minor": 5
}
