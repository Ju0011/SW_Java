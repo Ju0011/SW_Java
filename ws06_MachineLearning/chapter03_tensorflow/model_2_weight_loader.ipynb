{
 "cells": [
  {
   "cell_type": "code",
   "execution_count": 1,
   "id": "56c064cb",
   "metadata": {},
   "outputs": [
    {
     "name": "stdout",
     "output_type": "stream",
     "text": [
      "1/1 [==============================] - 0s 28ms/step\n",
      "Predictions: [1.0142927 2.9911666 4.9680405 6.944914  8.921787 ]\n"
     ]
    }
   ],
   "source": [
    "from tensorflow import keras\n",
    "import numpy\n",
    "x = numpy.array([0, 1, 2, 3, 4])\n",
    "\n",
    "\n",
    "model = #TODO\n",
    "model.#TODO\n",
    "model.#TODO('SGD', 'mse')\n",
    "\n",
    "model.#TODOs(\"k_model\")\n",
    "print('Predictions:', model.#TODO(x).flatten()) # 예측 결과"
   ]
  },
  {
   "cell_type": "code",
   "execution_count": null,
   "id": "0cee7701",
   "metadata": {},
   "outputs": [],
   "source": []
  }
 ],
 "metadata": {
  "kernelspec": {
   "display_name": "Python 3 (ipykernel)",
   "language": "python",
   "name": "python3"
  },
  "language_info": {
   "codemirror_mode": {
    "name": "ipython",
    "version": 3
   },
   "file_extension": ".py",
   "mimetype": "text/x-python",
   "name": "python",
   "nbconvert_exporter": "python",
   "pygments_lexer": "ipython3",
   "version": "3.10.9"
  }
 },
 "nbformat": 4,
 "nbformat_minor": 5
}
