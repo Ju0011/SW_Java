{
 "cells": [
  {
   "cell_type": "code",
   "execution_count": null,
   "id": "256f5b99",
   "metadata": {},
   "outputs": [],
   "source": [
    "# 애플의 시계열 주가 데이터를 학습하고 예측하는 문제입니다. \n",
    "\n",
    "# apple_stock.csv  파일에   종가(close) 를  5일단위로 학습하고  \n",
    "\n",
    "# 4일치 애플 주식의 종가(close) 데이터가 입력되면 \n",
    "# 그 다음날 애플 주식의 종가(close)를 예측하는 프로그램을 작성하세요."
   ]
  },
  {
   "cell_type": "code",
   "execution_count": 12,
   "id": "8cbd4db7",
   "metadata": {},
   "outputs": [
    {
     "ename": "ModuleNotFoundError",
     "evalue": "No module named 'ex_RNN_1_timeSeries_data'",
     "output_type": "error",
     "traceback": [
      "\u001b[1;31m---------------------------------------------------------------------------\u001b[0m",
      "\u001b[1;31mModuleNotFoundError\u001b[0m                       Traceback (most recent call last)",
      "Cell \u001b[1;32mIn[12], line 3\u001b[0m\n\u001b[0;32m      1\u001b[0m \u001b[38;5;28;01mimport\u001b[39;00m \u001b[38;5;21;01mnumpy\u001b[39;00m \u001b[38;5;28;01mas\u001b[39;00m \u001b[38;5;21;01mnp\u001b[39;00m\n\u001b[0;32m      2\u001b[0m \u001b[38;5;28;01mimport\u001b[39;00m \u001b[38;5;21;01mmatplotlib\u001b[39;00m\u001b[38;5;21;01m.\u001b[39;00m\u001b[38;5;21;01mpyplot\u001b[39;00m \u001b[38;5;28;01mas\u001b[39;00m \u001b[38;5;21;01mplt\u001b[39;00m\n\u001b[1;32m----> 3\u001b[0m \u001b[38;5;28;01mimport\u001b[39;00m \u001b[38;5;21;01mex_RNN_1_timeSeries_data\u001b[39;00m \u001b[38;5;28;01mas\u001b[39;00m \u001b[38;5;21;01mex_t1_d\u001b[39;00m\n\u001b[0;32m      4\u001b[0m \u001b[38;5;28;01mimport\u001b[39;00m \u001b[38;5;21;01mex_RNN_1_timeSeries_model\u001b[39;00m \u001b[38;5;28;01mas\u001b[39;00m \u001b[38;5;21;01mex_t1_m\u001b[39;00m\n\u001b[0;32m      6\u001b[0m (X_train,Y_train) \u001b[38;5;241m=\u001b[39m ex_t1_d\u001b[38;5;241m.\u001b[39mmake_data()\n",
      "\u001b[1;31mModuleNotFoundError\u001b[0m: No module named 'ex_RNN_1_timeSeries_data'"
     ]
    }
   ],
   "source": [
    "import numpy as np\n",
    "import matplotlib.pyplot as plt\n",
    "import ex_RNN_1_timeSeries_data as ex_t1_d\n",
    "import ex_RNN_1_timeSeries_model as ex_t1_m\n",
    "\n",
    "(X_train,Y_train) = ex_t1_d.make_data()\n",
    "model= ex_t1_m.make_model() #RNN 모델 생성\n"
   ]
  },
  {
   "cell_type": "code",
   "execution_count": null,
   "id": "a15a7ffd",
   "metadata": {},
   "outputs": [],
   "source": [
    "# 학습 전 예측 결과\n",
    "\n",
    "plt.plot(Y_train, 'ro-', label=\"target\")\n",
    "plt.plot(model.predict(X_train[:,:,:]), 'bs-', label=\"output\")\n",
    "plt.xlim(-0.5, 20.5)\n",
    "plt.ylim(-1.1, 1.1)\n",
    "plt.legend()\n",
    "plt.title(\"Before training\")\n",
    "plt.show()\n"
   ]
  }
 ],
 "metadata": {
  "kernelspec": {
   "display_name": "Python 3 (ipykernel)",
   "language": "python",
   "name": "python3"
  },
  "language_info": {
   "codemirror_mode": {
    "name": "ipython",
    "version": 3
   },
   "file_extension": ".py",
   "mimetype": "text/x-python",
   "name": "python",
   "nbconvert_exporter": "python",
   "pygments_lexer": "ipython3",
   "version": "3.11.5"
  }
 },
 "nbformat": 4,
 "nbformat_minor": 5
}
