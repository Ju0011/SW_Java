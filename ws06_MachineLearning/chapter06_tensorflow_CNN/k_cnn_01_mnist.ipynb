{
 "cells": [
  {
   "cell_type": "code",
   "execution_count": 1,
   "id": "100b7ba2",
   "metadata": {},
   "outputs": [
    {
     "name": "stdout",
     "output_type": "stream",
     "text": [
      "WARNING:tensorflow:From C:\\Users\\admin\\anaconda3\\Lib\\site-packages\\keras\\src\\losses.py:2976: The name tf.losses.sparse_softmax_cross_entropy is deprecated. Please use tf.compat.v1.losses.sparse_softmax_cross_entropy instead.\n",
      "\n"
     ]
    }
   ],
   "source": [
    "###############################\n",
    "# 분류 CNN 모델링\n",
    "###############################\n",
    "import tensorflow.keras as keras\n",
    "from tensorflow.keras import models, layers\n",
    "\n",
    "def CNN(W,H,C , Nout):\n",
    "        model = models.Sequential()\n",
    "        model.add(layer.Conv2D(32, kernel_size = (3,3),\n",
    "                               activation = 'relu',\n",
    "                               input_shape = (W,H,C)))\n",
    "        model.add(layers.Conv2D(64,(3,3), activation = 'relu'))\n",
    "        model.add(layers.maxPooling2D(pool_size = (2,2)))\n",
    "        model.add(layers.Dropout(0.25))\n",
    "        model.add(layers.Flatten())\n",
    "        model.add(layers.Dense(128, activation='relu'))\n",
    "        model.add(layers.Dropout(0.5))\n",
    "        model.add(layers.Dense(Nout, activation = 'softmax')  )\n",
    "\n",
    "        model.compile(loss=keras.losses.categorical_crossentropy,\n",
    "                      optimizer='rmsprop',\n",
    "                      metrics=['acc'])\n",
    "        return model;"
   ]
  },
  {
   "cell_type": "code",
   "execution_count": 2,
   "id": "85a41fde",
   "metadata": {},
   "outputs": [],
   "source": [
    "##############################################\n",
    "# Data\n",
    "##############################################\n",
    "from tensorflow.keras import datasets  # mnist\n",
    "from tensorflow.keras.utils import to_categorical  # to_categorical\n",
    "\n",
    "def Data_func():\n",
    "    (X_train, y_train), (X_test, y_test) = datasets.mnist.load_data()  \n",
    "    \"\"\" 이미지 데이터 X ,  0~9까지 붙인 이름표를 Y   \n",
    "        70,000개의 데이터 중 60,000개를 학습 데이터로,  10,000개를 테스트 데이터로 읽어옵니다. \n",
    "    \"\"\"\n",
    "\n",
    "    Y_train =  np_utils.to_categorical(y_train)  \n",
    "    Y_test =   np_utils.to_categorical(y_test)\n",
    "    \"\"\"원-핫 인코딩을 위해 케라스의 np_utils 의 to_categorical() 함수를 사용\n",
    "     0 ~ 9까지의 정수 값을 갖는 형태가 아닌 0 이나 1로 이뤄진 벡터로 수정 \n",
    "     만약에 '3' 이라는 숫자이라면 [0, 0, 1, 0, 0, 0, 0, 0, 0]으로 변환 \n",
    "    \"\"\"\n",
    "\n",
    "    L, W, H = X_train.shape\n",
    "    print(L, W, H)  # 60000 28 28\n",
    "\n",
    "    X_train = X_train.reshape(60000, W, H,-1)\n",
    "    X_test = X_test.reshape(10000,W, H,-1)\n",
    "\n",
    "    X_train = X_train / 255.0\n",
    "    X_test = X_test / 255.0\n",
    "\n",
    "    return (X_train, Y_train), (X_test, Y_test)"
   ]
  },
  {
   "cell_type": "code",
   "execution_count": 4,
   "id": "8443c75b",
   "metadata": {},
   "outputs": [
    {
     "ename": "NameError",
     "evalue": "name 'np_utils' is not defined",
     "output_type": "error",
     "traceback": [
      "\u001b[1;31m---------------------------------------------------------------------------\u001b[0m",
      "\u001b[1;31mNameError\u001b[0m                                 Traceback (most recent call last)",
      "Cell \u001b[1;32mIn[4], line 48\u001b[0m\n\u001b[0;32m     45\u001b[0m     plt\u001b[38;5;241m.\u001b[39mshow()\n\u001b[0;32m     47\u001b[0m \u001b[38;5;28;01mif\u001b[39;00m \u001b[38;5;18m__name__\u001b[39m \u001b[38;5;241m==\u001b[39m \u001b[38;5;124m'\u001b[39m\u001b[38;5;124m__main__\u001b[39m\u001b[38;5;124m'\u001b[39m:\n\u001b[1;32m---> 48\u001b[0m     main()\n",
      "Cell \u001b[1;32mIn[4], line 15\u001b[0m, in \u001b[0;36mmain\u001b[1;34m()\u001b[0m\n\u001b[0;32m     12\u001b[0m batch_size \u001b[38;5;241m=\u001b[39m \u001b[38;5;241m128\u001b[39m\n\u001b[0;32m     13\u001b[0m epochs \u001b[38;5;241m=\u001b[39m \u001b[38;5;241m10\u001b[39m\n\u001b[1;32m---> 15\u001b[0m (X_train, Y_train), (X_test, Y_test) \u001b[38;5;241m=\u001b[39m Data_func()\n\u001b[0;32m     16\u001b[0m model \u001b[38;5;241m=\u001b[39m CNN(\u001b[38;5;241m28\u001b[39m,\u001b[38;5;241m28\u001b[39m,\u001b[38;5;241m1\u001b[39m,           Nout)\n\u001b[0;32m     17\u001b[0m            \u001b[38;5;66;03m#width, hight, color\u001b[39;00m\n",
      "Cell \u001b[1;32mIn[2], line 13\u001b[0m, in \u001b[0;36mData_func\u001b[1;34m()\u001b[0m\n\u001b[0;32m      8\u001b[0m (X_train, y_train), (X_test, y_test) \u001b[38;5;241m=\u001b[39m datasets\u001b[38;5;241m.\u001b[39mmnist\u001b[38;5;241m.\u001b[39mload_data()  \n\u001b[0;32m      9\u001b[0m \u001b[38;5;250m\u001b[39m\u001b[38;5;124;03m\"\"\" 이미지 데이터 X ,  0~9까지 붙인 이름표를 Y   \u001b[39;00m\n\u001b[0;32m     10\u001b[0m \u001b[38;5;124;03m    70,000개의 데이터 중 60,000개를 학습 데이터로,  10,000개를 테스트 데이터로 읽어옵니다. \u001b[39;00m\n\u001b[0;32m     11\u001b[0m \u001b[38;5;124;03m\"\"\"\u001b[39;00m\n\u001b[1;32m---> 13\u001b[0m Y_train \u001b[38;5;241m=\u001b[39m  np_utils\u001b[38;5;241m.\u001b[39mto_categorical(y_train)  \n\u001b[0;32m     14\u001b[0m Y_test \u001b[38;5;241m=\u001b[39m   np_utils\u001b[38;5;241m.\u001b[39mto_categorical(y_test)\n\u001b[0;32m     15\u001b[0m \u001b[38;5;250m\u001b[39m\u001b[38;5;124;03m\"\"\"원-핫 인코딩을 위해 케라스의 np_utils 의 to_categorical() 함수를 사용\u001b[39;00m\n\u001b[0;32m     16\u001b[0m \u001b[38;5;124;03m 0 ~ 9까지의 정수 값을 갖는 형태가 아닌 0 이나 1로 이뤄진 벡터로 수정 \u001b[39;00m\n\u001b[0;32m     17\u001b[0m \u001b[38;5;124;03m 만약에 '3' 이라는 숫자이라면 [0, 0, 1, 0, 0, 0, 0, 0, 0]으로 변환 \u001b[39;00m\n\u001b[0;32m     18\u001b[0m \u001b[38;5;124;03m\"\"\"\u001b[39;00m\n",
      "\u001b[1;31mNameError\u001b[0m: name 'np_utils' is not defined"
     ]
    }
   ],
   "source": [
    "###########################\n",
    "# 학습 효과 분석\n",
    "###########################\n",
    "import matplotlib.pyplot as plt\n",
    "###############################\n",
    "# 분류 CNN 학습 및 테스트\n",
    "###############################\n",
    "def main():\n",
    "    number_of_class = 10\n",
    "    Nout = number_of_class\n",
    "\n",
    "    batch_size = 128\n",
    "    epochs = 10\n",
    "\n",
    "    (X_train, Y_train), (X_test, Y_test) = Data_func()\n",
    "    model = CNN(28,28,1,           Nout)\n",
    "               #width, hight, color\n",
    "\n",
    "    history = model.summary(X_train, Y_train,\n",
    "              batch_size=batch_size,\n",
    "              epochs  =epochs,\n",
    "              validation_split=0.2)\n",
    "\n",
    "    score = model.evaluate(X_test, Y_test)\n",
    "    print()\n",
    "    print('Test loss:', score[0])\n",
    "    print('Test accuracy:', score[1])\n",
    "\n",
    "    history = history.history\n",
    "\n",
    "    \"\"\"정확도 변화 추이  그래프\"\"\"\n",
    "    plt.plot(history['accuracy'])\n",
    "    plt.plot(history['val_accuracy'])\n",
    "    plt.ylabel('Accuracy')\n",
    "    plt.xlabel('Epoch')\n",
    "    plt.legend(['Training', 'Verification'], loc=0)\n",
    "    plt.show()\n",
    "\n",
    "    \"\"\"Cost/Loss  변화 추이 그래프\"\"\"\n",
    "    plt.plot(history['loss'])\n",
    "    plt.plot(history['val_loss'])\n",
    "    plt.ylabel('Loss')\n",
    "    plt.xlabel('Epoch')\n",
    "    plt.legend(['Training', 'Verification'], loc=0)\n",
    "    plt.show()\n",
    "\n",
    "if __name__ == '__main__':\n",
    "    main()\n"
   ]
  }
 ],
 "metadata": {
  "kernelspec": {
   "display_name": "Python 3 (ipykernel)",
   "language": "python",
   "name": "python3"
  },
  "language_info": {
   "codemirror_mode": {
    "name": "ipython",
    "version": 3
   },
   "file_extension": ".py",
   "mimetype": "text/x-python",
   "name": "python",
   "nbconvert_exporter": "python",
   "pygments_lexer": "ipython3",
   "version": "3.11.5"
  }
 },
 "nbformat": 4,
 "nbformat_minor": 5
}
