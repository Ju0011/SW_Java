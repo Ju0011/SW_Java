{
 "cells": [
  {
   "cell_type": "code",
   "execution_count": 2,
   "id": "90f870b7",
   "metadata": {},
   "outputs": [
    {
     "name": "stdout",
     "output_type": "stream",
     "text": [
      "[[0.49748744]\n",
      " [0.        ]\n",
      " [1.        ]\n",
      " [0.        ]]\n",
      "[[100.]\n",
      " [  1.]\n",
      " [200.]\n",
      " [  1.]]\n"
     ]
    }
   ],
   "source": [
    "from sklearn import preprocessing\n",
    "scaler = preprocessing.MinMaxScaler() # 데이터 정규화. preprocessing. StandardScalar () # 데이터표준화\n",
    "\n",
    "after_Normalization = scaler.fit_transform([[100],[1],[200],[1]]) # 학습(fit) 및 변환\n",
    "print(after_Normalization)\n",
    "\n",
    "reverseData = scaler.inverse_transform( after_Normalization ) # 역변환\n",
    "print(reverseData)"
   ]
  }
 ],
 "metadata": {
  "kernelspec": {
   "display_name": "Python 3 (ipykernel)",
   "language": "python",
   "name": "python3"
  },
  "language_info": {
   "codemirror_mode": {
    "name": "ipython",
    "version": 3
   },
   "file_extension": ".py",
   "mimetype": "text/x-python",
   "name": "python",
   "nbconvert_exporter": "python",
   "pygments_lexer": "ipython3",
   "version": "3.11.5"
  }
 },
 "nbformat": 4,
 "nbformat_minor": 5
}
