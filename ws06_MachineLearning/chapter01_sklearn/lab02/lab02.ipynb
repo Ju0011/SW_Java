{
 "cells": [
  {
   "cell_type": "code",
   "execution_count": 119,
   "id": "ae33cf6c",
   "metadata": {},
   "outputs": [],
   "source": [
    "import pandas as pd\n",
    "from sklearn.model_selection import train_test_split\n",
    "from sklearn.preprocessing import MinMaxScaler\n",
    "from sklearn.ensemble import RandomForestClassifier\n",
    "from sklearn.metrics import accuracy_score\n",
    "\n",
    "# 데이터 불러오기\n",
    "data = pd.read_csv('titanic.csv' , encoding='cp949')"
   ]
  },
  {
   "cell_type": "code",
   "execution_count": 120,
   "id": "8a2a2450",
   "metadata": {},
   "outputs": [
    {
     "data": {
      "text/html": [
       "<div>\n",
       "<style scoped>\n",
       "    .dataframe tbody tr th:only-of-type {\n",
       "        vertical-align: middle;\n",
       "    }\n",
       "\n",
       "    .dataframe tbody tr th {\n",
       "        vertical-align: top;\n",
       "    }\n",
       "\n",
       "    .dataframe thead th {\n",
       "        text-align: right;\n",
       "    }\n",
       "</style>\n",
       "<table border=\"1\" class=\"dataframe\">\n",
       "  <thead>\n",
       "    <tr style=\"text-align: right;\">\n",
       "      <th></th>\n",
       "      <th>객실등급</th>\n",
       "      <th>성별</th>\n",
       "      <th>나이</th>\n",
       "      <th>생존여부</th>\n",
       "    </tr>\n",
       "  </thead>\n",
       "  <tbody>\n",
       "    <tr>\n",
       "      <th>0</th>\n",
       "      <td>3</td>\n",
       "      <td>male</td>\n",
       "      <td>22.0</td>\n",
       "      <td>0</td>\n",
       "    </tr>\n",
       "    <tr>\n",
       "      <th>1</th>\n",
       "      <td>1</td>\n",
       "      <td>female</td>\n",
       "      <td>38.0</td>\n",
       "      <td>1</td>\n",
       "    </tr>\n",
       "    <tr>\n",
       "      <th>2</th>\n",
       "      <td>3</td>\n",
       "      <td>female</td>\n",
       "      <td>26.0</td>\n",
       "      <td>1</td>\n",
       "    </tr>\n",
       "    <tr>\n",
       "      <th>3</th>\n",
       "      <td>1</td>\n",
       "      <td>female</td>\n",
       "      <td>35.0</td>\n",
       "      <td>1</td>\n",
       "    </tr>\n",
       "    <tr>\n",
       "      <th>4</th>\n",
       "      <td>3</td>\n",
       "      <td>male</td>\n",
       "      <td>35.0</td>\n",
       "      <td>0</td>\n",
       "    </tr>\n",
       "    <tr>\n",
       "      <th>...</th>\n",
       "      <td>...</td>\n",
       "      <td>...</td>\n",
       "      <td>...</td>\n",
       "      <td>...</td>\n",
       "    </tr>\n",
       "    <tr>\n",
       "      <th>886</th>\n",
       "      <td>2</td>\n",
       "      <td>male</td>\n",
       "      <td>27.0</td>\n",
       "      <td>0</td>\n",
       "    </tr>\n",
       "    <tr>\n",
       "      <th>887</th>\n",
       "      <td>1</td>\n",
       "      <td>female</td>\n",
       "      <td>19.0</td>\n",
       "      <td>1</td>\n",
       "    </tr>\n",
       "    <tr>\n",
       "      <th>888</th>\n",
       "      <td>3</td>\n",
       "      <td>female</td>\n",
       "      <td>NaN</td>\n",
       "      <td>0</td>\n",
       "    </tr>\n",
       "    <tr>\n",
       "      <th>889</th>\n",
       "      <td>1</td>\n",
       "      <td>male</td>\n",
       "      <td>26.0</td>\n",
       "      <td>1</td>\n",
       "    </tr>\n",
       "    <tr>\n",
       "      <th>890</th>\n",
       "      <td>3</td>\n",
       "      <td>male</td>\n",
       "      <td>32.0</td>\n",
       "      <td>0</td>\n",
       "    </tr>\n",
       "  </tbody>\n",
       "</table>\n",
       "<p>891 rows × 4 columns</p>\n",
       "</div>"
      ],
      "text/plain": [
       "     객실등급      성별    나이  생존여부\n",
       "0       3    male  22.0     0\n",
       "1       1  female  38.0     1\n",
       "2       3  female  26.0     1\n",
       "3       1  female  35.0     1\n",
       "4       3    male  35.0     0\n",
       "..    ...     ...   ...   ...\n",
       "886     2    male  27.0     0\n",
       "887     1  female  19.0     1\n",
       "888     3  female   NaN     0\n",
       "889     1    male  26.0     1\n",
       "890     3    male  32.0     0\n",
       "\n",
       "[891 rows x 4 columns]"
      ]
     },
     "execution_count": 120,
     "metadata": {},
     "output_type": "execute_result"
    }
   ],
   "source": [
    "# 입력 특성과 타겟 값 나누기\n",
    "data_col = data[['객실등급','성별', '나이','생존여부']]\n",
    "data_col"
   ]
  },
  {
   "cell_type": "code",
   "execution_count": 121,
   "id": "3f86db69",
   "metadata": {},
   "outputs": [],
   "source": [
    "#결측치 값 처리\n",
    "pd.isna(data)\n",
    "\n",
    "#결측치 처리 - 행제거\n",
    "#결측치를 가지고 있는 행들 삭제\n",
    "first_df = data_col.dropna(how='any')"
   ]
  },
  {
   "cell_type": "code",
   "execution_count": 122,
   "id": "23375ba0",
   "metadata": {},
   "outputs": [
    {
     "name": "stdout",
     "output_type": "stream",
     "text": [
      "객실등급    891\n",
      "성별      891\n",
      "나이      714\n",
      "생존여부    891\n",
      "dtype: int64\n",
      "객실등급    714\n",
      "성별      714\n",
      "나이      714\n",
      "생존여부    714\n",
      "dtype: int64\n"
     ]
    }
   ],
   "source": [
    "#결측치 삭제 확인\n",
    "\n",
    "print(data_col.count())\n",
    "print(first_df.count())"
   ]
  },
  {
   "cell_type": "code",
   "execution_count": 123,
   "id": "cb58bb79",
   "metadata": {},
   "outputs": [
    {
     "data": {
      "text/html": [
       "<div>\n",
       "<style scoped>\n",
       "    .dataframe tbody tr th:only-of-type {\n",
       "        vertical-align: middle;\n",
       "    }\n",
       "\n",
       "    .dataframe tbody tr th {\n",
       "        vertical-align: top;\n",
       "    }\n",
       "\n",
       "    .dataframe thead th {\n",
       "        text-align: right;\n",
       "    }\n",
       "</style>\n",
       "<table border=\"1\" class=\"dataframe\">\n",
       "  <thead>\n",
       "    <tr style=\"text-align: right;\">\n",
       "      <th></th>\n",
       "      <th>객실등급</th>\n",
       "      <th>성별</th>\n",
       "      <th>나이</th>\n",
       "      <th>생존여부</th>\n",
       "    </tr>\n",
       "  </thead>\n",
       "  <tbody>\n",
       "  </tbody>\n",
       "</table>\n",
       "</div>"
      ],
      "text/plain": [
       "Empty DataFrame\n",
       "Columns: [객실등급, 성별, 나이, 생존여부]\n",
       "Index: []"
      ]
     },
     "execution_count": 123,
     "metadata": {},
     "output_type": "execute_result"
    }
   ],
   "source": [
    "# 이상치 처리\n",
    "#범주형 변수의 이상치 확인\n",
    "\n",
    "# 성별 열의 값이 여성 또는 남성이 아닌 행만 <--- 이상치 : 없음\n",
    "first_df[ ~ first_df[\"성별\"].isin(['male','female']) ]\n",
    "\n",
    "#이상치를 가진 행 삭제\n",
    "#students = students[ students[\"class\"].isin(['1','2'])"
   ]
  },
  {
   "cell_type": "code",
   "execution_count": 124,
   "id": "61b38dcb",
   "metadata": {
    "scrolled": true
   },
   "outputs": [
    {
     "data": {
      "text/html": [
       "<div>\n",
       "<style scoped>\n",
       "    .dataframe tbody tr th:only-of-type {\n",
       "        vertical-align: middle;\n",
       "    }\n",
       "\n",
       "    .dataframe tbody tr th {\n",
       "        vertical-align: top;\n",
       "    }\n",
       "\n",
       "    .dataframe thead th {\n",
       "        text-align: right;\n",
       "    }\n",
       "</style>\n",
       "<table border=\"1\" class=\"dataframe\">\n",
       "  <thead>\n",
       "    <tr style=\"text-align: right;\">\n",
       "      <th></th>\n",
       "      <th>객실등급</th>\n",
       "      <th>성별</th>\n",
       "      <th>나이</th>\n",
       "      <th>생존여부</th>\n",
       "    </tr>\n",
       "  </thead>\n",
       "  <tbody>\n",
       "  </tbody>\n",
       "</table>\n",
       "</div>"
      ],
      "text/plain": [
       "Empty DataFrame\n",
       "Columns: [객실등급, 성별, 나이, 생존여부]\n",
       "Index: []"
      ]
     },
     "execution_count": 124,
     "metadata": {},
     "output_type": "execute_result"
    }
   ],
   "source": [
    "# 객실등급 열의 값이 1,2,3 이 아닌 행만 <--- 이상치 : 없음\n",
    "first_df[ ~ first_df[\"객실등급\"].isin([1,2,3]) ]"
   ]
  },
  {
   "cell_type": "code",
   "execution_count": 125,
   "id": "182082b6",
   "metadata": {},
   "outputs": [],
   "source": [
    "first_df.to_csv(\"extracted_data.csv\", index=False, encoding='cp949')"
   ]
  },
  {
   "cell_type": "code",
   "execution_count": 126,
   "id": "5ffb4eaa",
   "metadata": {},
   "outputs": [],
   "source": [
    "# 원핫 인코딩 - 성별\n",
    "from sklearn.preprocessing import OneHotEncoder\n",
    "import pandas as pd\n",
    "def main():\n",
    "    \n",
    "    # 데이터 불러오기\n",
    "    data = pd.read_csv('extracted_data.csv' , encoding='cp949')\n",
    "    \n",
    "    enc = OneHotEncoder(categories='auto')\n",
    "    sourcedata = [\n",
    "        ['male'],\n",
    "        ['female']\n",
    "    ]\n",
    "    enc.fit(sourcedata)\n",
    "    \n",
    "    # 해당 열을 추출하여 2D 배열로 변환\n",
    "    data_categorical = data[\"성별\"].values.reshape(-1, 1)\n",
    "    \n",
    "    # 원핫인코딩으로 번역\n",
    "    encoded_data = enc.transform(data_categorical).toarray() \n",
    "   \n",
    "    # 기존 데이터파일의 성별 칼럼 삭제\n",
    "    second_df = data.drop('성별', axis=1)\n",
    "    \n",
    "    # 변환된 데이터를 DataFrame으로 만들기\n",
    "    encoded_df = pd.DataFrame(encoded_data)    \n",
    "    encoded_df.columns= ['남성','여성']\n",
    "    \n",
    "    \n",
    "    # 칼럼 병합\n",
    "    result_data = pd.concat([second_df, encoded_df],axis=1)\n",
    "    \n",
    "    # 결과를 새로운 파일로 저장\n",
    "    result_data.to_csv('encoded_excel_data.csv', index=False)\n",
    "    \n",
    "if __name__ == '__main__':\n",
    "    main()\n",
    "    "
   ]
  },
  {
   "cell_type": "code",
   "execution_count": 127,
   "id": "ac958ea8",
   "metadata": {},
   "outputs": [
    {
     "data": {
      "text/html": [
       "<div>\n",
       "<style scoped>\n",
       "    .dataframe tbody tr th:only-of-type {\n",
       "        vertical-align: middle;\n",
       "    }\n",
       "\n",
       "    .dataframe tbody tr th {\n",
       "        vertical-align: top;\n",
       "    }\n",
       "\n",
       "    .dataframe thead th {\n",
       "        text-align: right;\n",
       "    }\n",
       "</style>\n",
       "<table border=\"1\" class=\"dataframe\">\n",
       "  <thead>\n",
       "    <tr style=\"text-align: right;\">\n",
       "      <th></th>\n",
       "      <th>객실등급</th>\n",
       "      <th>나이</th>\n",
       "      <th>생존여부</th>\n",
       "      <th>남성</th>\n",
       "      <th>여성</th>\n",
       "    </tr>\n",
       "  </thead>\n",
       "  <tbody>\n",
       "    <tr>\n",
       "      <th>0</th>\n",
       "      <td>3</td>\n",
       "      <td>22.0</td>\n",
       "      <td>0</td>\n",
       "      <td>0.0</td>\n",
       "      <td>1.0</td>\n",
       "    </tr>\n",
       "    <tr>\n",
       "      <th>1</th>\n",
       "      <td>1</td>\n",
       "      <td>38.0</td>\n",
       "      <td>1</td>\n",
       "      <td>1.0</td>\n",
       "      <td>0.0</td>\n",
       "    </tr>\n",
       "    <tr>\n",
       "      <th>2</th>\n",
       "      <td>3</td>\n",
       "      <td>26.0</td>\n",
       "      <td>1</td>\n",
       "      <td>1.0</td>\n",
       "      <td>0.0</td>\n",
       "    </tr>\n",
       "    <tr>\n",
       "      <th>3</th>\n",
       "      <td>1</td>\n",
       "      <td>35.0</td>\n",
       "      <td>1</td>\n",
       "      <td>1.0</td>\n",
       "      <td>0.0</td>\n",
       "    </tr>\n",
       "    <tr>\n",
       "      <th>4</th>\n",
       "      <td>3</td>\n",
       "      <td>35.0</td>\n",
       "      <td>0</td>\n",
       "      <td>0.0</td>\n",
       "      <td>1.0</td>\n",
       "    </tr>\n",
       "    <tr>\n",
       "      <th>...</th>\n",
       "      <td>...</td>\n",
       "      <td>...</td>\n",
       "      <td>...</td>\n",
       "      <td>...</td>\n",
       "      <td>...</td>\n",
       "    </tr>\n",
       "    <tr>\n",
       "      <th>709</th>\n",
       "      <td>3</td>\n",
       "      <td>39.0</td>\n",
       "      <td>0</td>\n",
       "      <td>1.0</td>\n",
       "      <td>0.0</td>\n",
       "    </tr>\n",
       "    <tr>\n",
       "      <th>710</th>\n",
       "      <td>2</td>\n",
       "      <td>27.0</td>\n",
       "      <td>0</td>\n",
       "      <td>0.0</td>\n",
       "      <td>1.0</td>\n",
       "    </tr>\n",
       "    <tr>\n",
       "      <th>711</th>\n",
       "      <td>1</td>\n",
       "      <td>19.0</td>\n",
       "      <td>1</td>\n",
       "      <td>1.0</td>\n",
       "      <td>0.0</td>\n",
       "    </tr>\n",
       "    <tr>\n",
       "      <th>712</th>\n",
       "      <td>1</td>\n",
       "      <td>26.0</td>\n",
       "      <td>1</td>\n",
       "      <td>0.0</td>\n",
       "      <td>1.0</td>\n",
       "    </tr>\n",
       "    <tr>\n",
       "      <th>713</th>\n",
       "      <td>3</td>\n",
       "      <td>32.0</td>\n",
       "      <td>0</td>\n",
       "      <td>0.0</td>\n",
       "      <td>1.0</td>\n",
       "    </tr>\n",
       "  </tbody>\n",
       "</table>\n",
       "<p>714 rows × 5 columns</p>\n",
       "</div>"
      ],
      "text/plain": [
       "     객실등급    나이  생존여부   남성   여성\n",
       "0       3  22.0     0  0.0  1.0\n",
       "1       1  38.0     1  1.0  0.0\n",
       "2       3  26.0     1  1.0  0.0\n",
       "3       1  35.0     1  1.0  0.0\n",
       "4       3  35.0     0  0.0  1.0\n",
       "..    ...   ...   ...  ...  ...\n",
       "709     3  39.0     0  1.0  0.0\n",
       "710     2  27.0     0  0.0  1.0\n",
       "711     1  19.0     1  1.0  0.0\n",
       "712     1  26.0     1  0.0  1.0\n",
       "713     3  32.0     0  0.0  1.0\n",
       "\n",
       "[714 rows x 5 columns]"
      ]
     },
     "execution_count": 127,
     "metadata": {},
     "output_type": "execute_result"
    }
   ],
   "source": [
    "data = pd.read_csv('encoded_excel_data.csv')\n",
    "\n",
    "data"
   ]
  },
  {
   "cell_type": "code",
   "execution_count": 139,
   "id": "a3fff7df",
   "metadata": {
    "scrolled": true
   },
   "outputs": [],
   "source": [
    "# RandomForestClassifier 로 학습\n",
    "\n",
    "import pandas as pd\n",
    "from sklearn.model_selection import train_test_split\n",
    "from sklearn.preprocessing import MinMaxScaler\n",
    "from sklearn.ensemble import RandomForestClassifier\n",
    "from sklearn.metrics import accuracy_score\n",
    "\n",
    "# 데이터 불러오기\n",
    "data = pd.read_csv('encoded_excel_data.csv')\n",
    "\n",
    "# 입력 특성과 타겟 값 나누기\n",
    "x = data[['객실등급', '나이', '남성','여성']]\n",
    "y = data['생존여부']\n",
    "\n",
    "# 데이터 정규화\n",
    "scaler = MinMaxScaler()\n",
    "x_normalized = scaler.fit_transform(x)\n",
    "\n",
    "# 학습 데이터와 테스트 데이터로 나누기\n",
    "x_train, x_test, y_train, y_test = train_test_split(x_normalized, y)\n",
    "\n",
    "# 랜덤 포레스트 모델 생성\n",
    "model = RandomForestClassifier(random_state=42)\n",
    "\n",
    "# #SVC이용방법\n",
    "# model = svm.SVC()\n",
    "\n",
    "# 모델 학습\n",
    "model.fit(x_train, y_train)\n",
    "\n",
    "# 테스트 데이터에 대한 예측\n",
    "y_pred = model.predict(x_test)\n"
   ]
  },
  {
   "cell_type": "code",
   "execution_count": 140,
   "id": "0ccddc67",
   "metadata": {},
   "outputs": [
    {
     "name": "stdout",
     "output_type": "stream",
     "text": [
      "정확도: 0.8100558659217877\n"
     ]
    }
   ],
   "source": [
    "# 정확도\n",
    "accuracy = accuracy_score(y_test, y_pred)\n",
    "print(f'정확도: {accuracy}')"
   ]
  },
  {
   "cell_type": "code",
   "execution_count": 141,
   "id": "9e665e4e",
   "metadata": {},
   "outputs": [
    {
     "name": "stdout",
     "output_type": "stream",
     "text": [
      "재현율: 0.7941176470588235\n"
     ]
    }
   ],
   "source": [
    "# 재현율\n",
    "recall = recall_score(y_test, y_pred)\n",
    "print(f'재현율: {recall}')"
   ]
  },
  {
   "cell_type": "code",
   "execution_count": 142,
   "id": "55fec070",
   "metadata": {},
   "outputs": [
    {
     "name": "stdout",
     "output_type": "stream",
     "text": [
      "정밀도: 0.7297297297297297\n"
     ]
    }
   ],
   "source": [
    "# 정밀도\n",
    "precision = precision_score(y_test, y_pred)\n",
    "print(f'정밀도: {precision}')"
   ]
  }
 ],
 "metadata": {
  "kernelspec": {
   "display_name": "Python 3 (ipykernel)",
   "language": "python",
   "name": "python3"
  },
  "language_info": {
   "codemirror_mode": {
    "name": "ipython",
    "version": 3
   },
   "file_extension": ".py",
   "mimetype": "text/x-python",
   "name": "python",
   "nbconvert_exporter": "python",
   "pygments_lexer": "ipython3",
   "version": "3.11.5"
  }
 },
 "nbformat": 4,
 "nbformat_minor": 5
}
