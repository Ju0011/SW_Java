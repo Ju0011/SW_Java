{
 "cells": [
  {
   "cell_type": "code",
   "execution_count": null,
   "id": "0917faa7",
   "metadata": {},
   "outputs": [],
   "source": [
    "주제 : 뉴스를 입력받아 야구/ E-sports/ 그외 뉴스인지 분류\n",
    "\n",
    "E-sports 뉴스 크롤링\n",
    "    \n",
    "    \n",
    "1. 데이터 수집, 전처리\n",
    "2. 모델 생성 및 학습\n",
    "3. 평가, 예측프로그램 작성\n",
    "4. "
   ]
  },
  {
   "cell_type": "code",
   "execution_count": 64,
   "id": "b9982ccc",
   "metadata": {},
   "outputs": [
    {
     "name": "stdout",
     "output_type": "stream",
     "text": [
      "4\n"
     ]
    },
    {
     "ename": "IndexError",
     "evalue": "list index out of range",
     "output_type": "error",
     "traceback": [
      "\u001b[1;31m---------------------------------------------------------------------------\u001b[0m",
      "\u001b[1;31mIndexError\u001b[0m                                Traceback (most recent call last)",
      "Cell \u001b[1;32mIn[64], line 11\u001b[0m\n\u001b[0;32m      9\u001b[0m cont \u001b[38;5;241m=\u001b[39m []\n\u001b[0;32m     10\u001b[0m \u001b[38;5;28;01mfor\u001b[39;00m i \u001b[38;5;129;01min\u001b[39;00m \u001b[38;5;28mrange\u001b[39m(\u001b[38;5;28mlen\u001b[39m(game_list)):\n\u001b[1;32m---> 11\u001b[0m     driver\u001b[38;5;241m.\u001b[39mget(\u001b[38;5;124mf\u001b[39m\u001b[38;5;124m\"\u001b[39m\u001b[38;5;124mhttps://game.naver.com/esports/\u001b[39m\u001b[38;5;132;01m{\u001b[39;00mgame_list[idx]\u001b[38;5;132;01m}\u001b[39;00m\u001b[38;5;124m/news/\u001b[39m\u001b[38;5;132;01m{\u001b[39;00mgame_list_2[idx]\u001b[38;5;132;01m}\u001b[39;00m\u001b[38;5;124m\"\u001b[39m)  \n\u001b[0;32m     13\u001b[0m \u001b[38;5;66;03m# search_button = driver.find_element(By.XPATH, '/html/body/section/header/div[1]/div/div/div[2]/div[3]/a')\u001b[39;00m\n\u001b[0;32m     14\u001b[0m \u001b[38;5;66;03m# search_button.click()\u001b[39;00m\n\u001b[0;32m     15\u001b[0m \u001b[38;5;66;03m# keyword_element = driver.find_element(By.XPATH, '//*[@id=\"u_hs\"]/div/div/input')\u001b[39;00m\n\u001b[1;32m   (...)\u001b[0m\n\u001b[0;32m     18\u001b[0m \u001b[38;5;66;03m# search_button_2 = driver.find_element(By.XPATH, '//*[@id=\"u_hs\"]/div/div/button[2]')\u001b[39;00m\n\u001b[0;32m     19\u001b[0m \u001b[38;5;66;03m# search_button_2.click()\u001b[39;00m\n\u001b[0;32m     21\u001b[0m     html \u001b[38;5;241m=\u001b[39m driver\u001b[38;5;241m.\u001b[39mpage_source\n",
      "\u001b[1;31mIndexError\u001b[0m: list index out of range"
     ]
    }
   ],
   "source": [
    "from selenium import webdriver\n",
    "from selenium.webdriver.common.by import By\n",
    "from bs4 import BeautifulSoup\n",
    "\n",
    "game_list = [\"League_of_Legends\", \"Player_Unknowns_Battle_Grounds\", \"Valorant\", \"general\"]\n",
    "game_list_2 = [\"lol\", \"pubg\", \"valorant\", \"esports_general\"]\n",
    "driver = webdriver.Chrome()\n",
    "print(len(game_list))\n",
    "cont = []\n",
    "for i in range(len(game_list)):\n",
    "    driver.get(f\"https://game.naver.com/esports/{game_list[idx]}/news/{game_list_2[idx]}\")  \n",
    "\n",
    "# search_button = driver.find_element(By.XPATH, '/html/body/section/header/div[1]/div/div/div[2]/div[3]/a')\n",
    "# search_button.click()\n",
    "# keyword_element = driver.find_element(By.XPATH, '//*[@id=\"u_hs\"]/div/div/input')\n",
    "# keyword_element.clear()\n",
    "# keyword_element.send_keys(\"e-sports\")\n",
    "# search_button_2 = driver.find_element(By.XPATH, '//*[@id=\"u_hs\"]/div/div/button[2]')\n",
    "# search_button_2.click()\n",
    "\n",
    "    html = driver.page_source\n",
    "\n",
    "    soup = BeautifulSoup(html, 'html.parser')\n",
    "    cont.append(soup)\n",
    "\n",
    "cont"
   ]
  },
  {
   "cell_type": "code",
   "execution_count": 59,
   "id": "e0adf539",
   "metadata": {},
   "outputs": [
    {
     "data": {
      "text/plain": [
       "[]"
      ]
     },
     "execution_count": 59,
     "metadata": {},
     "output_type": "execute_result"
    }
   ],
   "source": [
    "group_news_elements = soup.select(\".group_news\")\n",
    "\n",
    "# 클래스 내부의 링크 추출\n",
    "news_urls = []\n",
    "title_list = []\n",
    "for group_news in group_news_elements:\n",
    "    link_elements = group_news.find_all(\"a\", class_=\"news_tit\")\n",
    "    title_elements = group_news.find_all(\"a\", class_=\"title\")\n",
    "    \n",
    "    for link_element in link_elements:\n",
    "        news_urls.append(link_element[\"href\"])\n",
    "        title_list.append(link_element[\"title\"])\n",
    "        \n",
    "#print(news_urls)\n",
    "news_urls\n",
    "#print(title_list)"
   ]
  },
  {
   "cell_type": "code",
   "execution_count": 54,
   "id": "d65fe1e8",
   "metadata": {},
   "outputs": [
    {
     "name": "stdout",
     "output_type": "stream",
     "text": [
      "https://www.newsculture.press/news/articleView.html?idxno=544115\n",
      "1.csv 저장완료\n",
      "http://news.mt.co.kr/mtview.php?no=2024030312533969334\n"
     ]
    },
    {
     "ename": "NoSuchWindowException",
     "evalue": "Message: no such window: target window already closed\nfrom unknown error: web view not found\n  (Session info: chrome=122.0.6261.71)\nStacktrace:\n\tGetHandleVerifier [0x00007FF660ACAD22+56930]\n\t(No symbol) [0x00007FF660A3F622]\n\t(No symbol) [0x00007FF6608F42E5]\n\t(No symbol) [0x00007FF6608D1D4C]\n\t(No symbol) [0x00007FF6609623F7]\n\t(No symbol) [0x00007FF660977891]\n\t(No symbol) [0x00007FF66095BA43]\n\t(No symbol) [0x00007FF66092D438]\n\t(No symbol) [0x00007FF66092E4D1]\n\tGetHandleVerifier [0x00007FF660E46AAD+3709933]\n\tGetHandleVerifier [0x00007FF660E9FFED+4075821]\n\tGetHandleVerifier [0x00007FF660E9817F+4043455]\n\tGetHandleVerifier [0x00007FF660B69756+706710]\n\t(No symbol) [0x00007FF660A4B8FF]\n\t(No symbol) [0x00007FF660A46AE4]\n\t(No symbol) [0x00007FF660A46C3C]\n\t(No symbol) [0x00007FF660A368F4]\n\tBaseThreadInitThunk [0x00007FF83D11257D+29]\n\tRtlUserThreadStart [0x00007FF83DEAAA58+40]\n",
     "output_type": "error",
     "traceback": [
      "\u001b[1;31m---------------------------------------------------------------------------\u001b[0m",
      "\u001b[1;31mNoSuchWindowException\u001b[0m                     Traceback (most recent call last)",
      "Cell \u001b[1;32mIn[54], line 9\u001b[0m\n\u001b[0;32m      6\u001b[0m \u001b[38;5;28mprint\u001b[39m(link_url)\n\u001b[0;32m      8\u001b[0m driver \u001b[38;5;241m=\u001b[39m webdriver\u001b[38;5;241m.\u001b[39mChrome()\n\u001b[1;32m----> 9\u001b[0m driver\u001b[38;5;241m.\u001b[39mget(link_url)  \n\u001b[0;32m     11\u001b[0m html \u001b[38;5;241m=\u001b[39m driver\u001b[38;5;241m.\u001b[39mpage_source\n\u001b[0;32m     13\u001b[0m soup \u001b[38;5;241m=\u001b[39m BeautifulSoup(html, \u001b[38;5;124m'\u001b[39m\u001b[38;5;124mhtml.parser\u001b[39m\u001b[38;5;124m'\u001b[39m)\n",
      "File \u001b[1;32m~\\anaconda3\\Lib\\site-packages\\selenium\\webdriver\\remote\\webdriver.py:356\u001b[0m, in \u001b[0;36mWebDriver.get\u001b[1;34m(self, url)\u001b[0m\n\u001b[0;32m    354\u001b[0m \u001b[38;5;28;01mdef\u001b[39;00m \u001b[38;5;21mget\u001b[39m(\u001b[38;5;28mself\u001b[39m, url: \u001b[38;5;28mstr\u001b[39m) \u001b[38;5;241m-\u001b[39m\u001b[38;5;241m>\u001b[39m \u001b[38;5;28;01mNone\u001b[39;00m:\n\u001b[0;32m    355\u001b[0m \u001b[38;5;250m    \u001b[39m\u001b[38;5;124;03m\"\"\"Loads a web page in the current browser session.\"\"\"\u001b[39;00m\n\u001b[1;32m--> 356\u001b[0m     \u001b[38;5;28mself\u001b[39m\u001b[38;5;241m.\u001b[39mexecute(Command\u001b[38;5;241m.\u001b[39mGET, {\u001b[38;5;124m\"\u001b[39m\u001b[38;5;124murl\u001b[39m\u001b[38;5;124m\"\u001b[39m: url})\n",
      "File \u001b[1;32m~\\anaconda3\\Lib\\site-packages\\selenium\\webdriver\\remote\\webdriver.py:347\u001b[0m, in \u001b[0;36mWebDriver.execute\u001b[1;34m(self, driver_command, params)\u001b[0m\n\u001b[0;32m    345\u001b[0m response \u001b[38;5;241m=\u001b[39m \u001b[38;5;28mself\u001b[39m\u001b[38;5;241m.\u001b[39mcommand_executor\u001b[38;5;241m.\u001b[39mexecute(driver_command, params)\n\u001b[0;32m    346\u001b[0m \u001b[38;5;28;01mif\u001b[39;00m response:\n\u001b[1;32m--> 347\u001b[0m     \u001b[38;5;28mself\u001b[39m\u001b[38;5;241m.\u001b[39merror_handler\u001b[38;5;241m.\u001b[39mcheck_response(response)\n\u001b[0;32m    348\u001b[0m     response[\u001b[38;5;124m\"\u001b[39m\u001b[38;5;124mvalue\u001b[39m\u001b[38;5;124m\"\u001b[39m] \u001b[38;5;241m=\u001b[39m \u001b[38;5;28mself\u001b[39m\u001b[38;5;241m.\u001b[39m_unwrap_value(response\u001b[38;5;241m.\u001b[39mget(\u001b[38;5;124m\"\u001b[39m\u001b[38;5;124mvalue\u001b[39m\u001b[38;5;124m\"\u001b[39m, \u001b[38;5;28;01mNone\u001b[39;00m))\n\u001b[0;32m    349\u001b[0m     \u001b[38;5;28;01mreturn\u001b[39;00m response\n",
      "File \u001b[1;32m~\\anaconda3\\Lib\\site-packages\\selenium\\webdriver\\remote\\errorhandler.py:229\u001b[0m, in \u001b[0;36mErrorHandler.check_response\u001b[1;34m(self, response)\u001b[0m\n\u001b[0;32m    227\u001b[0m         alert_text \u001b[38;5;241m=\u001b[39m value[\u001b[38;5;124m\"\u001b[39m\u001b[38;5;124malert\u001b[39m\u001b[38;5;124m\"\u001b[39m]\u001b[38;5;241m.\u001b[39mget(\u001b[38;5;124m\"\u001b[39m\u001b[38;5;124mtext\u001b[39m\u001b[38;5;124m\"\u001b[39m)\n\u001b[0;32m    228\u001b[0m     \u001b[38;5;28;01mraise\u001b[39;00m exception_class(message, screen, stacktrace, alert_text)  \u001b[38;5;66;03m# type: ignore[call-arg]  # mypy is not smart enough here\u001b[39;00m\n\u001b[1;32m--> 229\u001b[0m \u001b[38;5;28;01mraise\u001b[39;00m exception_class(message, screen, stacktrace)\n",
      "\u001b[1;31mNoSuchWindowException\u001b[0m: Message: no such window: target window already closed\nfrom unknown error: web view not found\n  (Session info: chrome=122.0.6261.71)\nStacktrace:\n\tGetHandleVerifier [0x00007FF660ACAD22+56930]\n\t(No symbol) [0x00007FF660A3F622]\n\t(No symbol) [0x00007FF6608F42E5]\n\t(No symbol) [0x00007FF6608D1D4C]\n\t(No symbol) [0x00007FF6609623F7]\n\t(No symbol) [0x00007FF660977891]\n\t(No symbol) [0x00007FF66095BA43]\n\t(No symbol) [0x00007FF66092D438]\n\t(No symbol) [0x00007FF66092E4D1]\n\tGetHandleVerifier [0x00007FF660E46AAD+3709933]\n\tGetHandleVerifier [0x00007FF660E9FFED+4075821]\n\tGetHandleVerifier [0x00007FF660E9817F+4043455]\n\tGetHandleVerifier [0x00007FF660B69756+706710]\n\t(No symbol) [0x00007FF660A4B8FF]\n\t(No symbol) [0x00007FF660A46AE4]\n\t(No symbol) [0x00007FF660A46C3C]\n\t(No symbol) [0x00007FF660A368F4]\n\tBaseThreadInitThunk [0x00007FF83D11257D+29]\n\tRtlUserThreadStart [0x00007FF83DEAAA58+40]\n"
     ]
    }
   ],
   "source": [
    "import pandas as pd\n",
    "\n",
    "data = {\"Title\":[],\"Content\": []}\n",
    "\n",
    "for idx,link_url, in enumerate(news_urls,start=1):\n",
    "     \n",
    "    driver = webdriver.Chrome()\n",
    "    driver.get(link_url)  \n",
    "\n",
    "    html = driver.page_source\n",
    "\n",
    "    soup = BeautifulSoup(html, 'html.parser')\n",
    "    text_only = soup.get_text(separator=' ', strip=True)\n",
    "    \n",
    "    data[\"Title\"].append(title_list[idx])\n",
    "    data[\"Content\"].append(text_only)\n",
    "    df = pd.DataFrame(data)\n",
    "    df.to_csv(f'{idx}.csv', encoding='utf-8')\n",
    "    print(f'{idx}.csv 저장완료')"
   ]
  }
 ],
 "metadata": {
  "kernelspec": {
   "display_name": "Python 3 (ipykernel)",
   "language": "python",
   "name": "python3"
  },
  "language_info": {
   "codemirror_mode": {
    "name": "ipython",
    "version": 3
   },
   "file_extension": ".py",
   "mimetype": "text/x-python",
   "name": "python",
   "nbconvert_exporter": "python",
   "pygments_lexer": "ipython3",
   "version": "3.11.5"
  }
 },
 "nbformat": 4,
 "nbformat_minor": 5
}
