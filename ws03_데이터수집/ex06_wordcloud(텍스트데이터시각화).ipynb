{
 "cells": [
  {
   "cell_type": "code",
   "execution_count": 1,
   "metadata": {},
   "outputs": [],
   "source": [
    "import matplotlib.pyplot as plt\n",
    "%matplotlib inline \n",
    "\n",
    "from wordcloud import WordCloud, STOPWORDS\n",
    "text=open(\"a.txt\",\"r\", encoding=\"utf-8\").read()\n",
    "\n",
    "spwords=set(STOPWORDS) ## 기본적으로 많이 쓰는 단어\n",
    "spwords.add('10월') ##  제외하고 싶은 단어 추가\n",
    "\n",
    "wordcloud = WordCloud(max_font_size=200,\n",
    "                      font_path='c:/Windows/fonts/malgun.ttf',\n",
    "#                    font_path=\"/System/Library/fonts/AppleSDGothicNeo.ttc\",  # Mac OS\n",
    "                      stopwords=spwords,background_color='#FFFFFF',\n",
    "                      max_words = 2000,\n",
    "                      #TODO=\"spring_r\",\n",
    "                      width=1200,height=800).generate(text)"
   ]
  },
  {
   "cell_type": "code",
   "execution_count": 1,
   "metadata": {},
   "outputs": [],
   "source": [
    "plt.figure(figsize=(10,8))\n",
    "plt.imshow(wordcloud)\n",
    "plt.tight_layout(pad=0)\n",
    "plt.axis('off')\n",
    "\n",
    "plt.savefig('wordcloud_image4.png', bbox_inches='tight')\n",
    "plt.show()\n"
   ]
  },
  {
   "cell_type": "code",
   "execution_count": null,
   "metadata": {},
   "outputs": [],
   "source": []
  }
 ],
 "metadata": {
  "kernelspec": {
   "display_name": "Python 3 (ipykernel)",
   "language": "python",
   "name": "python3"
  },
  "language_info": {
   "codemirror_mode": {
    "name": "ipython",
    "version": 3
   },
   "file_extension": ".py",
   "mimetype": "text/x-python",
   "name": "python",
   "nbconvert_exporter": "python",
   "pygments_lexer": "ipython3",
   "version": "3.10.9"
  }
 },
 "nbformat": 4,
 "nbformat_minor": 2
}
