{
 "cells": [
  {
   "cell_type": "code",
   "execution_count": 1,
   "metadata": {
    "id": "q52FzirfzFSD"
   },
   "outputs": [],
   "source": [
    "import urllib.request\n",
    "client_id = \"5BE6Vc9HVCIU7_SKWbY_\"\n",
    "client_secret = \"GQe2e_vSC2\""
   ]
  },
  {
   "cell_type": "code",
   "execution_count": 2,
   "metadata": {
    "id": "ikjSkDT9zFSE"
   },
   "outputs": [],
   "source": [
    "def makeURL(sNode, search_text ):\n",
    "    base = \"https://openapi.naver.com/v1/search\"\n",
    "    node = \"/%s.xml\" % sNode\n",
    "    parameters = \"?query=%s\" % urllib.parse.quote(search_text)\n",
    "    url = base + node + parameters\n",
    "    return url"
   ]
  },
  {
   "cell_type": "code",
   "execution_count": 3,
   "metadata": {
    "id": "kUhZZSJyzFSE"
   },
   "outputs": [],
   "source": [
    "def requestURL(url):\n",
    "    req = urllib.request.Request(url)\n",
    "    req.add_header(\"X-Naver-Client-Id\",   client_id)  # open api 키를 header에 추가\n",
    "    req.add_header(\"X-Naver-Client-Secret\",  client_secret)  # open api 키를 header에 추가\n",
    "    try:\n",
    "        response = urllib.request.urlopen(req)  # 크롤링\n",
    "\n",
    "        if response.status == 200:  # 200이면 정상 응답\n",
    "            print(\"Url Request Success\")\n",
    "            data = response.read().decode('utf-8')\n",
    "            return data  # 크롤링 결과 반환\n",
    "\n",
    "    except Exception as e:  # url로 요청 중 오류가 발생시 실행\n",
    "        print(e)\n",
    "        print(\"Error for URL : %s\" %url)\n",
    "        return None"
   ]
  },
  {
   "cell_type": "code",
   "execution_count": 6,
   "metadata": {
    "id": "feP5TjBHzFSF"
   },
   "outputs": [],
   "source": [
    "def main():\n",
    "    sNode = 'news'  # 'news', 'blog', 'cafearticle'\n",
    "    search_text = input(\">검색할 키워드를 입력하세요. : \")\n",
    "\n",
    "    targetURL = makeURL(sNode, search_text )    #1. URL 만들기\n",
    "    result = requestURL(targetURL)              #2. URL로 크롤링\n",
    "    print(result)\n",
    "    \n",
    "    bs = BeautifulSoup(result, \"lxml\")\n",
    "    print(bs.find_all('title'))\n"
   ]
  },
  {
   "cell_type": "code",
   "execution_count": 7,
   "metadata": {
    "id": "HukEXtcJzFSF"
   },
   "outputs": [
    {
     "name": "stdout",
     "output_type": "stream",
     "text": [
      ">검색할 키워드를 입력하세요. : 서경대학교\n",
      "Url Request Success\n",
      "<?xml version=\"1.0\" encoding=\"UTF-8\"?><rss version=\"2.0\"><channel><title>Naver Open API - news ::&apos;서경대학교&apos;</title><link>https://search.naver.com</link><description>Naver Search Result</description><lastBuildDate>Tue, 20 Feb 2024 14:27:42 +0900</lastBuildDate><total>25249</total><start>1</start><display>10</display><item><title>색소폰 연주자 김혁, 롯데백화점 특별 초청 강연</title><originallink>http://news.tf.co.kr/read/livingculture/2076960.htm</originallink><link>https://n.news.naver.com/mnews/article/629/0000268244?sid=103</link><description>세종&lt;b&gt;대학교&lt;/b&gt;, 인천재능대 실용음악과 출강과 &lt;b&gt;서경대&lt;/b&gt;학교에서 색소폰 전공 교수로 재직 중이다. 이번 콘서트에선 &amp;quot;What a Wonderful World&amp;quot;, &amp;quot;Autumn Leaves&amp;quot;, &amp;quot;Take Five&amp;quot; 등의 곡과 함께 클래식 쇼팽의 &apos;녹턴&apos;, 유재하의 &amp;quot;사랑하기... </description><pubDate>Tue, 20 Feb 2024 11:43:00 +0900</pubDate></item><item><title>MBC아카데미뷰티학원 안산점 &amp;quot;정화예술&lt;b&gt;대학교&lt;/b&gt; 4년 연속 입학성적 우수장학생 ...</title><originallink>https://www.job-post.co.kr/news/articleView.html?idxno=95963</originallink><link>https://www.job-post.co.kr/news/articleView.html?idxno=95963</link><description>안산미용학원 MBC아카데미뷰티학원 안산점에서는 정화예술&lt;b&gt;대학교&lt;/b&gt; 미용예술학부 뷰티네일전공학과에 4년... 미용 입시에 2년제 대학 뿐만 아니라 4년제 &lt;b&gt;서경대&lt;/b&gt;학교 실기우수자전형 대비반도 함께 전략적으로 수업을... </description><pubDate>Tue, 20 Feb 2024 10:46:00 +0900</pubDate></item><item><title>신윤복 회화 재해석한 VR 영화 &apos;단이전&apos;, 美 영화제 초청</title><originallink>http://www.edaily.co.kr/news/newspath.asp?newsid=01800726638792488</originallink><link>https://n.news.naver.com/mnews/article/018/0005676710?sid=103</link><description>유상현 감독(&lt;b&gt;서경대&lt;/b&gt;학교 융합대학 교수)이 연출했고, 뮤지컬 ‘원더티켓’ 등 다양한 장르를 넘나드는 강보람 작가가 시나리오를 맡았다. 영화는 신윤복 회화에 담긴 해학적 요소를 모티브로 주인공 단이가... </description><pubDate>Tue, 20 Feb 2024 10:14:00 +0900</pubDate></item><item><title>&apos;단이전: 미인도 이야기&apos;, 美 &apos;사우스 바이 사우스웨스트&apos; 영화제 공식 초청</title><originallink>https://www.newspim.com/news/view/20240220000291</originallink><link>https://www.newspim.com/news/view/20240220000291</link><description>영화는 유상현 감독(&lt;b&gt;서경대&lt;/b&gt;학교 융합대학 교수)이 연출했으며, 뮤지컬 &apos;원더티켓&apos; 등 다양한 장르를 넘나드는 강보람 작가가 시나리오를 맡았다. 김봉명 소리꾼이 전체 내레이션을 담당했고, 신윤복 원화 도판은... </description><pubDate>Tue, 20 Feb 2024 10:05:00 +0900</pubDate></item><item><title>&lt;b&gt;서경대&lt;/b&gt;, 9년 연속 교육국제화역량 우수인증대학 선정</title><originallink>https://www.joongang.co.kr/article/25229625</originallink><link>https://n.news.naver.com/mnews/article/025/0003342207?sid=102</link><description>&lt;b&gt;서경대&lt;/b&gt;학교(총장 김범준)는 교육부가 주관한 &apos;2023년도 교육국제화역량 인증제(IEQAS)&apos; 평가에서 최고등급인 ‘우수 인증대학’에 선정됐다고 14일 밝혔다. 이로써 &lt;b&gt;서경대&lt;/b&gt;는 지난 2015년부터 현재까지 9년 연속 인증대학에... </description><pubDate>Mon, 19 Feb 2024 16:02:00 +0900</pubDate></item><item><title>연극 &apos;그때도 오늘&apos;, 최영준·오의식→양경원 합류…3월 개막</title><originallink>http://www.joynews24.com/view/1688423</originallink><link>http://www.joynews24.com/view/1688423</link><description>관람하면 미공개 포토카드를 증정하고, 공연을 관람한 후 SNS에 후기를 남기면 추첨을 통해 배우들의 폴라로이드를 증정하는 이벤트를 진행한다. 3월 15일 &lt;b&gt;서경대&lt;/b&gt;학교 공연예술센터 스콘2관에서 개막한다. 조이뉴스24 /</description><pubDate>Mon, 19 Feb 2024 15:54:00 +0900</pubDate></item><item><title>&apos;오퍼스 체임버 소사이어티&apos; 창단 &amp;quot;실내악·한국 작곡가들 매력 널리 알릴 것...</title><originallink>https://www.womennews.co.kr/news/articleView.html?idxno=245593</originallink><link>https://n.news.naver.com/mnews/article/310/0000114487?sid=103</link><description>소니뮤직에서 음반을 두 장 발매했고 연세대, 안양대, 추계예대, &lt;b&gt;서경대&lt;/b&gt;, 경희대 등에서 후학을 양성했다. 그는 &amp;quot;국내 음악계의 예술적 다양성을 높이고 한국 음악가들이 설 무대를 늘리는 데 앞장서겠다&amp;quot;며 &amp;quot;OCS의... </description><pubDate>Mon, 19 Feb 2024 15:39:00 +0900</pubDate></item><item><title>&lt;b&gt;서경대&lt;/b&gt;, 교육국제화역량 ‘우수 인증대학’ 선정</title><originallink>https://www.naeil.com/news/read/501747?ref=naver</originallink><link>https://www.naeil.com/news/read/501747?ref=naver</link><description>2015년부터 9년 연속 선정 &lt;b&gt;서경대&lt;/b&gt;학교(총장 김범준)는 교육부가 주관한 ‘2023년도 교육국제화역량 인증제(IEQAS)’ 평가에서 최고등급인 ‘우수 인증대학’에 선정됐다고 19일 밝혔다. &lt;b&gt;서경대&lt;/b&gt;는 지난 2015년부터 현재까지... </description><pubDate>Mon, 19 Feb 2024 14:46:00 +0900</pubDate></item><item><title>합격의 비밀을 찾았습니다만 37 / 국가직을 50일 앞두고 우리의 다짐입니다</title><originallink>http://www.lec.co.kr/news/articleView.html?idxno=745723</originallink><link>http://www.lec.co.kr/news/articleView.html?idxno=745723</link><description>現 메가공무원 국어 대표 강사 前 박문각남부고시학원 국어 전임 강사 KG패스원 국어 전임 강사 &lt;b&gt;서경대&lt;/b&gt;학교, 홍익&lt;b&gt;대학교&lt;/b&gt;, 웅지세무&lt;b&gt;대학교&lt;/b&gt; 출강 비타에듀, 이투스청솔, 메가스터디 언어영역 강사 https://cafe.daum.net/naraeyoujin</description><pubDate>Mon, 19 Feb 2024 12:16:00 +0900</pubDate></item><item><title>김세정 &amp;quot;템플 문 앞에서 두려움과 싸워...회식에 취해 마무리가&amp;quot;</title><originallink>https://www.mhnse.com/news/articleView.html?idxno=255018</originallink><link>https://n.news.naver.com/mnews/article/445/0000174205?sid=106</link><description>그의 우여곡절 많았던 학창 시절 이야기를 그려낸 작품이다. 김세정은 주인공 템플 역을 맡아 열연했다. 지난해 12월 15일부터 올해 2월 18일까지 &lt;b&gt;서경대&lt;/b&gt;학교 공연예술센터 스콘1관에서 공연됐다. 사진=김세정 인스타그램</description><pubDate>Mon, 19 Feb 2024 10:46:00 +0900</pubDate></item></channel></rss>\n"
     ]
    },
    {
     "ename": "NameError",
     "evalue": "name 'BeautifulSoup' is not defined",
     "output_type": "error",
     "traceback": [
      "\u001b[1;31m---------------------------------------------------------------------------\u001b[0m",
      "\u001b[1;31mNameError\u001b[0m                                 Traceback (most recent call last)",
      "Cell \u001b[1;32mIn[7], line 2\u001b[0m\n\u001b[0;32m      1\u001b[0m \u001b[38;5;28;01mif\u001b[39;00m \u001b[38;5;18m__name__\u001b[39m\u001b[38;5;241m==\u001b[39m\u001b[38;5;124m\"\u001b[39m\u001b[38;5;124m__main__\u001b[39m\u001b[38;5;124m\"\u001b[39m :\n\u001b[1;32m----> 2\u001b[0m     main()\n",
      "Cell \u001b[1;32mIn[6], line 9\u001b[0m, in \u001b[0;36mmain\u001b[1;34m()\u001b[0m\n\u001b[0;32m      6\u001b[0m result \u001b[38;5;241m=\u001b[39m requestURL(targetURL)              \u001b[38;5;66;03m#2. URL로 크롤링\u001b[39;00m\n\u001b[0;32m      7\u001b[0m \u001b[38;5;28mprint\u001b[39m(result)\n\u001b[1;32m----> 9\u001b[0m bs \u001b[38;5;241m=\u001b[39m BeautifulSoup(result, \u001b[38;5;124m\"\u001b[39m\u001b[38;5;124mlxml\u001b[39m\u001b[38;5;124m\"\u001b[39m)\n\u001b[0;32m     10\u001b[0m \u001b[38;5;28mprint\u001b[39m(bs\u001b[38;5;241m.\u001b[39mfind_all(\u001b[38;5;124m'\u001b[39m\u001b[38;5;124mtitle\u001b[39m\u001b[38;5;124m'\u001b[39m))\n",
      "\u001b[1;31mNameError\u001b[0m: name 'BeautifulSoup' is not defined"
     ]
    }
   ],
   "source": [
    "if __name__==\"__main__\" :\n",
    "    main()"
   ]
  },
  {
   "cell_type": "code",
   "execution_count": null,
   "metadata": {
    "id": "y5fbAM-uzFSF"
   },
   "outputs": [],
   "source": []
  },
  {
   "cell_type": "code",
   "execution_count": null,
   "metadata": {
    "id": "npfSzEAJzFSG"
   },
   "outputs": [],
   "source": []
  }
 ],
 "metadata": {
  "colab": {
   "provenance": []
  },
  "kernelspec": {
   "display_name": "Python 3 (ipykernel)",
   "language": "python",
   "name": "python3"
  },
  "language_info": {
   "codemirror_mode": {
    "name": "ipython",
    "version": 3
   },
   "file_extension": ".py",
   "mimetype": "text/x-python",
   "name": "python",
   "nbconvert_exporter": "python",
   "pygments_lexer": "ipython3",
   "version": "3.11.5"
  }
 },
 "nbformat": 4,
 "nbformat_minor": 1
}
