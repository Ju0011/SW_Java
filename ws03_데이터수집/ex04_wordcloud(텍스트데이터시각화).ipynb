{
 "cells": [
  {
   "cell_type": "code",
   "execution_count": 5,
   "metadata": {},
   "outputs": [],
   "source": [
    "import matplotlib.pyplot as plt\n",
    "%matplotlib inline \n",
    "from wordcloud import  #TODO, STOPWORDS\n",
    "\n",
    "text= #TODO(\"a.txt\",\"r\", encoding=\"utf-8\"). #TODO()\n",
    "\n",
    "spwords=set(STOPWORDS) ## 기본적으로 많이 쓰는 단어는 제외\n",
    "spwords.add('10월') ##  제외하고 싶은 단어 추가"
   ]
  },
  {
   "cell_type": "code",
   "execution_count": 6,
   "metadata": {},
   "outputs": [],
   "source": [
    "# 워드 클라우드를 설정합니다. 한글이 있기 때문에 폰트도 넣어 줍니다.\n",
    "wordcloud =  #TODO(max_font_size=200,\n",
    "                      font_path='c:/Windows/fonts/malgun.ttf',\n",
    "#                       font_path = \"/System/Library/fonts/AppleSDGothicNeo.ttc\",  # Mac OS\n",
    "                   \n",
    "                      stopwords=spwords,\n",
    "                      background_color='#FFFFFF',\n",
    "                      width=1200,height=800).generate(text)"
   ]
  },
  {
   "cell_type": "code",
   "execution_count": 1,
   "metadata": {},
   "outputs": [],
   "source": [
    "plt.figure(figsize=(10,8))\n",
    "plt. #TODO( #TODO)\n",
    "plt.tight_layout(pad=0)\n",
    "plt.axis('off')\n",
    "\n",
    "plt. #TODO('wordcloud_image2.png', bbox_inches='tight')\n",
    "plt.show()"
   ]
  },
  {
   "cell_type": "code",
   "execution_count": null,
   "metadata": {},
   "outputs": [],
   "source": []
  }
 ],
 "metadata": {
  "kernelspec": {
   "display_name": "Python 3 (ipykernel)",
   "language": "python",
   "name": "python3"
  },
  "language_info": {
   "codemirror_mode": {
    "name": "ipython",
    "version": 3
   },
   "file_extension": ".py",
   "mimetype": "text/x-python",
   "name": "python",
   "nbconvert_exporter": "python",
   "pygments_lexer": "ipython3",
   "version": "3.10.9"
  }
 },
 "nbformat": 4,
 "nbformat_minor": 2
}
