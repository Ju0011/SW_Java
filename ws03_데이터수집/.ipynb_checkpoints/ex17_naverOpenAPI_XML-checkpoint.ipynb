{
 "cells": [
  {
   "cell_type": "code",
   "execution_count": 1,
   "metadata": {
    "id": "q52FzirfzFSD"
   },
   "outputs": [],
   "source": [
    "import urllib.request\n",
    "client_id = \"5BE6Vc9HVCIU7_SKWbY_\"\n",
    "client_secret = \"GQe2e_vSC2\""
   ]
  },
  {
   "cell_type": "code",
   "execution_count": 2,
   "metadata": {
    "id": "ikjSkDT9zFSE"
   },
   "outputs": [],
   "source": [
    "def makeURL(sNode, search_text ):\n",
    "    base = \"https://openapi.naver.com/v1/search\"\n",
    "    node = \"/%s.xml\" % sNode\n",
    "    parameters = \"?query=%s\" % urllib.parse.quote(search_text)\n",
    "    url = base + node + parameters\n",
    "    return url"
   ]
  },
  {
   "cell_type": "code",
   "execution_count": 3,
   "metadata": {
    "id": "kUhZZSJyzFSE"
   },
   "outputs": [],
   "source": [
    "def requestURL(url):\n",
    "    req = urllib.request.Request(url)\n",
    "    req.add_header(\"X-Naver-Client-Id\",   client_id)  # open api 키를 header에 추가\n",
    "    req.add_header(\"X-Naver-Client-Secret\",  client_secret)  # open api 키를 header에 추가\n",
    "    try:\n",
    "        response = urllib.request.urlopen(req)  # 크롤링\n",
    "\n",
    "        if response.status == 200:  # 200이면 정상 응답\n",
    "            print(\"Url Request Success\")\n",
    "            data = response.read().decode('utf-8')\n",
    "            return data  # 크롤링 결과 반환\n",
    "\n",
    "    except Exception as e:  # url로 요청 중 오류가 발생시 실행\n",
    "        print(e)\n",
    "        print(\"Error for URL : %s\" %url)\n",
    "        return None"
   ]
  },
  {
   "cell_type": "code",
   "execution_count": 4,
   "metadata": {
    "id": "feP5TjBHzFSF"
   },
   "outputs": [],
   "source": [
    "def main():\n",
    "    sNode = 'news'  # 'news', 'blog', 'cafearticle'\n",
    "    search_text = input(\">검색할 키워드를 입력하세요. : \")\n",
    "\n",
    "    targetURL = makeURL(sNode, search_text )    #1. URL 만들기\n",
    "    result = requestURL(targetURL)              #2. URL로 크롤링\n",
    "    print(result)\n"
   ]
  },
  {
   "cell_type": "code",
   "execution_count": 5,
   "metadata": {
    "id": "HukEXtcJzFSF"
   },
   "outputs": [
    {
     "name": "stdout",
     "output_type": "stream",
     "text": [
      ">검색할 키워드를 입력하세요. : 날씨\n",
      "Url Request Success\n",
      "<?xml version=\"1.0\" encoding=\"UTF-8\"?><rss version=\"2.0\"><channel><title>Naver Open API - news ::&apos;날씨&apos;</title><link>https://search.naver.com</link><description>Naver Search Result</description><lastBuildDate>Tue, 20 Feb 2024 14:25:25 +0900</lastBuildDate><total>3140432</total><start>1</start><display>10</display><item><title>[오늘 &lt;b&gt;날씨&lt;/b&gt;] 대구·경북 흐리고 비 또는 눈…낮 최고 10도</title><originallink>http://www.kbsm.net/news/view.php?idx=423195</originallink><link>http://www.kbsm.net/news/view.php?idx=423195</link><description>20일 화요일 대구와 경북지역은 흐린 가운데 비 또는 눈이 내리겠다.대구지방기상청에 따르면 이날 대구·경북은 중국 북동지방에 위치한 고기압의 가장자리에 들다가 제주도남쪽해상을 지나는 기압골의 영향을... </description><pubDate>Tue, 20 Feb 2024 14:22:00 +0900</pubDate></item><item><title>&amp;quot;나랑 달 보러 가지 않을래~&amp;quot; 정월대보름 창경궁에 달이 뜬다</title><originallink>https://www.ibabynews.com/news/articleView.html?idxno=115260</originallink><link>https://www.ibabynews.com/news/articleView.html?idxno=115260</link><description>단, 행사 기간 중 눈, 비가 오면 행사가 취소될 수 있으며, 정월 대보름 당일 &lt;b&gt;날씨&lt;/b&gt;가 흐릴 경우 천체관측이 취소될 수 있다. 더 자세한 사항은 창경궁관리소 누리집과 전화로 문의하면 된다. 또한, 창경궁관리소는, 행사... </description><pubDate>Tue, 20 Feb 2024 14:22:00 +0900</pubDate></item><item><title>[내일 &lt;b&gt;날씨&lt;/b&gt;] 전국에 비 소식, 우산 챙기세요</title><originallink>https://www.ekoreanews.co.kr/news/articleView.html?idxno=71893</originallink><link>https://www.ekoreanews.co.kr/news/articleView.html?idxno=71893</link><description>21일 수요일은 전국이 흐리며 비가 오겠다. 중부 지방과 경북권에는 눈이 오는 곳도 있겠다. 이날 아침 최저기온은 0∼8도, 낮 최고기온은 2∼10도로 예보됐다. 20일 부터 21일 까지 이틀간 예상 강수량은... </description><pubDate>Tue, 20 Feb 2024 14:20:00 +0900</pubDate></item><item><title>하이키, 27일 신곡 &apos;기뻐&apos; 발매…흑백 포스터 공개</title><originallink>http://www.goodkyung.com/news/articleView.html?idxno=229664</originallink><link>http://www.goodkyung.com/news/articleView.html?idxno=229664</link><description>포스터에는 화이트톤 의상을 입고 청초한 미모와 시크한 분위기를 내는 네 멤버의 모습이 담겼고, 하단에 &apos;Cloudy(흐림)&apos;라는 &lt;b&gt;날씨&lt;/b&gt;를 의미하는 텍스트가 적혔다. 하이키는 &apos;&apos;Thinkin&apos; About You&apos;에 이어 &apos;기뻐&apos;를 통해... </description><pubDate>Tue, 20 Feb 2024 14:16:00 +0900</pubDate></item><item><title>사장 몰래 ‘주문취소’ 239번, ‘영업정지’ 60번 누른 알바생의 최후</title><originallink>https://www.mk.co.kr/article/10946701</originallink><link>https://n.news.naver.com/mnews/article/009/0005261033?sid=102</link><description>경우, &lt;b&gt;날씨&lt;/b&gt;가 안 좋을 때 주문을 취소했다”고 주장했다. 재판부는 “A씨가 이를 소명할 수 있는 자료를 전혀 제출하지 못하고 있고 B씨에게 이같은 사실을 보고한 자료도 없는 점 등을 고려하면 A씨가 정당한 사유로... </description><pubDate>Tue, 20 Feb 2024 14:16:00 +0900</pubDate></item><item><title>[전남일보]강진군, 쌀귀리 쓰러짐 방지 지원</title><originallink>http://www.jnilbo.com/72809796737</originallink><link>http://www.jnilbo.com/72809796737</link><description>강진군의 &lt;b&gt;날씨&lt;/b&gt;는 가장 추운 1월에도 평균 1.1도를 유지해 재배에 적지이며 겉귀리가 아닌 쌀귀리 단일작목 재배로 품위가 매우 좋아 식감이 뛰어나다는 평가를 받고 있다. 군은 최고의 쌀귀리 재배를 위해 작년에 전용... </description><pubDate>Tue, 20 Feb 2024 14:15:00 +0900</pubDate></item><item><title>다랑쉬오름 / 정희경</title><originallink>http://www.idaegu.com/newsView/idg202402200031</originallink><link>http://www.idaegu.com/newsView/idg202402200031</link><description>&lt;b&gt;날씨&lt;/b&gt;가 좋은 날에는 정상 둘레길 서편에서 한라산도 보인다. 여성스러운 곡선을 지녔으며 멋진 전망을 지닌 아름다운 오름이다. 다랑쉬오름이란 이름은 정상의 분화구가 마치 달처럼 둥글다고 해서 지어진 이름이다.... </description><pubDate>Tue, 20 Feb 2024 14:14:00 +0900</pubDate></item><item><title>한온시스템 히트펌프 “전기차 열관리 선두주자”</title><originallink>https://www.ebn.co.kr/news/view/1613355/?sc=Naver</originallink><link>https://www.ebn.co.kr/news/view/1613355/?sc=Naver</link><description>겨울철 &lt;b&gt;날씨&lt;/b&gt;에 가까운 영하20도, 영하 7도의 환경을 조성한 후 경쟁사 차량과 비교 평가 방식으로 진행된 이번 테스트에서 한온시스템의 히트펌프는 탑승자 편의성과 주행거리 측면에서 높은 효율성을 입증했다.... </description><pubDate>Tue, 20 Feb 2024 14:14:00 +0900</pubDate></item><item><title>해남군“봄을 부르는 맛”겨울배추로 만든 새김치 아시나요?”</title><originallink>http://news.heraldcorp.com/view.php?ud=20240220050494</originallink><link>https://n.news.naver.com/mnews/article/016/0002269237?sid=102</link><description>배추는 &lt;b&gt;날씨&lt;/b&gt;가 추워질수록 일교차가 커지면서 탄수화물이 당분으로 변해 맛이 달고 부드러워진다. 특히 겨울배추는 추운겨울 성장하면서 조직이 치밀해 식감이 좋고, 미네랄이 풍부해 김치를 담가 놓으면 아삭하고... </description><pubDate>Tue, 20 Feb 2024 14:12:00 +0900</pubDate></item><item><title>어제(19일) 해운대 24도까지 올라 &apos;반팔티&apos; 입고 바닷바람 쐰 부산시민들</title><originallink>https://www.insight.co.kr/news/462372</originallink><link>https://www.insight.co.kr/news/462372</link><description>더위가 느껴질 정도로 훈훈한 &lt;b&gt;날씨&lt;/b&gt;에 해운대해수욕장에는 반소매를 입고 해변에서 바람을 맞는 시민들로... 다만 비가 그친 이후에는 한동안 따뜻한 &lt;b&gt;날씨&lt;/b&gt;가 이어질 전망이다. 기상청 관계자는 &amp;quot;비가 내리는... </description><pubDate>Tue, 20 Feb 2024 14:10:00 +0900</pubDate></item></channel></rss>\n"
     ]
    }
   ],
   "source": [
    "if __name__==\"__main__\" :\n",
    "    main()"
   ]
  },
  {
   "cell_type": "code",
   "execution_count": null,
   "metadata": {
    "id": "y5fbAM-uzFSF"
   },
   "outputs": [],
   "source": []
  },
  {
   "cell_type": "code",
   "execution_count": null,
   "metadata": {
    "id": "npfSzEAJzFSG"
   },
   "outputs": [],
   "source": []
  }
 ],
 "metadata": {
  "colab": {
   "provenance": []
  },
  "kernelspec": {
   "display_name": "Python 3 (ipykernel)",
   "language": "python",
   "name": "python3"
  },
  "language_info": {
   "codemirror_mode": {
    "name": "ipython",
    "version": 3
   },
   "file_extension": ".py",
   "mimetype": "text/x-python",
   "name": "python",
   "nbconvert_exporter": "python",
   "pygments_lexer": "ipython3",
   "version": "3.11.5"
  }
 },
 "nbformat": 4,
 "nbformat_minor": 1
}
