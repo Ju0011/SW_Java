{
 "cells": [
  {
   "cell_type": "code",
   "execution_count": 1,
   "metadata": {
    "id": "q52FzirfzFSD"
   },
   "outputs": [],
   "source": [
    "import urllib.request\n",
    "client_id = \"5BE6Vc9HVCIU7_SKWbY_\"\n",
    "client_secret = \"GQe2e_vSC2\""
   ]
  },
  {
   "cell_type": "code",
   "execution_count": 2,
   "metadata": {
    "id": "ikjSkDT9zFSE"
   },
   "outputs": [],
   "source": [
    "def makeURL(sNode, search_text ):\n",
    "    base = \"https://openapi.naver.com/v1/search\"\n",
    "    node = \"/%s.json\" % sNode\n",
    "    parameters = \"?query=%s\" % urllib.parse.quote(search_text)\n",
    "    url = base + node + parameters\n",
    "    return url"
   ]
  },
  {
   "cell_type": "code",
   "execution_count": 3,
   "metadata": {
    "id": "kUhZZSJyzFSE"
   },
   "outputs": [],
   "source": [
    "def requestURL(url):\n",
    "    req = urllib.request.Request(url)\n",
    "    req.add_header(\"X-Naver-Client-Id\",   client_id)  # open api 키를 header에 추가\n",
    "    req.add_header(\"X-Naver-Client-Secret\",  client_secret)  # open api 키를 header에 추가\n",
    "    try:\n",
    "        response = urllib.request.urlopen(req)  # 크롤링\n",
    "\n",
    "        if response.status == 200:  # 200이면 정상 응답\n",
    "            print(\"Url Request Success\")\n",
    "            data = response.read().decode('utf-8')\n",
    "            return data  # 크롤링 결과 반환\n",
    "\n",
    "    except Exception as e:  # url로 요청 중 오류가 발생시 실행\n",
    "        print(e)\n",
    "        print(\"Error for URL : %s\" %url)\n",
    "        return None"
   ]
  },
  {
   "cell_type": "code",
   "execution_count": 4,
   "metadata": {
    "id": "feP5TjBHzFSF"
   },
   "outputs": [],
   "source": [
    "def main():\n",
    "    sNode = 'news'  # 'news', 'blog', 'cafearticle'\n",
    "    search_text = input(\">검색할 키워드를 입력하세요. : \")\n",
    "\n",
    "    targetURL = makeURL(sNode, search_text )    #1. URL 만들기\n",
    "    result = requestURL(targetURL)              #2. URL로 크롤링\n",
    "    print(result)\n"
   ]
  },
  {
   "cell_type": "code",
   "execution_count": 5,
   "metadata": {
    "id": "HukEXtcJzFSF"
   },
   "outputs": [
    {
     "name": "stdout",
     "output_type": "stream",
     "text": [
      ">검색할 키워드를 입력하세요. : 서경대학교\n",
      "Url Request Success\n",
      "{\n",
      "\t\"lastBuildDate\":\"Mon, 19 Feb 2024 16:12:04 +0900\",\n",
      "\t\"total\":25245,\n",
      "\t\"start\":1,\n",
      "\t\"display\":10,\n",
      "\t\"items\":[\n",
      "\t\t{\n",
      "\t\t\t\"title\":\"<b>서경대<\\/b>, 9년 연속 교육국제화역량 우수인증대학 선정\",\n",
      "\t\t\t\"originallink\":\"https:\\/\\/www.joongang.co.kr\\/article\\/25229625\",\n",
      "\t\t\t\"link\":\"https:\\/\\/n.news.naver.com\\/mnews\\/article\\/025\\/0003342207?sid=102\",\n",
      "\t\t\t\"description\":\"<b>서경대<\\/b>학교(총장 김범준)는 교육부가 주관한 '2023년도 교육국제화역량 인증제(IEQAS)' 평가에서 최고등급인 ‘우수 인증대학’에 선정됐다고 14일 밝혔다. 이로써 <b>서경대<\\/b>는 지난 2015년부터 현재까지 9년 연속 인증대학에... \",\n",
      "\t\t\t\"pubDate\":\"Mon, 19 Feb 2024 16:02:00 +0900\"\n",
      "\t\t},\n",
      "\t\t{\n",
      "\t\t\t\"title\":\"연극 '그때도 오늘', 최영준·오의식→양경원 합류…3월 개막\",\n",
      "\t\t\t\"originallink\":\"http:\\/\\/www.joynews24.com\\/view\\/1688423\",\n",
      "\t\t\t\"link\":\"http:\\/\\/www.joynews24.com\\/view\\/1688423\",\n",
      "\t\t\t\"description\":\"관람하면 미공개 포토카드를 증정하고, 공연을 관람한 후 SNS에 후기를 남기면 추첨을 통해 배우들의 폴라로이드를 증정하는 이벤트를 진행한다. 3월 15일 <b>서경대<\\/b>학교 공연예술센터 스콘2관에서 개막한다. 조이뉴스24 \\/\",\n",
      "\t\t\t\"pubDate\":\"Mon, 19 Feb 2024 15:54:00 +0900\"\n",
      "\t\t},\n",
      "\t\t{\n",
      "\t\t\t\"title\":\"'오퍼스 체임버 소사이어티' 창단 &quot;실내악·한국 작곡가들 매력 널리 알릴 것...\",\n",
      "\t\t\t\"originallink\":\"https:\\/\\/www.womennews.co.kr\\/news\\/articleView.html?idxno=245593\",\n",
      "\t\t\t\"link\":\"https:\\/\\/n.news.naver.com\\/mnews\\/article\\/310\\/0000114487?sid=103\",\n",
      "\t\t\t\"description\":\"소니뮤직에서 음반을 두 장 발매했고 연세대, 안양대, 추계예대, <b>서경대<\\/b>, 경희대 등에서 후학을 양성했다. 그는 &quot;국내 음악계의 예술적 다양성을 높이고 한국 음악가들이 설 무대를 늘리는 데 앞장서겠다&quot;며 &quot;OCS의... \",\n",
      "\t\t\t\"pubDate\":\"Mon, 19 Feb 2024 15:39:00 +0900\"\n",
      "\t\t},\n",
      "\t\t{\n",
      "\t\t\t\"title\":\"<b>서경대<\\/b>, 교육국제화역량 ‘우수 인증대학’ 선정\",\n",
      "\t\t\t\"originallink\":\"https:\\/\\/www.naeil.com\\/news\\/read\\/501747?ref=naver\",\n",
      "\t\t\t\"link\":\"https:\\/\\/www.naeil.com\\/news\\/read\\/501747?ref=naver\",\n",
      "\t\t\t\"description\":\"2015년부터 9년 연속 선정 <b>서경대<\\/b>학교(총장 김범준)는 교육부가 주관한 ‘2023년도 교육국제화역량 인증제(IEQAS)’ 평가에서 최고등급인 ‘우수 인증대학’에 선정됐다고 19일 밝혔다. <b>서경대<\\/b>는 지난 2015년부터 현재까지... \",\n",
      "\t\t\t\"pubDate\":\"Mon, 19 Feb 2024 14:46:00 +0900\"\n",
      "\t\t},\n",
      "\t\t{\n",
      "\t\t\t\"title\":\"합격의 비밀을 찾았습니다만 37 \\/ 국가직을 50일 앞두고 우리의 다짐입니다\",\n",
      "\t\t\t\"originallink\":\"http:\\/\\/www.lec.co.kr\\/news\\/articleView.html?idxno=745723\",\n",
      "\t\t\t\"link\":\"http:\\/\\/www.lec.co.kr\\/news\\/articleView.html?idxno=745723\",\n",
      "\t\t\t\"description\":\"現 메가공무원 국어 대표 강사 前 박문각남부고시학원 국어 전임 강사 KG패스원 국어 전임 강사 <b>서경대<\\/b>학교, 홍익<b>대학교<\\/b>, 웅지세무<b>대학교<\\/b> 출강 비타에듀, 이투스청솔, 메가스터디 언어영역 강사 https:\\/\\/cafe.daum.net\\/naraeyoujin\",\n",
      "\t\t\t\"pubDate\":\"Mon, 19 Feb 2024 12:16:00 +0900\"\n",
      "\t\t},\n",
      "\t\t{\n",
      "\t\t\t\"title\":\"김세정 &quot;템플 문 앞에서 두려움과 싸워...회식에 취해 마무리가&quot;\",\n",
      "\t\t\t\"originallink\":\"https:\\/\\/www.mhnse.com\\/news\\/articleView.html?idxno=255018\",\n",
      "\t\t\t\"link\":\"https:\\/\\/n.news.naver.com\\/mnews\\/article\\/445\\/0000174205?sid=106\",\n",
      "\t\t\t\"description\":\"그의 우여곡절 많았던 학창 시절 이야기를 그려낸 작품이다. 김세정은 주인공 템플 역을 맡아 열연했다. 지난해 12월 15일부터 올해 2월 18일까지 <b>서경대<\\/b>학교 공연예술센터 스콘1관에서 공연됐다. 사진=김세정 인스타그램\",\n",
      "\t\t\t\"pubDate\":\"Mon, 19 Feb 2024 10:46:00 +0900\"\n",
      "\t\t},\n",
      "\t\t{\n",
      "\t\t\t\"title\":\"이희준 “子 찍어준 사진에 내 눈 살인자 같아, 밝은 역도 해야”[EN:인터뷰]\",\n",
      "\t\t\t\"originallink\":\"https:\\/\\/www.newsen.com\\/news_view.php?uid=202402161556556310\",\n",
      "\t\t\t\"link\":\"https:\\/\\/n.news.naver.com\\/mnews\\/article\\/609\\/0000824073?sid=106\",\n",
      "\t\t\t\"description\":\"오는 3월 15일부터는 대학로 <b>서경대<\\/b> 예술센터에서 개막하는 극단 간다의 두 번째 연극 '그때도 오늘' 무대에 오른다. 이희준은 &quot;극단 간다가 20주년이 됐다. 진선규 형이랑 김지현, 김민재, 오의식, 양경원 등 아주 연기 잘하는... \",\n",
      "\t\t\t\"pubDate\":\"Sat, 17 Feb 2024 07:01:00 +0900\"\n",
      "\t\t},\n",
      "\t\t{\n",
      "\t\t\t\"title\":\"<b>서경대<\\/b> 9년 연속 교육국제화역량 '우수 인증대학' 선정\",\n",
      "\t\t\t\"originallink\":\"http:\\/\\/www.veritas-a.com\\/news\\/articleView.html?idxno=494171\",\n",
      "\t\t\t\"link\":\"http:\\/\\/www.veritas-a.com\\/news\\/articleView.html?idxno=494171\",\n",
      "\t\t\t\"description\":\"<b>서경대<\\/b>는 교육부가 주관한 '2023 교육국제화역량 인증제(IEQAS)' 평가에서 최고등급인 '우수 인증대학'에 선정됐다고 16일 밝혔다. 이로써 <b>서경대<\\/b>는 2015년부터 현재까지 9년 연속 인증대학에 선정됐다. 올해 우수... \",\n",
      "\t\t\t\"pubDate\":\"Fri, 16 Feb 2024 12:28:00 +0900\"\n",
      "\t\t},\n",
      "\t\t{\n",
      "\t\t\t\"title\":\"<b>서경대<\\/b>, '2023학년도 교육국제화역량 인증제 평가' 우수인증대학 선정\",\n",
      "\t\t\t\"originallink\":\"http:\\/\\/www.enewstoday.co.kr\\/news\\/articleView.html?idxno=2090921\",\n",
      "\t\t\t\"link\":\"http:\\/\\/www.enewstoday.co.kr\\/news\\/articleView.html?idxno=2090921\",\n",
      "\t\t\t\"description\":\"<b>서경대<\\/b>학교(총장 김범준)는 교육부가 주관한 '2023년도 교육국제화역량 인증제(IEQAS) 평가'에서 최고등급인... <b>서경대<\\/b>는 이번 평가에서 학위과정 인증과 함께 어학 연수과정 인증 대학으로도 선정됐으며, 올해 우수... \",\n",
      "\t\t\t\"pubDate\":\"Fri, 16 Feb 2024 11:45:00 +0900\"\n",
      "\t\t},\n",
      "\t\t{\n",
      "\t\t\t\"title\":\"<b>서경대<\\/b>, 9년 연속 교육국제화역량 '우수 인증대학' 선정\",\n",
      "\t\t\t\"originallink\":\"https:\\/\\/news.unn.net\\/news\\/articleView.html?idxno=559596\",\n",
      "\t\t\t\"link\":\"https:\\/\\/news.unn.net\\/news\\/articleView.html?idxno=559596\",\n",
      "\t\t\t\"description\":\"<b>서경대<\\/b> 본관 전경.  <b>서경대<\\/b>학교(총장 김범준)는 교육부가 주관한 '2023년도 교육국제화역량 인증제(IEQAS)' 평가에서 최고등급인 '우수 인증대학'에 선정됐다고 16일 밝혔다. 이로써 <b>서경대<\\/b>는 지난 2015년부터 현재까지 9년... \",\n",
      "\t\t\t\"pubDate\":\"Fri, 16 Feb 2024 11:42:00 +0900\"\n",
      "\t\t}\n",
      "\t]\n",
      "}\n"
     ]
    }
   ],
   "source": [
    "if __name__==\"__main__\" :\n",
    "    main()"
   ]
  },
  {
   "cell_type": "code",
   "execution_count": null,
   "metadata": {
    "id": "y5fbAM-uzFSF"
   },
   "outputs": [],
   "source": []
  },
  {
   "cell_type": "code",
   "execution_count": null,
   "metadata": {
    "id": "npfSzEAJzFSG"
   },
   "outputs": [],
   "source": []
  }
 ],
 "metadata": {
  "colab": {
   "provenance": []
  },
  "kernelspec": {
   "display_name": "Python 3 (ipykernel)",
   "language": "python",
   "name": "python3"
  },
  "language_info": {
   "codemirror_mode": {
    "name": "ipython",
    "version": 3
   },
   "file_extension": ".py",
   "mimetype": "text/x-python",
   "name": "python",
   "nbconvert_exporter": "python",
   "pygments_lexer": "ipython3",
   "version": "3.11.5"
  }
 },
 "nbformat": 4,
 "nbformat_minor": 1
}
