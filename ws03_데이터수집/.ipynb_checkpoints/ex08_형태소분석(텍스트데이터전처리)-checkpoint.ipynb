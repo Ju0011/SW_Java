{
 "cells": [
  {
   "cell_type": "code",
   "execution_count": 1,
   "metadata": {},
   "outputs": [
    {
     "name": "stdout",
     "output_type": "stream",
     "text": [
      "Collecting konlpy\n",
      "  Downloading konlpy-0.6.0-py2.py3-none-any.whl (19.4 MB)\n",
      "     ---------------------------------------- 0.0/19.4 MB ? eta -:--:--\n",
      "     ---------------------------------------- 0.0/19.4 MB 1.9 MB/s eta 0:00:11\n",
      "      --------------------------------------- 0.5/19.4 MB 7.2 MB/s eta 0:00:03\n",
      "     -- ------------------------------------- 1.2/19.4 MB 9.5 MB/s eta 0:00:02\n",
      "     ---- ----------------------------------- 2.1/19.4 MB 13.3 MB/s eta 0:00:02\n",
      "     ------ --------------------------------- 3.2/19.4 MB 15.8 MB/s eta 0:00:02\n",
      "     --------- ------------------------------ 4.5/19.4 MB 17.9 MB/s eta 0:00:01\n",
      "     ----------- ---------------------------- 5.6/19.4 MB 19.0 MB/s eta 0:00:01\n",
      "     -------------- ------------------------- 7.2/19.4 MB 22.0 MB/s eta 0:00:01\n",
      "     ------------------ --------------------- 8.8/19.4 MB 23.3 MB/s eta 0:00:01\n",
      "     -------------------- ------------------ 10.3/19.4 MB 27.3 MB/s eta 0:00:01\n",
      "     ----------------------- --------------- 11.8/19.4 MB 31.2 MB/s eta 0:00:01\n",
      "     -------------------------- ------------ 13.2/19.4 MB 29.8 MB/s eta 0:00:01\n",
      "     ----------------------------- --------- 14.7/19.4 MB 31.2 MB/s eta 0:00:01\n",
      "     ------------------------------- ------- 15.8/19.4 MB 31.1 MB/s eta 0:00:01\n",
      "     ---------------------------------- ---- 17.1/19.4 MB 32.7 MB/s eta 0:00:01\n",
      "     ------------------------------------- - 18.5/19.4 MB 29.8 MB/s eta 0:00:01\n",
      "     --------------------------------------  19.4/19.4 MB 29.7 MB/s eta 0:00:01\n",
      "     --------------------------------------- 19.4/19.4 MB 27.3 MB/s eta 0:00:00\n",
      "Collecting JPype1>=0.7.0 (from konlpy)\n",
      "  Obtaining dependency information for JPype1>=0.7.0 from https://files.pythonhosted.org/packages/1f/19/144f3a767b563ba5c6d4aa534ea1f3fad9a5067c3917df4458a6e1afe0ef/JPype1-1.5.0-cp311-cp311-win_amd64.whl.metadata\n",
      "  Downloading JPype1-1.5.0-cp311-cp311-win_amd64.whl.metadata (5.0 kB)\n",
      "Requirement already satisfied: lxml>=4.1.0 in c:\\users\\admin\\anaconda3\\lib\\site-packages (from konlpy) (4.9.3)\n",
      "Requirement already satisfied: numpy>=1.6 in c:\\users\\admin\\anaconda3\\lib\\site-packages (from konlpy) (1.24.3)\n",
      "Requirement already satisfied: packaging in c:\\users\\admin\\anaconda3\\lib\\site-packages (from JPype1>=0.7.0->konlpy) (23.1)\n",
      "Downloading JPype1-1.5.0-cp311-cp311-win_amd64.whl (351 kB)\n",
      "   ---------------------------------------- 0.0/351.5 kB ? eta -:--:--\n",
      "   --------------------------------------- 351.5/351.5 kB 21.3 MB/s eta 0:00:00\n",
      "Installing collected packages: JPype1, konlpy\n",
      "Successfully installed JPype1-1.5.0 konlpy-0.6.0\n",
      "Note: you may need to restart the kernel to use updated packages.\n"
     ]
    }
   ],
   "source": [
    "pip install konlpy"
   ]
  },
  {
   "cell_type": "code",
   "execution_count": 1,
   "metadata": {},
   "outputs": [
    {
     "name": "stdout",
     "output_type": "stream",
     "text": [
      "['명사', '만', '추출', '형태소', '분석']\n"
     ]
    }
   ],
   "source": [
    "from konlpy.tag import Kkma\n",
    "a = Kkma() \n",
    "\n",
    "nouns = a.nouns(\"%명사*만을 추출합니다. 형태소 분석입니다. \")\n",
    "print(nouns)"
   ]
  },
  {
   "cell_type": "code",
   "execution_count": null,
   "metadata": {},
   "outputs": [],
   "source": []
  }
 ],
 "metadata": {
  "kernelspec": {
   "display_name": "Python 3 (ipykernel)",
   "language": "python",
   "name": "python3"
  },
  "language_info": {
   "codemirror_mode": {
    "name": "ipython",
    "version": 3
   },
   "file_extension": ".py",
   "mimetype": "text/x-python",
   "name": "python",
   "nbconvert_exporter": "python",
   "pygments_lexer": "ipython3",
   "version": "3.11.5"
  }
 },
 "nbformat": 4,
 "nbformat_minor": 2
}
