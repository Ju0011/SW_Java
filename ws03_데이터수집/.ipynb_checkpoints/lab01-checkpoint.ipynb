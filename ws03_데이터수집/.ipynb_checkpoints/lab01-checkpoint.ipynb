{
 "cells": [
  {
   "cell_type": "code",
   "execution_count": 20,
   "id": "b8c74288",
   "metadata": {},
   "outputs": [
    {
     "name": "stdout",
     "output_type": "stream",
     "text": [
      "[<strong class=\"title\"> '에드워즈 34점 맹활약' 미네소타, 포틀랜드 가볍게 꺾고 4연승 행진</strong>, <strong class=\"title\"> 정몽규 \"클린스만 감독 선임 과정에 대한 오해 있는 것 같아\"</strong>, <strong class=\"title\">PSG 회장, 음바페 FA 이탈에 '최후통첩'…\"이적 보너스 넘기던지, 남은 기간 돈 포기하라\"</strong>, <strong class=\"title\">클린스만 감독, 경질 발표 앞서 SNS에 작별 인사 \"진심으로 감사, 12개월간 놀라운 여정\"</strong>, <strong class=\"title\">\"너희가 생각만큼 잘하지 못하니 너희 수준에 맞춰 적응하겠다\"… 레버쿠젠 대패 후 투헬의 망언</strong>, <strong class=\"title\">'韓 첫 승 이끈' 장우진 \"탁구대표팀 팀워크는 문제 없습니다\" </strong>]\n"
     ]
    }
   ],
   "source": [
    "import urllib.request\n",
    "from bs4 import BeautifulSoup\n",
    "\n",
    "d = urllib.request.urlopen(\"https://sports.news.naver.com/index\") # Web Client \n",
    "\n",
    "data =  d.read() # body read \n",
    "html =  data.decode(\"utf-8\") \n",
    "bs = BeautifulSoup( html  )\n",
    "\n",
    "content = bs.find(id=\"content\")\n",
    "\n",
    "print(content.find_all(\"strong\"))"
   ]
  }
 ],
 "metadata": {
  "kernelspec": {
   "display_name": "Python 3 (ipykernel)",
   "language": "python",
   "name": "python3"
  },
  "language_info": {
   "codemirror_mode": {
    "name": "ipython",
    "version": 3
   },
   "file_extension": ".py",
   "mimetype": "text/x-python",
   "name": "python",
   "nbconvert_exporter": "python",
   "pygments_lexer": "ipython3",
   "version": "3.11.5"
  }
 },
 "nbformat": 4,
 "nbformat_minor": 5
}
