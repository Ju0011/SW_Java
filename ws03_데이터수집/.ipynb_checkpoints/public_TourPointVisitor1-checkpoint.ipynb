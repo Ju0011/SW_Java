{
 "cells": [
  {
   "cell_type": "code",
   "execution_count": 67,
   "id": "6b1261ea",
   "metadata": {
    "scrolled": true
   },
   "outputs": [
    {
     "name": "stdout",
     "output_type": "stream",
     "text": [
      "http://openapi.tour.go.kr/openapi/service/TourismResourceStatsService/getPchrgTrrsrtVisitorList?_type=json&serviceKey=YA7t3pL4UnQOctchk%2FLdJ2xKQJwFuXz%2FyY5pDLS4ELwwKs%2BVkjr9IlSMr2SX%2F1zx%2FUMiBrfitS5EivUWK1hjfA%3D%3D&YM=202210&SIDO=%EC%84%9C%EC%9A%B8%ED%8A%B9%EB%B3%84%EC%8B%9C&GUNGU=&RES_NM=&pageNo=1&numOfRows=100\n",
      "Url Request Success\n"
     ]
    },
    {
     "ename": "TypeError",
     "evalue": "string indices must be integers, not 'str'",
     "output_type": "error",
     "traceback": [
      "\u001b[1;31m---------------------------------------------------------------------------\u001b[0m",
      "\u001b[1;31mTypeError\u001b[0m                                 Traceback (most recent call last)",
      "Cell \u001b[1;32mIn[67], line 65\u001b[0m\n\u001b[0;32m     62\u001b[0m         \u001b[38;5;28mprint\u001b[39m(\u001b[38;5;124m\"\u001b[39m\u001b[38;5;124m-----------------------------------------\u001b[39m\u001b[38;5;124m\"\u001b[39m)    \n\u001b[0;32m     64\u001b[0m \u001b[38;5;28;01mif\u001b[39;00m \u001b[38;5;18m__name__\u001b[39m\u001b[38;5;241m==\u001b[39m\u001b[38;5;124m\"\u001b[39m\u001b[38;5;124m__main__\u001b[39m\u001b[38;5;124m\"\u001b[39m :\n\u001b[1;32m---> 65\u001b[0m     main()\n",
      "Cell \u001b[1;32mIn[67], line 56\u001b[0m, in \u001b[0;36mmain\u001b[1;34m()\u001b[0m\n\u001b[0;32m     49\u001b[0m result \u001b[38;5;241m=\u001b[39m requestURL(targetURL)                              \u001b[38;5;66;03m# 2. URL로 크롤링\u001b[39;00m\n\u001b[0;32m     50\u001b[0m \u001b[38;5;66;03m#print(result)                                               # 3. 크롤링 결과 출력\u001b[39;00m\n\u001b[0;32m     51\u001b[0m \n\u001b[0;32m     52\u001b[0m \u001b[38;5;66;03m#### 문제   \u001b[39;00m\n\u001b[0;32m     53\u001b[0m \u001b[38;5;66;03m#  결과를 모두 출력하지 않고  \u001b[39;00m\n\u001b[0;32m     54\u001b[0m \u001b[38;5;66;03m#  csForCnt(외국인방문객수)   csNatCnt(내국인방문객수)  \u001b[39;00m\n\u001b[0;32m     55\u001b[0m \u001b[38;5;66;03m#  ym(연월)  gungu(군구)  resNm(관광지)   만 출력하세요. \u001b[39;00m\n\u001b[1;32m---> 56\u001b[0m \u001b[38;5;28;01mfor\u001b[39;00m item \u001b[38;5;129;01min\u001b[39;00m result[ \u001b[38;5;124m\"\u001b[39m\u001b[38;5;124mresponse\u001b[39m\u001b[38;5;124m\"\u001b[39m ][\u001b[38;5;124m\"\u001b[39m\u001b[38;5;124mbody\u001b[39m\u001b[38;5;124m\"\u001b[39m][\u001b[38;5;124m\"\u001b[39m\u001b[38;5;124mitems\u001b[39m\u001b[38;5;124m\"\u001b[39m][\u001b[38;5;124m\"\u001b[39m\u001b[38;5;124mitem\u001b[39m\u001b[38;5;124m\"\u001b[39m]  :\n\u001b[0;32m     57\u001b[0m     \u001b[38;5;28mprint\u001b[39m (item  [\u001b[38;5;124m\"\u001b[39m\u001b[38;5;124mgungu\u001b[39m\u001b[38;5;124m\"\u001b[39m ] , \u001b[38;5;124m\"\u001b[39m\u001b[38;5;124m 군\u001b[39m\u001b[38;5;124m\"\u001b[39m ) \n\u001b[0;32m     58\u001b[0m     \u001b[38;5;28mprint\u001b[39m (item  [\u001b[38;5;124m\"\u001b[39m\u001b[38;5;124mresNm\u001b[39m\u001b[38;5;124m\"\u001b[39m ] , \u001b[38;5;124m\"\u001b[39m\u001b[38;5;124m 관광지\u001b[39m\u001b[38;5;124m\"\u001b[39m)\n",
      "\u001b[1;31mTypeError\u001b[0m: string indices must be integers, not 'str'"
     ]
    }
   ],
   "source": [
    "import urllib.request\n",
    "import requests\n",
    "from urllib.parse import unquote\n",
    "import json\n",
    "import math \n",
    "\n",
    "#유료 관광지 방문객 수\n",
    "#key= \"ys%2Fm1890LLqyqUPtU5M8Hk%2FCcjqcMHfAqW8G8Lk4a5cZnUyYZylM7Z9hdVggzTpsAmxIGiF48tNwWeDiJQkkbQ%3D%3D\"\n",
    "key = \"YA7t3pL4UnQOctchk%2FLdJ2xKQJwFuXz%2FyY5pDLS4ELwwKs%2BVkjr9IlSMr2SX%2F1zx%2FUMiBrfitS5EivUWK1hjfA%3D%3D\" #강사님 서비스키\n",
    " \n",
    "#유료 관광지 방문객 수 조회를 위한 url 생성\n",
    "def makeURL(yyyymm, sido, gungu, nPagenum, nItems):                 \n",
    "    end_point = \"http://openapi.tour.go.kr/openapi/service/TourismResourceStatsService/getPchrgTrrsrtVisitorList\"\n",
    "    parameters = \"?_type=json&serviceKey=\" + key     #  open api를 사용하기 위한 키. (홈페이지 개발자 등록 후 발급받는다.)\n",
    "    parameters += \"&YM=\" + yyyymm  #  요청 파라미터 참고 .\n",
    "    parameters += \"&SIDO=\" + urllib.parse.quote(sido)  # 한글은 인코딩하여 사용\n",
    "    parameters += \"&GUNGU=\" + urllib.parse.quote(gungu)\n",
    "    parameters += \"&RES_NM=&pageNo=\" + str(nPagenum)  # 숫자는 문자로 변경 후 사용\n",
    "    parameters += \"&numOfRows=\" + str(nItems)\n",
    "    url = end_point + parameters\n",
    "    print(url)\n",
    "\n",
    "    return url\n",
    "\n",
    "\n",
    "def requestURL(url):\n",
    "    req = urllib.request.Request(url)\n",
    "    try:\n",
    "        response = urllib.request.urlopen(req)      # 요청\n",
    "        if response.status == 200:                  # 200이면 정상 응답\n",
    "            print(\"Url Request Success\")\n",
    "            data = response.read().decode('utf-8')\n",
    "            return data     \n",
    "                        # 크롤링 결과 반환\n",
    "    except Exception as e:  # url로 요청 중 오류가 발생시 실행\n",
    "        print(e)\n",
    "        print(\"Error for URL : %s\" %url)\n",
    "        return None\n",
    "\n",
    "\n",
    "def main():\n",
    "    sido = '서울특별시'\n",
    "    gungu = ''\n",
    "    nItems = 100\n",
    "    yyyymm ='202210'\n",
    "    nPagenum = 1\n",
    "\n",
    "    targetURL = makeURL(yyyymm, sido, gungu, nPagenum, nItems)  # 1. URL 만들기\n",
    "    result = requestURL(targetURL)                              # 2. URL로 크롤링\n",
    "    #print(result)                                               # 3. 크롤링 결과 출력\n",
    "\n",
    "    #### 문제   \n",
    "    #  결과를 모두 출력하지 않고  \n",
    "    #  csForCnt(외국인방문객수)   csNatCnt(내국인방문객수)  \n",
    "    #  ym(연월)  gungu(군구)  resNm(관광지)   만 출력하세요. \n",
    "    for item in result[ \"response\" ][\"body\"][\"items\"][\"item\"]  :\n",
    "        print (item  [\"gungu\" ] , \" 군\" ) \n",
    "        print (item  [\"resNm\" ] , \" 관광지\")\n",
    "        print (item  [\"ym\" ] , \" 연월\" )\n",
    "        print (\"외국인방문객수\" , item  [\"csForCnt\" ] )\n",
    "        print (\"내국인방문객수\", item  [\"csNatCnt\" ])\n",
    "        print(\"-----------------------------------------\")    \n",
    "    \n",
    "if __name__==\"__main__\" :\n",
    "    main()\n",
    " "
   ]
  }
 ],
 "metadata": {
  "kernelspec": {
   "display_name": "Python 3 (ipykernel)",
   "language": "python",
   "name": "python3"
  },
  "language_info": {
   "codemirror_mode": {
    "name": "ipython",
    "version": 3
   },
   "file_extension": ".py",
   "mimetype": "text/x-python",
   "name": "python",
   "nbconvert_exporter": "python",
   "pygments_lexer": "ipython3",
   "version": "3.11.5"
  }
 },
 "nbformat": 4,
 "nbformat_minor": 5
}
