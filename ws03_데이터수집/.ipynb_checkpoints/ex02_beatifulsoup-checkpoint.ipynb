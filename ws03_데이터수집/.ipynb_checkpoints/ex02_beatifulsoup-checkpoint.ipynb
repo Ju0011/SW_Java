{
 "cells": [
  {
   "cell_type": "code",
   "execution_count": 1,
   "metadata": {},
   "outputs": [
    {
     "name": "stdout",
     "output_type": "stream",
     "text": [
      "Collecting bs4\n",
      "  Obtaining dependency information for bs4 from https://files.pythonhosted.org/packages/51/bb/bf7aab772a159614954d84aa832c129624ba6c32faa559dfb200a534e50b/bs4-0.0.2-py2.py3-none-any.whl.metadata\n",
      "  Downloading bs4-0.0.2-py2.py3-none-any.whl.metadata (411 bytes)\n",
      "Requirement already satisfied: beautifulsoup4 in c:\\users\\admin\\anaconda3\\lib\\site-packages (from bs4) (4.12.2)\n",
      "Requirement already satisfied: soupsieve>1.2 in c:\\users\\admin\\anaconda3\\lib\\site-packages (from beautifulsoup4->bs4) (2.4)\n",
      "Downloading bs4-0.0.2-py2.py3-none-any.whl (1.2 kB)\n",
      "Installing collected packages: bs4\n",
      "Successfully installed bs4-0.0.2\n",
      "Note: you may need to restart the kernel to use updated packages.\n"
     ]
    }
   ],
   "source": [
    "pip install bs4"
   ]
  },
  {
   "cell_type": "code",
   "execution_count": 2,
   "metadata": {},
   "outputs": [
    {
     "name": "stdout",
     "output_type": "stream",
     "text": [
      "<html>\n",
      " <head>\n",
      "  <title>\n",
      "   web test\n",
      "  </title>\n",
      " </head>\n",
      " <body>\n",
      "  <p align=\"center\">\n",
      "   text content1\n",
      "  </p>\n",
      "  <p align=\"left\">\n",
      "   text content2\n",
      "  </p>\n",
      "  <p align=\"right\">\n",
      "   text content3\n",
      "  </p>\n",
      "  <img src=\"koala.jpg\"/>\n",
      " </body>\n",
      "</html>\n",
      "\n"
     ]
    }
   ],
   "source": [
    "html =  \"\"\" \n",
    "   <html> \n",
    "     <head> \n",
    "        <title> web test  </title> \n",
    "     </head>\n",
    "     <body>  \n",
    "        <p align=\"center\" > text content1 </p> \n",
    "        <p align=\"left\" > text content2 </p> \n",
    "        <p align=\"right\" > text content3 </p> \n",
    "        <img src=\"koala.jpg\"/> \n",
    "     </body> \n",
    "   </html> \n",
    "\"\"\"\n",
    "from bs4 import BeautifulSoup\n",
    "bs = BeautifulSoup( html  )\n",
    "\n",
    "print( bs.prettify() )  # 들여쓰기로 정렬하여 리턴 "
   ]
  },
  {
   "cell_type": "code",
   "execution_count": 3,
   "metadata": {},
   "outputs": [
    {
     "name": "stdout",
     "output_type": "stream",
     "text": [
      "<title> web test  </title>\n",
      "<p align=\"center\"> text content1 </p>\n",
      "None\n"
     ]
    }
   ],
   "source": [
    "print (bs.find(\"title\"))\n",
    "print (bs.find(\"p\"))  # p 태그 중 첫번째 것만 반환 \n",
    "print (bs.find(\"a\"))"
   ]
  },
  {
   "cell_type": "code",
   "execution_count": 4,
   "metadata": {},
   "outputs": [
    {
     "name": "stdout",
     "output_type": "stream",
     "text": [
      "<p align=\"center\"> text content1 </p>\n",
      "<p align=\"right\"> text content3 </p>\n",
      "<p align=\"left\"> text content2 </p>\n"
     ]
    }
   ],
   "source": [
    "html =  \"\"\" \n",
    "   <html> \n",
    "     <head> \n",
    "        <title> web test  </title> \n",
    "     </head>\n",
    "     <body>  \n",
    "        <p align=\"center\" > text content1 </p> \n",
    "        <p align=\"left\" > text content2 </p> \n",
    "        <p align=\"right\" > text content3 </p> \n",
    "        <img src=\"koala.jpg\"/> \n",
    "     </body> \n",
    "   </html> \n",
    "    \"\"\"\n",
    "from bs4 import BeautifulSoup\n",
    "bs = BeautifulSoup(html)\n",
    "\n",
    "print (bs.find(\"p\", align=\"center\")  )\n",
    "print (bs.find(\"p\", align=\"right\")  )\n",
    "print (bs.find(\"p\", align=\"left\") )\n"
   ]
  },
  {
   "cell_type": "code",
   "execution_count": 5,
   "metadata": {},
   "outputs": [
    {
     "name": "stdout",
     "output_type": "stream",
     "text": [
      "[<p align=\"center\"> text content1 </p>, <p align=\"left\"> text content2 </p>, <p align=\"right\"> text content3 </p>]\n",
      "<head>\n",
      "<title> web test  </title>\n",
      "</head>\n",
      "<title> web test  </title>\n",
      "None\n",
      "<title> web test  </title>\n",
      "<p align=\"center\"> text content1 </p>\n",
      "<p align=\"left\"> text content2 </p>\n",
      "<p align=\"right\"> text content3 </p>\n",
      "<img src=\"koala.jpg\"/>\n"
     ]
    }
   ],
   "source": [
    "print (  bs.find_all(\"p\")  )\n",
    "\n",
    "\n",
    "headtag = bs.find(\"head\")\n",
    "print(headtag)\n",
    "\n",
    "print ( headtag.find(\"title\") ) # <title> web test  </title>\n",
    "print ( headtag.find(\"a\") )     #None\n",
    "print ( headtag.find([\"p\",\"a\",\"title\"]) )\n",
    "\n",
    "bodytag = bs.find(\"body\")\n",
    "list1 = bodytag.find_all([\"p\",\"img\"]) #여러 태그 한꺼번에 모두 찾기\n",
    "for  tag in list1 :\n",
    "    print(tag)\n",
    "\n",
    "import re"
   ]
  },
  {
   "cell_type": "code",
   "execution_count": 7,
   "metadata": {},
   "outputs": [
    {
     "name": "stdout",
     "output_type": "stream",
     "text": [
      "[<p align=\"center\"> text content1 </p>]\n",
      "[<img src=\"koala.jpg\" width=\"500\"/>]\n",
      "[' text content1 ']\n"
     ]
    },
    {
     "name": "stderr",
     "output_type": "stream",
     "text": [
      "C:\\Users\\Public\\Documents\\ESTsoft\\CreatorTemp\\ipykernel_14440\\2650310666.py:19: DeprecationWarning: The 'text' argument to find()-type methods is deprecated. Use 'string' instead.\n",
      "  print (bs.find_all(text=\" text content1 \"))\n"
     ]
    }
   ],
   "source": [
    "html =  \"\"\" \n",
    "   <html> \n",
    "     <head> \n",
    "        <title> web test  </title> \n",
    "     </head>\n",
    "     <body>  \n",
    "        <p align=\"center\" > text content1 </p> \n",
    "        <p align=\"left\" > text content2 </p> \n",
    "        <p align=\"right\" > text content3 </p> \n",
    "        <img src=\"koala.jpg\" width=500  /> \n",
    "     </body> \n",
    "   </html> \n",
    "    \"\"\"\n",
    "\n",
    "from bs4 import BeautifulSoup\n",
    "bs = BeautifulSoup(html, features=\"html.parser\")\n",
    "print (bs.find_all(align=\"center\"))  # align 속성 \n",
    "print (bs.find_all(width=\"500\"))     # width 속성\n",
    "print (bs.find_all(text=\" text content1 \")) "
   ]
  },
  {
   "cell_type": "code",
   "execution_count": 13,
   "metadata": {},
   "outputs": [
    {
     "name": "stdout",
     "output_type": "stream",
     "text": [
      "[' text content1 ', ' text content2 ', ' text content3 ']\n"
     ]
    },
    {
     "name": "stderr",
     "output_type": "stream",
     "text": [
      "C:\\Users\\Public\\Documents\\ESTsoft\\CreatorTemp\\ipykernel_14440\\1009874126.py:2: DeprecationWarning: The 'text' argument to find()-type methods is deprecated. Use 'string' instead.\n",
      "  print (bs.find_all(text=re.compile(\" text +\")))\n"
     ]
    }
   ],
   "source": [
    "import re\n",
    "print (bs.find_all(text=re.compile(\" text +\")))  "
   ]
  },
  {
   "cell_type": "code",
   "execution_count": 8,
   "metadata": {},
   "outputs": [
    {
     "name": "stdout",
     "output_type": "stream",
     "text": [
      "[<p align=\"center\"> text content1 </p>, <p align=\"left\"> text content2 </p>]\n",
      "<p align=\"center\"> text content1 </p>\n",
      " text content1 \n"
     ]
    }
   ],
   "source": [
    "print (bs.find_all(\"p\", limit=2)) \n",
    "\n",
    "\n",
    "ptag = bs.find(\"p\")\n",
    "print(ptag)\n",
    "print(ptag.string)"
   ]
  },
  {
   "cell_type": "code",
   "execution_count": 9,
   "metadata": {},
   "outputs": [
    {
     "name": "stdout",
     "output_type": "stream",
     "text": [
      "None\n",
      "\n",
      "\n",
      " text content1 \n",
      "\n",
      "\n",
      " text content2 \n",
      "\n",
      "\n",
      " text content3 \n",
      "\n",
      "\n",
      "\n",
      "\n"
     ]
    }
   ],
   "source": [
    "bodytag = bs.find(\"body\")\n",
    "print(bodytag.string)  # 첫번째 text data만\n",
    "\n",
    "for i in bodytag.strings : # 모든 text data\n",
    "    print(i)"
   ]
  },
  {
   "cell_type": "code",
   "execution_count": 10,
   "metadata": {
    "scrolled": true
   },
   "outputs": [
    {
     "name": "stdout",
     "output_type": "stream",
     "text": [
      "\n",
      " text content1 \n",
      " text content2 \n",
      " text content3 \n",
      "\n",
      "\n",
      "text content1text content2text content3\n",
      "text content1-text content2-text content3\n"
     ]
    }
   ],
   "source": [
    "print(bodytag.get_text())\n",
    "print(bodytag.get_text(strip=True))\n",
    "print(bodytag.get_text('-', strip=True))"
   ]
  },
  {
   "cell_type": "code",
   "execution_count": 10,
   "metadata": {},
   "outputs": [
    {
     "name": "stdout",
     "output_type": "stream",
     "text": [
      "<p align=\"center\" class=\"ptag yellow\"> text content1 </p>\n",
      "['ptag', 'yellow']\n",
      "center\n",
      "yellow\n",
      "['ptag', 'white']\n",
      "P-TAG\n",
      "{'class': ['ptag', 'white'], 'id': 'P-TAG'}\n",
      "a태그의 href  속성 값 출력\n",
      "http://....\n"
     ]
    }
   ],
   "source": [
    "html =  \"\"\" \n",
    "   <html> \n",
    "     <head> \n",
    "        <title> web test  </title> \n",
    "     </head>\n",
    "     <body>  \n",
    "        <p class=\"ptag yellow\" align=\"center\" > text content1 </p> \n",
    "        <p class=\"ptag red\" align=\"left\" > text content2 </p> \n",
    "        <p class=\"ptag blue\" align=\"right\" > text content3 </p> \n",
    "        <img src=\"koala.jpg\" width=500  />  \n",
    "        <a href=\"http://....\" > 뉴스제목</a>\n",
    "     </body> \n",
    "   </html> \n",
    "    \"\"\"\n",
    "from bs4 import BeautifulSoup\n",
    "bs = BeautifulSoup(html, features=\"html.parser\")\n",
    "print ( bs.find(class_=\"yellow\") ) #속성명으로 class 사용 시 class_ \n",
    "\n",
    "\n",
    "p_tag = bs.find(\"p\")\n",
    "print ( p_tag [\"class\"]  ) # [ptag ,yellow]\n",
    "print ( p_tag [\"align\"]  ) # center\n",
    "\n",
    "print( p_tag [\"class\"][1]  ) # yellow\n",
    "p_tag[\"class\"][1] = \"white\"  # 속성값 변경\n",
    "print ( p_tag [\"class\"]  )\n",
    "\n",
    "p_tag[\"id\"] = \"P-TAG\"\n",
    "print (p_tag[\"id\"])\n",
    "\n",
    "del p_tag[\"align\"]\n",
    "# print(  p_tag[\"align\"]  )  # 없는 속성값 불러오면 오류\n",
    "\n",
    "print (p_tag.attrs)\n",
    "\n",
    "#문제  a 태그의 href 속성 값을 출력하세요.\n",
    "print(\"a태그의 href  속성 값 출력\")\n",
    "atag = bs.find(\"a\")\n",
    "print(atag[\"href\"])\n"
   ]
  },
  {
   "cell_type": "code",
   "execution_count": 12,
   "metadata": {},
   "outputs": [
    {
     "name": "stdout",
     "output_type": "stream",
     "text": [
      "\n",
      "\n",
      "<p align=\"center\" class=\"ptag yellow\"> text content1 </p>\n",
      "\n",
      "\n",
      "<p align=\"left\" class=\"ptag red\"> text content2 </p>\n",
      "\n",
      "\n",
      "<p align=\"right\" class=\"ptag blue\"> text content3 </p>\n",
      "\n",
      "\n",
      "<img src=\"koala.jpg\" width=\"500\"/>\n",
      "\n",
      "\n"
     ]
    }
   ],
   "source": [
    "html =  \"\"\" \n",
    "   <html> \n",
    "     <head> \n",
    "        <title> web test  </title> \n",
    "     </head>\n",
    "     <body>  \n",
    "        <p class=\"ptag yellow \" align=\"center\" > text content1 </p> \n",
    "        <p class=\"ptag red \" align=\"left\" > text content2 </p> \n",
    "        <p class=\"ptag blue \" align=\"right\" > text content3 </p> \n",
    "        <img src=\"koala.jpg\" width=500  /> \n",
    "     </body> \n",
    "   </html> \n",
    "    \"\"\"\n",
    "from bs4 import BeautifulSoup\n",
    "bs = BeautifulSoup(html, features=\"html.parser\")\n",
    "\n",
    "body_tag= bs.find(\"body\")\n",
    "for  i in body_tag.children  :\n",
    "    print(i)"
   ]
  }
 ],
 "metadata": {
  "kernelspec": {
   "display_name": "Python 3 (ipykernel)",
   "language": "python",
   "name": "python3"
  },
  "language_info": {
   "codemirror_mode": {
    "name": "ipython",
    "version": 3
   },
   "file_extension": ".py",
   "mimetype": "text/x-python",
   "name": "python",
   "nbconvert_exporter": "python",
   "pygments_lexer": "ipython3",
   "version": "3.11.5"
  }
 },
 "nbformat": 4,
 "nbformat_minor": 2
}
