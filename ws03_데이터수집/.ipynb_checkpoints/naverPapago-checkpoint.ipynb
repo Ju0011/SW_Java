{
 "cells": [
  {
   "cell_type": "code",
   "execution_count": 36,
   "id": "e9f9a5af",
   "metadata": {},
   "outputs": [],
   "source": [
    "import urllib.request\n",
    "import urllib.parse\n",
    "#client_id = \"발급받은 client_id를 붙여넣기\"\n",
    "#client_secret = \"발급받은 client_secret를 붙여넣기\"\n",
    "client_id = \"5BE6Vc9HVCIU7_SKWbY_\"\n",
    "client_secret = \"5BE6Vc9HVCIU7_SKWbY_\"\n"
   ]
  },
  {
   "cell_type": "code",
   "execution_count": 37,
   "id": "a23d7994",
   "metadata": {},
   "outputs": [],
   "source": [
    "# URL 생성\n",
    "# POST 방식 요청이라 파라미터를 쿼리 스트링으로 포함안함. \n",
    "def makeURL( ): \n",
    "    url = \"https://openapi.naver.com/v1/papago/n2mt\"\n",
    "    return url"
   ]
  },
  {
   "cell_type": "code",
   "execution_count": 38,
   "id": "ba7279eb",
   "metadata": {},
   "outputs": [],
   "source": [
    "def requestURL(url, text):\n",
    "    req = urllib.request.Request(url)\n",
    "    req.add_header(\"X-Naver-Client-Id\",   client_id)  # open api 키를 header에 추가\n",
    "    req.add_header(\"X-Naver-Client-Secret\",  client_secret )  # open api 키를 header에 추가\n",
    "    req.add_header(\"Content-Type\",\"application/x-www-form-urlencoded; charset=UTF-8\" )\n",
    "\n",
    "    # POST 방식 요청으로 JSON 데이터를 전달 ( source, target, text ) \n",
    "    details = urllib.parse.urlencode({\"source\":\"ko\",\"target\":\"en\",\"text\":text} )\n",
    "    details = details.encode(\"utf-8\")\n",
    "    try:\n",
    "        response = urllib.request.urlopen(req, details )  # 크롤링\n",
    "        if  response.status == 200  :  # 200이면 정상 응답\n",
    "            print(\"Url Request Success\")\n",
    "            data =response.read().decode('utf-8')\n",
    "            return data  # 크롤링 결과 반환\n",
    "\n",
    "    except Exception as e:  # url로 요청 중 오류가 발생시 실행\n",
    "        print(e)\n",
    "        print(\"Error for URL : %s\" %url)\n",
    "        return None \n",
    "\n",
    "def main() :\n",
    "    text = input (\"번역할 문장을 입력하세요  \") \n",
    "    targetURL = makeURL() \n",
    "    result = requestURL (targetURL,text  ) \n",
    "    print ( result ) \n",
    "\n",
    "\n",
    "\n",
    "\n"
   ]
  },
  {
   "cell_type": "code",
   "execution_count": 39,
   "id": "dfaca96f",
   "metadata": {},
   "outputs": [
    {
     "name": "stdout",
     "output_type": "stream",
     "text": [
      "번역할 문장을 입력하세요  안녕\n",
      "HTTP Error 401: Unauthorized\n",
      "Error for URL : https://openapi.naver.com/v1/papago/n2mt\n",
      "None\n"
     ]
    }
   ],
   "source": [
    "if __name__==\"__main__\" :\n",
    "    main()"
   ]
  }
 ],
 "metadata": {
  "kernelspec": {
   "display_name": "Python 3 (ipykernel)",
   "language": "python",
   "name": "python3"
  },
  "language_info": {
   "codemirror_mode": {
    "name": "ipython",
    "version": 3
   },
   "file_extension": ".py",
   "mimetype": "text/x-python",
   "name": "python",
   "nbconvert_exporter": "python",
   "pygments_lexer": "ipython3",
   "version": "3.11.5"
  }
 },
 "nbformat": 4,
 "nbformat_minor": 5
}
