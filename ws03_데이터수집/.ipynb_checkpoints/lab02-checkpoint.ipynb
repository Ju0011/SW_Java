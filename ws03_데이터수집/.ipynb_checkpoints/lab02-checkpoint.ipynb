{
 "cells": [
  {
   "cell_type": "code",
   "execution_count": 35,
   "id": "70c94145",
   "metadata": {},
   "outputs": [
    {
     "name": "stdout",
     "output_type": "stream",
     "text": [
      "홍길동의 성적합은 190이고 평균은 95.0입니다.\n",
      "김영희의 성적합은 200이고 평균은 100.0입니다.\n"
     ]
    }
   ],
   "source": [
    "data = [ \"홍길동\", [90, 100],\n",
    "         \"김영희\", [100,100]  ] \n",
    "\n",
    "name = [data[0], data[2]]\n",
    "score = [data[1], data[3]]\n",
    "sum_list = [sum(score[0]), sum(score[1])]\n",
    "\n",
    "\n",
    "print(f'{name[0]}의 성적합은 {sum_list[0]}이고 평균은 {sum_list[0]/2}입니다.')\n",
    "print(f'{name[1]}의 성적합은 {sum_list[1]}이고 평균은 {sum_list[1]/2}입니다.')"
   ]
  },
  {
   "cell_type": "code",
   "execution_count": 20,
   "id": "9e2f3aa2",
   "metadata": {},
   "outputs": [
    {
     "name": "stdout",
     "output_type": "stream",
     "text": [
      "['홍길동', [90, 100], '김영희']\n",
      "['홍길동', [90, 100], '김영희', '제임스', [90, 90]]\n",
      "['김철수', [90, 90], '홍길동', [90, 100], '김영희', '제임스', [90, 90]]\n",
      "0\n",
      "2\n",
      "4\n"
     ]
    }
   ],
   "source": [
    "data = [ \"홍길동\", [90, 100],\n",
    "         \"김영희\", [100,100]  ] \n",
    "\n",
    "data.pop()\n",
    "print(data)\n",
    "\n",
    "data.extend([\"제임스\", [90,90]])\n",
    "print(data)\n",
    "\n",
    "data.insert(0,[90,90])\n",
    "data.insert(0, \"김철수\")\n",
    "print(data)\n",
    "\n",
    "print(data.index(\"김철수\"))\n",
    "print(data.index(\"홍길동\"))\n",
    "print(data.index(\"김영희\"))"
   ]
  }
 ],
 "metadata": {
  "kernelspec": {
   "display_name": "Python 3 (ipykernel)",
   "language": "python",
   "name": "python3"
  },
  "language_info": {
   "codemirror_mode": {
    "name": "ipython",
    "version": 3
   },
   "file_extension": ".py",
   "mimetype": "text/x-python",
   "name": "python",
   "nbconvert_exporter": "python",
   "pygments_lexer": "ipython3",
   "version": "3.11.5"
  }
 },
 "nbformat": 4,
 "nbformat_minor": 5
}
