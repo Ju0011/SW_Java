{
 "cells": [
  {
   "cell_type": "code",
   "execution_count": 5,
   "metadata": {},
   "outputs": [],
   "source": [
    "from selenium import webdriver\n",
    "# import chromedriver_autoinstaller\n",
    "\n",
    "# chromedriver_autoinstaller.install()  # Check if the current version of chromedriver exists\n",
    "#                                       # and if it doesn't exist, download it automatically,\n",
    "#                                       # then add chromedriver to path\n",
    "\n",
    "driver = webdriver.Chrome()\n",
    "# driver.get(\"https://www.naver.com/\")  \n",
    "driver.get(\"https://www.musinsa.com/\")\n",
    "\n",
    " \n",
    "from selenium.webdriver.common.by import By\n",
    "keyword_element = driver.find_element(By.ID, 'commonLayoutSearchForm')\n",
    "keyword_element.clear()\n",
    "keyword_element.send_keys(\"운동화\")\n"
   ]
  },
  {
   "cell_type": "code",
   "execution_count": 6,
   "metadata": {},
   "outputs": [],
   "source": [
    "button = driver.find_element(By.CLASS_NAME, 'sc-1ppcy5v-5')\n",
    "button.click()"
   ]
  },
  {
   "cell_type": "code",
   "execution_count": 14,
   "metadata": {},
   "outputs": [
    {
     "name": "stdout",
     "output_type": "stream",
     "text": [
      "[<p class=\"brand-shop__text__name\">\n",
      "<strong>아디다스</strong>\n",
      "</p>, <p class=\"brand-shop__text__name\">\n",
      "<strong>뉴발란스</strong>\n",
      "</p>, <p class=\"brand-shop__text__name\">\n",
      "<strong>아식스</strong>\n",
      "</p>, <p class=\"brand-shop__text__name\">\n",
      "<strong>리복</strong>\n",
      "</p>, <p class=\"brand-shop__text__name\">\n",
      "<strong>디스커버리 익스페디션</strong>\n",
      "</p>]\n",
      "아디다스\n",
      "뉴발란스\n",
      "아식스\n",
      "리복\n",
      "디스커버리 익스페디션\n"
     ]
    }
   ],
   "source": [
    "from bs4 import BeautifulSoup\n",
    "html = driver.page_source  # 브라우저가 지금 열고 있는 페이지 HTML\n",
    "\n",
    "soup = BeautifulSoup(html, 'html.parser')\n",
    "\n",
    "## 브랜드숍 이름 추출\n",
    "raw_list = soup.find_all('p', class_=\"brand-shop__text__name\")\n",
    "print( raw_list )\n",
    "\n",
    "for a in raw_list : \n",
    "    name = a.find('strong').get_text()\n",
    "    print(name)"
   ]
  },
  {
   "cell_type": "code",
   "execution_count": 15,
   "metadata": {},
   "outputs": [
    {
     "name": "stdout",
     "output_type": "stream",
     "text": [
      "https://www.musinsa.com/app/campaign/index/hyundaicard_2308\n",
      "https://www.musinsa.com/app/plan/views/39853\n",
      "https://www.musinsa.com/app/plan/views/39971\n",
      "https://www.musinsa.com/app/campaign/index/WelcomeRaffle\n",
      "https://www.musinsa.com/cms/showcases/view/8126\n"
     ]
    }
   ],
   "source": [
    "## 프로모션 중인 페이지 링크 가져오기  \n",
    "a_list =  raw_list.find_all('a')\n",
    "for a in a_list : \n",
    "    print(a[\"href\"]) ## 프로모션 중인 페이지 링크 출력"
   ]
  },
  {
   "cell_type": "code",
   "execution_count": null,
   "metadata": {},
   "outputs": [],
   "source": [
    "# 드라이버 종료\n",
    "# driver.quit()"
   ]
  }
 ],
 "metadata": {
  "kernelspec": {
   "display_name": "Python 3 (ipykernel)",
   "language": "python",
   "name": "python3"
  },
  "language_info": {
   "codemirror_mode": {
    "name": "ipython",
    "version": 3
   },
   "file_extension": ".py",
   "mimetype": "text/x-python",
   "name": "python",
   "nbconvert_exporter": "python",
   "pygments_lexer": "ipython3",
   "version": "3.11.5"
  }
 },
 "nbformat": 4,
 "nbformat_minor": 2
}
