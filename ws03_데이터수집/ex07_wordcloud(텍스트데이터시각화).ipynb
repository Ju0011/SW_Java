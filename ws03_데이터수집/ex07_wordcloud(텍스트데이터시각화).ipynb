{
 "cells": [
  {
   "cell_type": "code",
   "execution_count": 5,
   "metadata": {},
   "outputs": [],
   "source": [
    "import matplotlib.pyplot as plt\n",
    "%matplotlib inline \n",
    "\n",
    "from wordcloud import WordCloud, STOPWORDS\n",
    "from collections import Counter\n",
    "\n",
    "nouns =['명사', '나', '신세계', 'AI',  '신세계', '신세계',  '신세계',  '신세계' '학교', '월요일', '월요일', '월요일',\n",
    "        '수요일', '수요일', '수요일', '수요일']"
   ]
  },
  {
   "cell_type": "code",
   "execution_count": 6,
   "metadata": {},
   "outputs": [
    {
     "name": "stdout",
     "output_type": "stream",
     "text": [
      "['명사', '신세계', 'AI', '신세계', '신세계', '신세계', '신세계학교', '월요일', '월요일', '월요일', '수요일', '수요일', '수요일', '수요일']\n"
     ]
    }
   ],
   "source": [
    "nouns =[ n for n in nouns if len(n) > 1]  # 2글자 이상만\n",
    "print(nouns)"
   ]
  },
  {
   "cell_type": "code",
   "execution_count": 7,
   "metadata": {},
   "outputs": [
    {
     "name": "stdout",
     "output_type": "stream",
     "text": [
      "Counter({'신세계': 4, '수요일': 4, '월요일': 3, '명사': 1, 'AI': 1, '신세계학교': 1})\n",
      "[('신세계', 4), ('수요일', 4), ('월요일', 3)]\n"
     ]
    }
   ],
   "source": [
    "count=Counter(nouns)      #단어별 빈도수를 가진 딕셔너리를 만들어줌.\n",
    "print(count)\n",
    "\n",
    "tags=#TODO(3)  #가장 많이 나타나는 3개\n",
    "print(tags)"
   ]
  },
  {
   "cell_type": "code",
   "execution_count": 9,
   "metadata": {},
   "outputs": [],
   "source": [
    "spwords=set(STOPWORDS) ## 기본적으로 많이 쓰는 단어\n",
    "spwords.add('학교') ##  제외하고 싶은 단어 추가\n",
    "\n",
    "wordcloud = WordCloud(max_font_size=200,\n",
    "                      font_path='c:/Windows/fonts/malgun.ttf',\n",
    "                      stopwords=spwords,\n",
    "                      background_color='#FFFFFF',\n",
    "                      max_words = 2000,\n",
    "                      colormap=\"spring_r\",\n",
    "                      width=1200,height=800).generate_from_frequencies(dict(tags))"
   ]
  },
  {
   "cell_type": "code",
   "execution_count": 10,
   "metadata": {},
   "outputs": [
    {
     "data": {
      "image/png": "[encoded data removed]",
      "text/plain": [
       "<Figure size 720x576 with 1 Axes>"
      ]
     },
     "metadata": {
      "needs_background": "light"
     },
     "output_type": "display_data"
    }
   ],
   "source": [
    "plt.figure(figsize=(10,8))\n",
    "plt.#TODO(#TODO)\n",
    "plt.tight_layout(pad=0)\n",
    "plt.axis('off')\n",
    "plt.savefig('wordcloud_image5.png', bbox_inches='tight')\n",
    "plt.show()"
   ]
  },
  {
   "cell_type": "code",
   "execution_count": null,
   "metadata": {},
   "outputs": [],
   "source": []
  }
 ],
 "metadata": {
  "kernelspec": {
   "display_name": "Python 3 (ipykernel)",
   "language": "python",
   "name": "python3"
  },
  "language_info": {
   "codemirror_mode": {
    "name": "ipython",
    "version": 3
   },
   "file_extension": ".py",
   "mimetype": "text/x-python",
   "name": "python",
   "nbconvert_exporter": "python",
   "pygments_lexer": "ipython3",
   "version": "3.10.9"
  }
 },
 "nbformat": 4,
 "nbformat_minor": 2
}
