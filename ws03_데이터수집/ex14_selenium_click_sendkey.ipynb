{
 "cells": [
  {
   "cell_type": "code",
   "execution_count": 6,
   "metadata": {
    "id": "KodSq6TOypuz"
   },
   "outputs": [],
   "source": [
    "from selenium import webdriver\n",
    "import chromedriver_autoinstaller\n",
    "\n",
    "chromedriver_autoinstaller.install()  # Check if the current version of chromedriver exists\n",
    "                                      # and if it doesn't exist, download it automatically,\n",
    "                                      # then add chromedriver to path\n",
    "\n",
    "driver = webdriver.Chrome()\n",
    "driver.get(\"https://www.musinsa.com/\") # 무신사 사이트 접속 \n",
    "\n",
    "from selenium.webdriver.common.by import By\n",
    "\n",
    "keyword_element = driver.find_element(By.ID, 'commonLayoutSearchForm')\n",
    "#--> 현재 크롬에 떠 있는 웹페이지에서 id 속성 값이 \"commonLayoutSearchForm\"인 element 찾음\n",
    "\n",
    "keyword_element.clear()\n",
    "keyword_element.send_keys(\"운동화\") # 검색 창에 운동화라고 입력 타이핑 "
   ]
  },
  {
   "cell_type": "code",
   "execution_count": null,
   "metadata": {
    "id": "B1mawEofypu0"
   },
   "outputs": [],
   "source": [
    "# 위 코드에서 '운동화'라고 입력한 후 옆의 돋보기아이콘을 클릭한다. \n",
    "button = driver.find_element(By.CLASS_NAME, 'sc-1ppcy5v-5')\n",
    "button.click() # 클릭 "
   ]
  },
  {
   "cell_type": "code",
   "execution_count": 7,
   "metadata": {
    "id": "inGXv22wypu1"
   },
   "outputs": [],
   "source": [
    "# 위와 동일 한 버튼을 클릭하게 된다. \n",
    "# 위에서 Copy full XPath를 클릭하여  복사 된 XPath 값을 아래에 붙여넣기 한다 (초록색 폰트 자리)\n",
    "button = driver.find_element(By.XPATH, '//*[@id=\"topCommonPc\"]/header/div[1]/div/form/button')\n",
    "button.click()"
   ]
  }
 ],
 "metadata": {
  "colab": {
   "provenance": []
  },
  "kernelspec": {
   "display_name": "Python 3 (ipykernel)",
   "language": "python",
   "name": "python3"
  },
  "language_info": {
   "codemirror_mode": {
    "name": "ipython",
    "version": 3
   },
   "file_extension": ".py",
   "mimetype": "text/x-python",
   "name": "python",
   "nbconvert_exporter": "python",
   "pygments_lexer": "ipython3",
   "version": "3.11.5"
  }
 },
 "nbformat": 4,
 "nbformat_minor": 1
}
