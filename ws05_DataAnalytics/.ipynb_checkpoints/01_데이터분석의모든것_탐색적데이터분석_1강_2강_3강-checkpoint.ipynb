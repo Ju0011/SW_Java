{
 "cells": [
  {
   "cell_type": "markdown",
   "id": "8b23aeee",
   "metadata": {
    "id": "8b23aeee"
   },
   "source": [
    "# 데이터분석의 모든 것_탐색적데이터분석 1강"
   ]
  },
  {
   "cell_type": "markdown",
   "id": "9ffc199f",
   "metadata": {
    "id": "9ffc199f"
   },
   "source": [
    "## 데이터 준비"
   ]
  },
  {
   "cell_type": "code",
   "execution_count": 1,
   "id": "c13cce15",
   "metadata": {
    "id": "c13cce15"
   },
   "outputs": [],
   "source": [
    "import pandas as pd\n",
    "import numpy as np"
   ]
  },
  {
   "cell_type": "code",
   "execution_count": 2,
   "id": "deaafa1c",
   "metadata": {
    "id": "deaafa1c"
   },
   "outputs": [],
   "source": [
    "A_salary   = pd.Series([25, 28, 50, 60, 30, 35, 40, 70, 40, 70, 40, 100, 30, 30 ])\n",
    "B_salary   = pd.Series([20, 40, 25, 25, 35, 25 ,20, 10, 55, 65, 100, 100, 150, 300])"
   ]
  },
  {
   "cell_type": "code",
   "execution_count": 3,
   "id": "c4614338",
   "metadata": {
    "id": "c4614338"
   },
   "outputs": [],
   "source": [
    "df = pd.DataFrame ( {'A_salary': A_salary,\n",
    "                     'B_salary' :B_salary    }\n",
    ")"
   ]
  },
  {
   "cell_type": "markdown",
   "id": "54bacc3c",
   "metadata": {
    "id": "54bacc3c"
   },
   "source": [
    "## 대푯값 탐색"
   ]
  },
  {
   "cell_type": "markdown",
   "id": "291496b6",
   "metadata": {
    "id": "291496b6"
   },
   "source": [
    "#### 평균 - mean()  "
   ]
  },
  {
   "cell_type": "code",
   "execution_count": null,
   "id": "97fe2a03",
   "metadata": {
    "id": "97fe2a03",
    "outputId": "accf408f-41a6-450a-aabf-f9cd54dc27f9",
    "scrolled": true
   },
   "outputs": [
    {
     "name": "stdout",
     "output_type": "stream",
     "text": [
      "A 기업 연봉평균 46.285714285714285   B 기업 연봉평균  69.28571428571429\n"
     ]
    }
   ],
   "source": [
    "print(\"A 기업 연봉평균\", A_salary.mean() , \"  B 기업 연봉평균 \", B_salary.mean() )"
   ]
  },
  {
   "cell_type": "code",
   "execution_count": null,
   "id": "c8d282e7",
   "metadata": {
    "id": "c8d282e7",
    "outputId": "7087bf8b-b423-443b-c169-21302d2234bc"
   },
   "outputs": [
    {
     "data": {
      "text/plain": [
       "46.285714285714285"
      ]
     },
     "execution_count": 98,
     "metadata": {},
     "output_type": "execute_result"
    }
   ],
   "source": [
    "A_salary.mean( )\n",
    "A_salary.sum()/A_salary.count()"
   ]
  },
  {
   "cell_type": "code",
   "execution_count": null,
   "id": "e560248a",
   "metadata": {
    "id": "e560248a",
    "outputId": "5c7175f7-aeb8-4b6d-97ea-961f81603c0b"
   },
   "outputs": [
    {
     "data": {
      "text/plain": [
       "A_salary    46.285714\n",
       "B_salary    69.285714\n",
       "dtype: float64"
      ]
     },
     "execution_count": 99,
     "metadata": {},
     "output_type": "execute_result"
    }
   ],
   "source": [
    "df.mean(axis=0)  #열별 평균"
   ]
  },
  {
   "cell_type": "code",
   "execution_count": null,
   "id": "b58bc352",
   "metadata": {
    "id": "b58bc352"
   },
   "outputs": [],
   "source": [
    "A_salary  = pd.Series([np.nan , 25, 28, 50, 60, 30, 35, 40, 70, 40, 70, 40, 100, 30, 30 ])"
   ]
  },
  {
   "cell_type": "code",
   "execution_count": null,
   "id": "ef779f05",
   "metadata": {
    "id": "ef779f05",
    "outputId": "38252c9d-8b1f-4328-f44c-3c55aae5ef44"
   },
   "outputs": [
    {
     "data": {
      "text/plain": [
       "46.285714285714285"
      ]
     },
     "execution_count": 101,
     "metadata": {},
     "output_type": "execute_result"
    }
   ],
   "source": [
    "A_salary.mean( skipna=True )  #열별 평균 .  결측치 제외"
   ]
  },
  {
   "cell_type": "markdown",
   "id": "77451caa",
   "metadata": {
    "id": "77451caa"
   },
   "source": [
    "#### 중앙값 - median()"
   ]
  },
  {
   "cell_type": "code",
   "execution_count": null,
   "id": "3c7bbfd6",
   "metadata": {
    "id": "3c7bbfd6"
   },
   "outputs": [],
   "source": [
    "A_salary   = pd.Series([25, 28, 50, 60, 30, 35, 40, 70, 40, 70, 40, 100, 30, 30 ])\n",
    "B_salary   = pd.Series([20, 40, 25, 25, 35, 25 ,20, 10, 55, 65, 100, 100, 150, 300])"
   ]
  },
  {
   "cell_type": "code",
   "execution_count": null,
   "id": "41fd5da1",
   "metadata": {
    "id": "41fd5da1",
    "outputId": "0fa677b4-be63-4b14-f122-a57454b25ed8",
    "scrolled": true
   },
   "outputs": [
    {
     "name": "stdout",
     "output_type": "stream",
     "text": [
      "A 기업 연봉 중앙값  40.0    B 기업 연봉 중앙값  37.5\n"
     ]
    }
   ],
   "source": [
    "print(\"A 기업 연봉 중앙값 \",  A_salary.median()  , \"   B 기업 연봉 중앙값 \", B_salary.median()  )"
   ]
  },
  {
   "cell_type": "code",
   "execution_count": null,
   "id": "dd2e8ec7",
   "metadata": {
    "id": "dd2e8ec7",
    "outputId": "a06199e5-7007-4bff-88de-e57957576217",
    "scrolled": false
   },
   "outputs": [
    {
     "data": {
      "text/plain": [
       "A_salary    40.0\n",
       "B_salary    37.5\n",
       "dtype: float64"
      ]
     },
     "execution_count": 104,
     "metadata": {},
     "output_type": "execute_result"
    }
   ],
   "source": [
    "df.median(axis=0)  #열별 중앙값"
   ]
  },
  {
   "cell_type": "markdown",
   "id": "32fe09d7",
   "metadata": {
    "id": "32fe09d7"
   },
   "source": [
    "# 데이터분석의 모든 것_탐색적데이터분석 2강"
   ]
  },
  {
   "cell_type": "markdown",
   "id": "7e8f430b",
   "metadata": {
    "id": "7e8f430b"
   },
   "source": [
    "## 분산도 탐색"
   ]
  },
  {
   "cell_type": "markdown",
   "id": "f8b9aacc",
   "metadata": {
    "id": "f8b9aacc"
   },
   "source": [
    "#### 범위 : 최대값 -  최소값"
   ]
  },
  {
   "cell_type": "code",
   "execution_count": null,
   "id": "9fc671f5",
   "metadata": {
    "id": "9fc671f5",
    "outputId": "dc818057-585a-4f5b-ae2b-e909cbc70dc7"
   },
   "outputs": [
    {
     "data": {
      "text/plain": [
       "75"
      ]
     },
     "execution_count": 105,
     "metadata": {},
     "output_type": "execute_result"
    }
   ],
   "source": [
    "A_salary.max() - A_salary.min()"
   ]
  },
  {
   "cell_type": "code",
   "execution_count": null,
   "id": "41a7c8c0",
   "metadata": {
    "id": "41a7c8c0",
    "outputId": "2b5be705-49cf-4a4e-9b8f-e483e95aa811"
   },
   "outputs": [
    {
     "data": {
      "text/plain": [
       "290"
      ]
     },
     "execution_count": 106,
     "metadata": {},
     "output_type": "execute_result"
    }
   ],
   "source": [
    "B_salary.max() - B_salary.min()"
   ]
  },
  {
   "cell_type": "markdown",
   "id": "071c672e",
   "metadata": {
    "id": "071c672e"
   },
   "source": [
    "#### 분산  var(),    표준편차  std()"
   ]
  },
  {
   "cell_type": "code",
   "execution_count": null,
   "id": "5aecaf7c",
   "metadata": {
    "id": "5aecaf7c",
    "outputId": "5af9f1f4-8d71-4879-f050-0b0fde2f7ba5"
   },
   "outputs": [
    {
     "data": {
      "text/plain": [
       "21.556468140243165"
      ]
     },
     "execution_count": 107,
     "metadata": {},
     "output_type": "execute_result"
    }
   ],
   "source": [
    "A_salary.std()"
   ]
  },
  {
   "cell_type": "code",
   "execution_count": null,
   "id": "f37f39c2",
   "metadata": {
    "id": "f37f39c2",
    "outputId": "7f9e471c-aed3-42a5-900a-10bb13a42ac5",
    "scrolled": true
   },
   "outputs": [
    {
     "data": {
      "text/plain": [
       "464.68131868131866"
      ]
     },
     "execution_count": 108,
     "metadata": {},
     "output_type": "execute_result"
    }
   ],
   "source": [
    "A_salary.var()"
   ]
  },
  {
   "cell_type": "code",
   "execution_count": null,
   "id": "f942f20a",
   "metadata": {
    "id": "f942f20a",
    "outputId": "e28eb90f-60cc-42bc-8779-070386dbc8c8"
   },
   "outputs": [
    {
     "data": {
      "text/plain": [
       "77.53056823594814"
      ]
     },
     "execution_count": 109,
     "metadata": {},
     "output_type": "execute_result"
    }
   ],
   "source": [
    "B_salary.std()"
   ]
  },
  {
   "cell_type": "code",
   "execution_count": null,
   "id": "fbe0ff87",
   "metadata": {
    "id": "fbe0ff87",
    "outputId": "91f3f8d1-1ab5-43ca-d507-3093586d7b4c",
    "scrolled": true
   },
   "outputs": [
    {
     "data": {
      "text/plain": [
       "6010.989010989011"
      ]
     },
     "execution_count": 110,
     "metadata": {},
     "output_type": "execute_result"
    }
   ],
   "source": [
    "B_salary.var()"
   ]
  },
  {
   "cell_type": "markdown",
   "id": "60863a5c",
   "metadata": {
    "id": "60863a5c"
   },
   "source": [
    "# 데이터분석의 모든 것_탐색적데이터분석 3강"
   ]
  },
  {
   "cell_type": "markdown",
   "id": "9fe07984",
   "metadata": {
    "id": "9fe07984"
   },
   "source": [
    "##  분포 탐색"
   ]
  },
  {
   "cell_type": "markdown",
   "id": "14184298",
   "metadata": {
    "id": "14184298"
   },
   "source": [
    "#### 백분위 수"
   ]
  },
  {
   "cell_type": "code",
   "execution_count": null,
   "id": "05e8fef7",
   "metadata": {
    "id": "05e8fef7",
    "outputId": "11d9b9ac-0290-4b62-aca8-aa43dcd28601"
   },
   "outputs": [
    {
     "data": {
      "text/plain": [
       "A_salary     70.0\n",
       "B_salary    135.0\n",
       "Name: 0.9, dtype: float64"
      ]
     },
     "execution_count": 111,
     "metadata": {},
     "output_type": "execute_result"
    }
   ],
   "source": [
    "# 90% 지점의 백분위 수\n",
    "df.#TODO(0.9)"
   ]
  },
  {
   "cell_type": "code",
   "execution_count": null,
   "id": "b7446058",
   "metadata": {
    "id": "b7446058",
    "outputId": "b1c01c08-075c-48c2-ad26-882101207f0f"
   },
   "outputs": [
    {
     "data": {
      "text/plain": [
       "70.0"
      ]
     },
     "execution_count": 112,
     "metadata": {},
     "output_type": "execute_result"
    }
   ],
   "source": [
    "A_salary.#TODO( 0.9 )"
   ]
  },
  {
   "cell_type": "code",
   "execution_count": null,
   "id": "ad5ba363",
   "metadata": {
    "id": "ad5ba363",
    "outputId": "1ce4f9ab-c715-4617-a9e0-8dc196302f48"
   },
   "outputs": [
    {
     "data": {
      "text/plain": [
       "135.00000000000006"
      ]
     },
     "execution_count": 113,
     "metadata": {},
     "output_type": "execute_result"
    }
   ],
   "source": [
    "B_salary.#TODO( 0.9 )"
   ]
  },
  {
   "cell_type": "code",
   "execution_count": null,
   "id": "60cae0a4",
   "metadata": {
    "id": "60cae0a4",
    "outputId": "d7e68d13-a3eb-488f-b4b8-92f25f904ce8",
    "scrolled": true
   },
   "outputs": [
    {
     "data": {
      "text/plain": [
       "0      25\n",
       "1      28\n",
       "2      50\n",
       "3      60\n",
       "4      30\n",
       "5      35\n",
       "6      40\n",
       "7      70\n",
       "8      40\n",
       "9      70\n",
       "10     40\n",
       "11    100\n",
       "12     30\n",
       "13     30\n",
       "dtype: int64"
      ]
     },
     "execution_count": 114,
     "metadata": {},
     "output_type": "execute_result"
    }
   ],
   "source": [
    "A_salary"
   ]
  },
  {
   "cell_type": "markdown",
   "id": "229d1f47",
   "metadata": {
    "id": "229d1f47"
   },
   "source": [
    "#### 사분위 수"
   ]
  },
  {
   "cell_type": "code",
   "execution_count": null,
   "id": "36c02756",
   "metadata": {
    "id": "36c02756",
    "outputId": "20fef9f5-520f-42a4-f78a-62b6fb577f66"
   },
   "outputs": [
    {
     "name": "stdout",
     "output_type": "stream",
     "text": [
      "25.0\n",
      "30.0\n",
      "40.0\n",
      "57.5\n",
      "100.0\n"
     ]
    }
   ],
   "source": [
    "print( A_salary.#TODO( 0 )  )\n",
    "print( A_salary.#TODO( 0.25 )  )\n",
    "print( A_salary.quantile( 0.5 )  )\n",
    "print( A_salary.quantile( 0.75 )  )\n",
    "print( A_salary.quantile( 1 )  )"
   ]
  },
  {
   "cell_type": "code",
   "execution_count": 1,
   "id": "65696746",
   "metadata": {
    "id": "65696746",
    "outputId": "5ba310e1-58b7-4cf4-edff-16cc1813394d"
   },
   "outputs": [
    {
     "ename": "NameError",
     "evalue": "name 'np' is not defined",
     "output_type": "error",
     "traceback": [
      "\u001b[1;31m---------------------------------------------------------------------------\u001b[0m",
      "\u001b[1;31mNameError\u001b[0m                                 Traceback (most recent call last)",
      "Cell \u001b[1;32mIn[1], line 3\u001b[0m\n\u001b[0;32m      1\u001b[0m \u001b[38;5;66;03m## 사분위수\u001b[39;00m\n\u001b[1;32m----> 3\u001b[0m \u001b[38;5;28mprint\u001b[39m(np\u001b[38;5;241m.\u001b[39mpercentile(A_salary, \u001b[38;5;241m0\u001b[39m )) \u001b[38;5;66;03m# 최소값\u001b[39;00m\n\u001b[0;32m      4\u001b[0m \u001b[38;5;28mprint\u001b[39m(np\u001b[38;5;241m.\u001b[39mpercentile(A_salary, \u001b[38;5;241m25\u001b[39m )) \u001b[38;5;66;03m# 1/4\u001b[39;00m\n\u001b[0;32m      5\u001b[0m \u001b[38;5;28mprint\u001b[39m(np\u001b[38;5;241m.\u001b[39mpercentile(A_salary, \u001b[38;5;241m50\u001b[39m )) \u001b[38;5;66;03m# 2/4\u001b[39;00m\n",
      "\u001b[1;31mNameError\u001b[0m: name 'np' is not defined"
     ]
    }
   ],
   "source": [
    "## 사분위수\n",
    "\n",
    "print(np.#TODO(A_salary, 0 )) # 최소값\n",
    "print(np.#TODO(A_salary, 25 )) # 1/4\n",
    "print(np.percentile(A_salary, 50 )) # 2/4\n",
    "print(np.percentile(A_salary, 75 )) # 3/4\n",
    "print(np.percentile(A_salary, 100 )) # 최대값"
   ]
  },
  {
   "cell_type": "code",
   "execution_count": 4,
   "id": "44cbf906",
   "metadata": {
    "id": "44cbf906"
   },
   "outputs": [],
   "source": [
    "import matplotlib\n",
    "from matplotlib import font_manager,rc\n",
    "\n",
    "#한글 폰트 등록\n",
    "font_location = \"c:/Windows/fonts/malgun.ttf\" # Windows OS\n",
    "# font_location = \"/System/Library/fonts/AppleSDGothicNeo.ttc\"  # Mac OS\n",
    "font_name = font_manager.FontProperties(fname=font_location).get_name()\n",
    "matplotlib.rc('font', family=font_name)\n",
    "\n",
    "\n",
    "import matplotlib.pyplot as plt\n",
    "%matplotlib inline\n",
    "\n",
    "import warnings\n",
    "warnings.filterwarnings(\"ignore\")"
   ]
  },
  {
   "cell_type": "markdown",
   "id": "3de451a9",
   "metadata": {
    "id": "3de451a9"
   },
   "source": [
    "#### 상자그래프\n",
    "(연속형 변수 분포)"
   ]
  },
  {
   "cell_type": "code",
   "execution_count": 5,
   "id": "a5d0a1fd",
   "metadata": {
    "id": "a5d0a1fd"
   },
   "outputs": [
    {
     "data": {
      "image/png": "[encoded data removed]",
      "text/plain": [
       "<Figure size 640x480 with 1 Axes>"
      ]
     },
     "metadata": {},
     "output_type": "display_data"
    }
   ],
   "source": [
    "plt.boxplot([A_salary, B_salary  ])\n",
    "plt.title(\" 기업간 연봉 분포 비교  \")\n",
    "plt.xlabel(\"기업\")\n",
    "plt.ylabel(\"연봉\")\n",
    "plt.show()"
   ]
  },
  {
   "cell_type": "code",
   "execution_count": 6,
   "id": "8e875e69",
   "metadata": {
    "id": "8e875e69",
    "scrolled": true
   },
   "outputs": [
    {
     "data": {
      "image/png": "[encoded data removed]",
      "text/plain": [
       "<Figure size 640x480 with 1 Axes>"
      ]
     },
     "metadata": {},
     "output_type": "display_data"
    }
   ],
   "source": [
    "import seaborn as sns\n",
    "sns.boxplot( data=[A_salary , B_salary  ]     )\n",
    "plt.title(\" 기업간 연봉 분포 비교  \")\n",
    "plt.xlabel(\"연봉(백만원 단위)\")\n",
    "plt.ylabel(\"기업\")\n",
    "plt.show()"
   ]
  },
  {
   "cell_type": "code",
   "execution_count": 7,
   "id": "bf58eacb",
   "metadata": {
    "id": "bf58eacb"
   },
   "outputs": [
    {
     "data": {
      "image/png": "[encoded data removed]",
      "text/plain": [
       "<Figure size 640x480 with 1 Axes>"
      ]
     },
     "metadata": {},
     "output_type": "display_data"
    }
   ],
   "source": [
    "students = pd.read_csv(\"data/students.csv\")\n",
    "\n",
    "import seaborn as sns\n",
    "sns.boxplot(x=\"class\", y='english'  , data=students, hue=\"class\" )\n",
    "plt.title(\" 반별 영어 점수 분포 \")\n",
    "plt.xlabel(\"class\")\n",
    "plt.ylabel(\"english score\")\n",
    "plt.show()"
   ]
  },
  {
   "cell_type": "markdown",
   "id": "5a621e7c",
   "metadata": {
    "id": "5a621e7c"
   },
   "source": [
    "#### 히스토그램\n",
    "(연속형 변수 분포)"
   ]
  },
  {
   "cell_type": "code",
   "execution_count": 8,
   "id": "d650fa39",
   "metadata": {
    "id": "d650fa39",
    "scrolled": true
   },
   "outputs": [
    {
     "data": {
      "image/png": "[encoded data removed]",
      "text/plain": [
       "<Figure size 640x480 with 2 Axes>"
      ]
     },
     "metadata": {},
     "output_type": "display_data"
    }
   ],
   "source": [
    "plt.figure()\n",
    "plt.subplot(1,2,1)  # 1행 2열 그래프의 첫번째 그래프\n",
    "plt.hist(A_salary, bins=10,  alpha=0.7, histtype='stepfilled')\n",
    "plt.xlim(0,300)\n",
    "plt.ylim(0,8)\n",
    "plt.ylabel(\"인원 수\")\n",
    "plt.xlabel(\"연봉(백만원단위)\")\n",
    "plt.title (\" A기업 연봉 분포 \")\n",
    "\n",
    "\n",
    "plt.subplot(1,2,2) # 1행 2열 그래프의 두번째 그래프\n",
    "plt.hist(B_salary, bins=10, alpha=0.7, histtype='stepfilled')\n",
    "plt.xlim(0,300)\n",
    "plt.ylim(0,8)\n",
    "plt.ylabel(\"인원 수\")\n",
    "plt.xlabel(\"연봉(백만원단위)\")\n",
    "plt.title (\" B기업 연봉 분포 \")\n",
    "plt.show()"
   ]
  },
  {
   "cell_type": "markdown",
   "id": "bef4ce68",
   "metadata": {
    "id": "bef4ce68"
   },
   "source": [
    "#### 도수분포표  "
   ]
  },
  {
   "cell_type": "code",
   "execution_count": 9,
   "id": "296e9cb6",
   "metadata": {
    "id": "296e9cb6",
    "outputId": "2f68fb70-47f7-4245-f63d-427bc2580adb"
   },
   "outputs": [
    {
     "data": {
      "text/plain": [
       "A     3\n",
       "AB    1\n",
       "B     2\n",
       "O     1\n",
       "Name: count, dtype: int64"
      ]
     },
     "execution_count": 9,
     "metadata": {},
     "output_type": "execute_result"
    }
   ],
   "source": [
    "import pandas as pd\n",
    "\n",
    "# 범주형 변수\n",
    "blood = ['A', 'A', 'A', 'B', 'B', 'AB', 'O']\n",
    "pd.Categorical(blood).value_counts()"
   ]
  },
  {
   "cell_type": "code",
   "execution_count": 10,
   "id": "3ef446b4",
   "metadata": {
    "id": "3ef446b4",
    "outputId": "e8e5a9de-b23a-45f5-fae6-905d74d07f47"
   },
   "outputs": [
    {
     "data": {
      "text/plain": [
       "1    3\n",
       "5    2\n",
       "2    1\n",
       "3    1\n",
       "7    1\n",
       "8    1\n",
       "9    1\n",
       "Name: count, dtype: int64"
      ]
     },
     "execution_count": 10,
     "metadata": {},
     "output_type": "execute_result"
    }
   ],
   "source": [
    "# 수치형 (이산형) 변수\n",
    "x = [1, 1, 1, 2, 3, 5, 5, 7, 8, 9]\n",
    "import pandas as pd\n",
    "pd.Series(x).value_counts()"
   ]
  },
  {
   "cell_type": "code",
   "execution_count": 11,
   "id": "84c5cc97",
   "metadata": {
    "id": "84c5cc97"
   },
   "outputs": [
    {
     "name": "stdout",
     "output_type": "stream",
     "text": [
      "[47.2     57.90075 68.6015  79.30225 90.003  ]\n",
      "[4 1 2 3]\n"
     ]
    }
   ],
   "source": [
    "# 수치형 (연속형) 변수\n",
    "weight = [47.2, 68.2, 55.3, 80.1, 47.5, 50.8, 71.1, 71.9, 81.9, 90.003]\n",
    "hist, edges = np.histogram(weight, 4)\n",
    "print(edges)\n",
    "print(hist)"
   ]
  },
  {
   "cell_type": "code",
   "execution_count": null,
   "id": "be29cd1f",
   "metadata": {
    "id": "be29cd1f"
   },
   "outputs": [],
   "source": [
    "# 다음과 같은 빈도표\n",
    "#. 47.2      ~  57.90075 : 4개\n",
    "#. 57.90075  ~  68.6015  : 1개\n",
    "#. 68.6015   ~  79.30225 : 2개\n",
    "#. 79.30225  ~  90.003   : 3개"
   ]
  },
  {
   "cell_type": "markdown",
   "id": "b1654786",
   "metadata": {
    "id": "b1654786"
   },
   "source": [
    "#### 막대그래프  \n",
    "(범주형 변수, 이산형 변수  분포)"
   ]
  },
  {
   "cell_type": "code",
   "execution_count": null,
   "id": "ddcde857",
   "metadata": {
    "id": "ddcde857",
    "outputId": "9b0422a4-a18d-4747-8da3-289991037fec"
   },
   "outputs": [
    {
     "data": {
      "text/html": [
       "<div>\n",
       "<style scoped>\n",
       "    .dataframe tbody tr th:only-of-type {\n",
       "        vertical-align: middle;\n",
       "    }\n",
       "\n",
       "    .dataframe tbody tr th {\n",
       "        vertical-align: top;\n",
       "    }\n",
       "\n",
       "    .dataframe thead th {\n",
       "        text-align: right;\n",
       "    }\n",
       "</style>\n",
       "<table border=\"1\" class=\"dataframe\">\n",
       "  <thead>\n",
       "    <tr style=\"text-align: right;\">\n",
       "      <th></th>\n",
       "      <th>english</th>\n",
       "      <th>math</th>\n",
       "      <th>class</th>\n",
       "    </tr>\n",
       "  </thead>\n",
       "  <tbody>\n",
       "    <tr>\n",
       "      <th>0</th>\n",
       "      <td>100</td>\n",
       "      <td>999</td>\n",
       "      <td>1</td>\n",
       "    </tr>\n",
       "    <tr>\n",
       "      <th>1</th>\n",
       "      <td>90</td>\n",
       "      <td>90</td>\n",
       "      <td>1</td>\n",
       "    </tr>\n",
       "    <tr>\n",
       "      <th>2</th>\n",
       "      <td>80</td>\n",
       "      <td>80</td>\n",
       "      <td>1</td>\n",
       "    </tr>\n",
       "    <tr>\n",
       "      <th>3</th>\n",
       "      <td>70</td>\n",
       "      <td>20</td>\n",
       "      <td>1</td>\n",
       "    </tr>\n",
       "    <tr>\n",
       "      <th>4</th>\n",
       "      <td>20</td>\n",
       "      <td>90</td>\n",
       "      <td>2</td>\n",
       "    </tr>\n",
       "    <tr>\n",
       "      <th>5</th>\n",
       "      <td>90</td>\n",
       "      <td>100</td>\n",
       "      <td>2</td>\n",
       "    </tr>\n",
       "    <tr>\n",
       "      <th>6</th>\n",
       "      <td>80</td>\n",
       "      <td>80</td>\n",
       "      <td>2</td>\n",
       "    </tr>\n",
       "    <tr>\n",
       "      <th>7</th>\n",
       "      <td>90</td>\n",
       "      <td>99</td>\n",
       "      <td>A</td>\n",
       "    </tr>\n",
       "  </tbody>\n",
       "</table>\n",
       "</div>"
      ],
      "text/plain": [
       "   english  math class\n",
       "0      100   999     1\n",
       "1       90    90     1\n",
       "2       80    80     1\n",
       "3       70    20     1\n",
       "4       20    90     2\n",
       "5       90   100     2\n",
       "6       80    80     2\n",
       "7       90    99     A"
      ]
     },
     "execution_count": 123,
     "metadata": {},
     "output_type": "execute_result"
    }
   ],
   "source": [
    "import pandas as pd\n",
    "\n",
    "students = pd.read_csv(\"data/students.csv\")\n",
    "students"
   ]
  },
  {
   "cell_type": "code",
   "execution_count": 12,
   "id": "c38d5ca3",
   "metadata": {
    "id": "c38d5ca3",
    "outputId": "51755c00-7bf2-48d7-e4db-a4762a824d40",
    "scrolled": true
   },
   "outputs": [
    {
     "name": "stdout",
     "output_type": "stream",
     "text": [
      "class\n",
      "1    85.000000\n",
      "2    63.333333\n",
      "A    90.000000\n",
      "Name: english, dtype: float64\n"
     ]
    }
   ],
   "source": [
    "import matplotlib.pyplot as plt\n",
    "import numpy as np\n",
    "\n",
    "data = students[\"english\"].groupby(students['class'])\n",
    "\n",
    "data_avg = data.mean()\n",
    "print( data_avg   )  # 반별 영어 점수 평균"
   ]
  },
  {
   "cell_type": "code",
   "execution_count": 13,
   "id": "e37c72b5",
   "metadata": {
    "id": "e37c72b5",
    "outputId": "bbba4ef8-b1c2-4dd6-9288-75a7f1aaaa88",
    "scrolled": true
   },
   "outputs": [
    {
     "data": {
      "image/png": "[encoded data removed]",
      "text/plain": [
       "<Figure size 640x480 with 1 Axes>"
      ]
     },
     "metadata": {},
     "output_type": "display_data"
    }
   ],
   "source": [
    "plt.title(\"반별 영어 점수 평균 \")\n",
    "plt.bar( data_avg.index, data_avg)\n",
    "plt.show()"
   ]
  },
  {
   "cell_type": "markdown",
   "id": "2b97417c",
   "metadata": {
    "id": "2b97417c"
   },
   "source": [
    "#### 파이 그래프  \n",
    "(Pie chart, 원 그래프)는 범주별 구성 비율을 원형으로 표현한 그래프입니다."
   ]
  },
  {
   "cell_type": "code",
   "execution_count": 15,
   "id": "d72134ad",
   "metadata": {
    "id": "d72134ad",
    "outputId": "b8ae73e6-d5fd-4421-f411-7b142655c146"
   },
   "outputs": [
    {
     "name": "stdout",
     "output_type": "stream",
     "text": [
      "class\n",
      "1    85.000000\n",
      "2    63.333333\n",
      "A    90.000000\n",
      "Name: english, dtype: float64\n",
      "class\n",
      "1    4\n",
      "2    3\n",
      "A    1\n",
      "Name: english, dtype: int64\n"
     ]
    }
   ],
   "source": [
    "import matplotlib.pyplot as plt\n",
    "%matplotlib inline\n",
    "\n",
    "colors = ['silver', 'gold', 'whitesmoke']\n",
    "\n",
    "data = students[\"english\"].groupby(students['class'])\n",
    "print( data.mean() )  # 반별 영어 점수 평균\n",
    "print( data.size() )  # 반별 학생수"
   ]
  },
  {
   "cell_type": "code",
   "execution_count": 17,
   "id": "002af269",
   "metadata": {
    "id": "002af269",
    "outputId": "24cdc96b-1f7d-409a-8730-32dafedaa401"
   },
   "outputs": [
    {
     "data": {
      "image/png": "[encoded data removed]",
      "text/plain": [
       "<Figure size 640x480 with 1 Axes>"
      ]
     },
     "metadata": {},
     "output_type": "display_data"
    }
   ],
   "source": [
    "plt.pie(data.size(), labels=[1,2,3], autopct='%.1f%%', startangle=260, counterclock=False,\n",
    "        shadow=True, colors=colors)\n",
    "plt.title(\"반별 학생 수\")\n",
    "plt.show()"
   ]
  }
 ],
 "metadata": {
  "colab": {
   "provenance": []
  },
  "kernelspec": {
   "display_name": "Python 3 (ipykernel)",
   "language": "python",
   "name": "python3"
  },
  "language_info": {
   "codemirror_mode": {
    "name": "ipython",
    "version": 3
   },
   "file_extension": ".py",
   "mimetype": "text/x-python",
   "name": "python",
   "nbconvert_exporter": "python",
   "pygments_lexer": "ipython3",
   "version": "3.11.5"
  }
 },
 "nbformat": 4,
 "nbformat_minor": 5
}
