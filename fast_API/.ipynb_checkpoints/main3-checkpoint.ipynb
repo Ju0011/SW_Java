{
 "cells": [
  {
   "cell_type": "code",
   "execution_count": 1,
   "id": "334e2c65",
   "metadata": {},
   "outputs": [],
   "source": [
    "# uvicorn main3:app --reload --port=8000\n",
    " \n",
    "from fastapi import FastAPI\n",
    "\n",
    "app = FastAPI()\n",
    "\n",
    " \n",
    "fake_items_db = [{\"item_name\": \"Foo\"}, {\"item_name\": \"Bar\"}, {\"item_name\": \"Baz\"}]\n",
    "\n",
    "@app.get(\"/test1/\")\n",
    "async def read_item(skip: int = 0, limit: int = 10):\n",
    "    print ( skip , \" \" , limit) \n",
    "    return fake_items_db[skip : skip + limit]\n",
    "\n",
    "\n",
    "\n",
    "resultJson = {\"item_name\": \"Foo\", \"num\" : 0,  } \n",
    "\n",
    "@app.get(\"/test2/\")\n",
    "async def test(num: int = 0, text: str=\"호호\" ):\n",
    "    print ( num , text ) \n",
    "    resultJson[\"num\"]=num  \n",
    "    resultJson[\"item_name\"]=text\n",
    "    return resultJson \n"
   ]
  }
 ],
 "metadata": {
  "kernelspec": {
   "display_name": "Python 3 (ipykernel)",
   "language": "python",
   "name": "python3"
  },
  "language_info": {
   "codemirror_mode": {
    "name": "ipython",
    "version": 3
   },
   "file_extension": ".py",
   "mimetype": "text/x-python",
   "name": "python",
   "nbconvert_exporter": "python",
   "pygments_lexer": "ipython3",
   "version": "3.11.5"
  }
 },
 "nbformat": 4,
 "nbformat_minor": 5
}
