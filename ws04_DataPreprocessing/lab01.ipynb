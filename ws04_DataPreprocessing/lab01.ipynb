{
 "cells": [
  {
   "cell_type": "code",
   "execution_count": 3,
   "id": "de388bc4",
   "metadata": {},
   "outputs": [
    {
     "name": "stdout",
     "output_type": "stream",
     "text": [
      "Requirement already satisfied: pandas in c:\\users\\admin\\anaconda3\\lib\\site-packages (2.0.3)Note: you may need to restart the kernel to use updated packages.\n",
      "\n",
      "Requirement already satisfied: python-dateutil>=2.8.2 in c:\\users\\admin\\anaconda3\\lib\\site-packages (from pandas) (2.8.2)\n",
      "Requirement already satisfied: pytz>=2020.1 in c:\\users\\admin\\anaconda3\\lib\\site-packages (from pandas) (2023.3.post1)\n",
      "Requirement already satisfied: tzdata>=2022.1 in c:\\users\\admin\\anaconda3\\lib\\site-packages (from pandas) (2023.3)\n",
      "Requirement already satisfied: numpy>=1.21.0 in c:\\users\\admin\\anaconda3\\lib\\site-packages (from pandas) (1.24.3)\n",
      "Requirement already satisfied: six>=1.5 in c:\\users\\admin\\anaconda3\\lib\\site-packages (from python-dateutil>=2.8.2->pandas) (1.16.0)\n"
     ]
    }
   ],
   "source": [
    "pip install pandas"
   ]
  },
  {
   "cell_type": "code",
   "execution_count": 2,
   "id": "719ac7c1",
   "metadata": {
    "scrolled": true
   },
   "outputs": [
    {
     "name": "stdout",
     "output_type": "stream",
     "text": [
      "  규모별          계        승용차      승합차      화물차    특수차\n",
      "0   계  3,116,256  2,641,190  127,564  339,921  7,581\n",
      "1  경형    220,851    191,736    7,818   21,278     19\n",
      "2  소형    323,859     75,636    5,986  238,603  3,634\n",
      "3  중형  1,689,724  1,528,821  100,000   58,830  2,073\n",
      "4  대형    881,822    844,997   13,760   21,210  1,855\n"
     ]
    }
   ],
   "source": [
    "import pandas as pd\n",
    "lab01_data = pd.read_csv(\"lab01_car_report.csv\")\n",
    "print(lab01_data )"
   ]
  },
  {
   "cell_type": "code",
   "execution_count": 3,
   "id": "375225ff",
   "metadata": {},
   "outputs": [
    {
     "data": {
      "text/plain": [
       "RangeIndex(start=0, stop=5, step=1)"
      ]
     },
     "execution_count": 3,
     "metadata": {},
     "output_type": "execute_result"
    }
   ],
   "source": [
    "#행 제목만 출력\n",
    "lab01_data.index"
   ]
  },
  {
   "cell_type": "code",
   "execution_count": 4,
   "id": "14d371ff",
   "metadata": {},
   "outputs": [
    {
     "data": {
      "text/plain": [
       "Index(['규모별', '계', '승용차', '승합차', '화물차', '특수차'], dtype='object')"
      ]
     },
     "execution_count": 4,
     "metadata": {},
     "output_type": "execute_result"
    }
   ],
   "source": [
    "#열 제목만 출력\n",
    "lab01_data.columns"
   ]
  },
  {
   "cell_type": "code",
   "execution_count": 5,
   "id": "99bfecdb",
   "metadata": {},
   "outputs": [
    {
     "data": {
      "text/html": [
       "<div>\n",
       "<style scoped>\n",
       "    .dataframe tbody tr th:only-of-type {\n",
       "        vertical-align: middle;\n",
       "    }\n",
       "\n",
       "    .dataframe tbody tr th {\n",
       "        vertical-align: top;\n",
       "    }\n",
       "\n",
       "    .dataframe thead th {\n",
       "        text-align: right;\n",
       "    }\n",
       "</style>\n",
       "<table border=\"1\" class=\"dataframe\">\n",
       "  <thead>\n",
       "    <tr style=\"text-align: right;\">\n",
       "      <th></th>\n",
       "      <th>규모별</th>\n",
       "      <th>계</th>\n",
       "      <th>승용차</th>\n",
       "      <th>승합차</th>\n",
       "      <th>화물차</th>\n",
       "      <th>특수차</th>\n",
       "    </tr>\n",
       "  </thead>\n",
       "  <tbody>\n",
       "    <tr>\n",
       "      <th>count</th>\n",
       "      <td>5</td>\n",
       "      <td>5</td>\n",
       "      <td>5</td>\n",
       "      <td>5</td>\n",
       "      <td>5</td>\n",
       "      <td>5</td>\n",
       "    </tr>\n",
       "    <tr>\n",
       "      <th>unique</th>\n",
       "      <td>5</td>\n",
       "      <td>5</td>\n",
       "      <td>5</td>\n",
       "      <td>5</td>\n",
       "      <td>5</td>\n",
       "      <td>5</td>\n",
       "    </tr>\n",
       "    <tr>\n",
       "      <th>top</th>\n",
       "      <td>계</td>\n",
       "      <td>3,116,256</td>\n",
       "      <td>2,641,190</td>\n",
       "      <td>127,564</td>\n",
       "      <td>339,921</td>\n",
       "      <td>7,581</td>\n",
       "    </tr>\n",
       "    <tr>\n",
       "      <th>freq</th>\n",
       "      <td>1</td>\n",
       "      <td>1</td>\n",
       "      <td>1</td>\n",
       "      <td>1</td>\n",
       "      <td>1</td>\n",
       "      <td>1</td>\n",
       "    </tr>\n",
       "  </tbody>\n",
       "</table>\n",
       "</div>"
      ],
      "text/plain": [
       "       규모별          계        승용차      승합차      화물차    특수차\n",
       "count    5          5          5        5        5      5\n",
       "unique   5          5          5        5        5      5\n",
       "top      계  3,116,256  2,641,190  127,564  339,921  7,581\n",
       "freq     1          1          1        1        1      1"
      ]
     },
     "execution_count": 5,
     "metadata": {},
     "output_type": "execute_result"
    }
   ],
   "source": [
    "#통계적 개요 (평균, 표준편차, 최소, 최대 값 등) 출력\n",
    "lab01_data.describe() "
   ]
  },
  {
   "cell_type": "code",
   "execution_count": 6,
   "id": "edc053d6",
   "metadata": {},
   "outputs": [
    {
     "data": {
      "text/plain": [
       "'계'"
      ]
     },
     "execution_count": 6,
     "metadata": {},
     "output_type": "execute_result"
    }
   ],
   "source": [
    "#두번째 열 제목만 출력\n",
    "lab01_data.columns[1]"
   ]
  },
  {
   "cell_type": "code",
   "execution_count": 7,
   "id": "c63634f0",
   "metadata": {},
   "outputs": [
    {
     "data": {
      "text/html": [
       "<div>\n",
       "<style scoped>\n",
       "    .dataframe tbody tr th:only-of-type {\n",
       "        vertical-align: middle;\n",
       "    }\n",
       "\n",
       "    .dataframe tbody tr th {\n",
       "        vertical-align: top;\n",
       "    }\n",
       "\n",
       "    .dataframe thead th {\n",
       "        text-align: right;\n",
       "    }\n",
       "</style>\n",
       "<table border=\"1\" class=\"dataframe\">\n",
       "  <thead>\n",
       "    <tr style=\"text-align: right;\">\n",
       "      <th></th>\n",
       "      <th>규모별</th>\n",
       "      <th>계</th>\n",
       "      <th>승용차</th>\n",
       "      <th>승합차</th>\n",
       "      <th>화물차</th>\n",
       "      <th>특수차</th>\n",
       "    </tr>\n",
       "  </thead>\n",
       "  <tbody>\n",
       "    <tr>\n",
       "      <th>4</th>\n",
       "      <td>대형</td>\n",
       "      <td>881,822</td>\n",
       "      <td>844,997</td>\n",
       "      <td>13,760</td>\n",
       "      <td>21,210</td>\n",
       "      <td>1,855</td>\n",
       "    </tr>\n",
       "    <tr>\n",
       "      <th>2</th>\n",
       "      <td>소형</td>\n",
       "      <td>323,859</td>\n",
       "      <td>75,636</td>\n",
       "      <td>5,986</td>\n",
       "      <td>238,603</td>\n",
       "      <td>3,634</td>\n",
       "    </tr>\n",
       "    <tr>\n",
       "      <th>0</th>\n",
       "      <td>계</td>\n",
       "      <td>3,116,256</td>\n",
       "      <td>2,641,190</td>\n",
       "      <td>127,564</td>\n",
       "      <td>339,921</td>\n",
       "      <td>7,581</td>\n",
       "    </tr>\n",
       "    <tr>\n",
       "      <th>1</th>\n",
       "      <td>경형</td>\n",
       "      <td>220,851</td>\n",
       "      <td>191,736</td>\n",
       "      <td>7,818</td>\n",
       "      <td>21,278</td>\n",
       "      <td>19</td>\n",
       "    </tr>\n",
       "    <tr>\n",
       "      <th>3</th>\n",
       "      <td>중형</td>\n",
       "      <td>1,689,724</td>\n",
       "      <td>1,528,821</td>\n",
       "      <td>100,000</td>\n",
       "      <td>58,830</td>\n",
       "      <td>2,073</td>\n",
       "    </tr>\n",
       "  </tbody>\n",
       "</table>\n",
       "</div>"
      ],
      "text/plain": [
       "  규모별          계        승용차      승합차      화물차    특수차\n",
       "4  대형    881,822    844,997   13,760   21,210  1,855\n",
       "2  소형    323,859     75,636    5,986  238,603  3,634\n",
       "0   계  3,116,256  2,641,190  127,564  339,921  7,581\n",
       "1  경형    220,851    191,736    7,818   21,278     19\n",
       "3  중형  1,689,724  1,528,821  100,000   58,830  2,073"
      ]
     },
     "execution_count": 7,
     "metadata": {},
     "output_type": "execute_result"
    }
   ],
   "source": [
    "# 두번째 컬럼을 기준으로 내림차순 정렬하여 출력\n",
    "lab01_data.sort_values(by='계', ascending=False )"
   ]
  },
  {
   "cell_type": "code",
   "execution_count": 8,
   "id": "59610724",
   "metadata": {},
   "outputs": [
    {
     "data": {
      "text/html": [
       "<div>\n",
       "<style scoped>\n",
       "    .dataframe tbody tr th:only-of-type {\n",
       "        vertical-align: middle;\n",
       "    }\n",
       "\n",
       "    .dataframe tbody tr th {\n",
       "        vertical-align: top;\n",
       "    }\n",
       "\n",
       "    .dataframe thead th {\n",
       "        text-align: right;\n",
       "    }\n",
       "</style>\n",
       "<table border=\"1\" class=\"dataframe\">\n",
       "  <thead>\n",
       "    <tr style=\"text-align: right;\">\n",
       "      <th></th>\n",
       "      <th>규모별</th>\n",
       "      <th>계</th>\n",
       "      <th>승용차</th>\n",
       "      <th>승합차</th>\n",
       "      <th>화물차</th>\n",
       "      <th>특수차</th>\n",
       "    </tr>\n",
       "  </thead>\n",
       "  <tbody>\n",
       "    <tr>\n",
       "      <th>0</th>\n",
       "      <td>계</td>\n",
       "      <td>3,116,256</td>\n",
       "      <td>2,641,190</td>\n",
       "      <td>127,564</td>\n",
       "      <td>339,921</td>\n",
       "      <td>7,581</td>\n",
       "    </tr>\n",
       "  </tbody>\n",
       "</table>\n",
       "</div>"
      ],
      "text/plain": [
       "  규모별          계        승용차      승합차      화물차    특수차\n",
       "0   계  3,116,256  2,641,190  127,564  339,921  7,581"
      ]
     },
     "execution_count": 8,
     "metadata": {},
     "output_type": "execute_result"
    }
   ],
   "source": [
    "# 첫번째 행만 출력\n",
    "lab01_data.head(1)"
   ]
  },
  {
   "cell_type": "code",
   "execution_count": 10,
   "id": "0988aa1d",
   "metadata": {},
   "outputs": [
    {
     "data": {
      "text/html": [
       "<div>\n",
       "<style scoped>\n",
       "    .dataframe tbody tr th:only-of-type {\n",
       "        vertical-align: middle;\n",
       "    }\n",
       "\n",
       "    .dataframe tbody tr th {\n",
       "        vertical-align: top;\n",
       "    }\n",
       "\n",
       "    .dataframe thead th {\n",
       "        text-align: right;\n",
       "    }\n",
       "</style>\n",
       "<table border=\"1\" class=\"dataframe\">\n",
       "  <thead>\n",
       "    <tr style=\"text-align: right;\">\n",
       "      <th></th>\n",
       "      <th>규모별</th>\n",
       "      <th>계</th>\n",
       "      <th>승용차</th>\n",
       "      <th>승합차</th>\n",
       "      <th>화물차</th>\n",
       "      <th>특수차</th>\n",
       "    </tr>\n",
       "  </thead>\n",
       "  <tbody>\n",
       "    <tr>\n",
       "      <th>1</th>\n",
       "      <td>경형</td>\n",
       "      <td>220,851</td>\n",
       "      <td>191,736</td>\n",
       "      <td>7,818</td>\n",
       "      <td>21,278</td>\n",
       "      <td>19</td>\n",
       "    </tr>\n",
       "  </tbody>\n",
       "</table>\n",
       "</div>"
      ],
      "text/plain": [
       "  규모별        계      승용차    승합차     화물차 특수차\n",
       "1  경형  220,851  191,736  7,818  21,278  19"
      ]
     },
     "execution_count": 10,
     "metadata": {},
     "output_type": "execute_result"
    }
   ],
   "source": [
    "#  첫번째 행, 첫번째 열 만 출력 \n",
    "lab01_data[1:2]"
   ]
  },
  {
   "cell_type": "code",
   "execution_count": 30,
   "id": "7815be5e",
   "metadata": {},
   "outputs": [
    {
     "data": {
      "text/plain": [
       "0    3,116,256\n",
       "1      220,851\n",
       "2      323,859\n",
       "3    1,689,724\n",
       "4      881,822\n",
       "Name: 계, dtype: object"
      ]
     },
     "execution_count": 30,
     "metadata": {},
     "output_type": "execute_result"
    }
   ],
   "source": [
    "# 컬럼 제목 “계”  인 데이터만 출력\n",
    "lab01_data[\"계\"]"
   ]
  },
  {
   "cell_type": "code",
   "execution_count": 32,
   "id": "39f42fe6",
   "metadata": {},
   "outputs": [
    {
     "data": {
      "text/html": [
       "<div>\n",
       "<style scoped>\n",
       "    .dataframe tbody tr th:only-of-type {\n",
       "        vertical-align: middle;\n",
       "    }\n",
       "\n",
       "    .dataframe tbody tr th {\n",
       "        vertical-align: top;\n",
       "    }\n",
       "\n",
       "    .dataframe thead th {\n",
       "        text-align: right;\n",
       "    }\n",
       "</style>\n",
       "<table border=\"1\" class=\"dataframe\">\n",
       "  <thead>\n",
       "    <tr style=\"text-align: right;\">\n",
       "      <th></th>\n",
       "      <th>화물차</th>\n",
       "      <th>특수차</th>\n",
       "    </tr>\n",
       "  </thead>\n",
       "  <tbody>\n",
       "    <tr>\n",
       "      <th>0</th>\n",
       "      <td>339,921</td>\n",
       "      <td>7,581</td>\n",
       "    </tr>\n",
       "    <tr>\n",
       "      <th>1</th>\n",
       "      <td>21,278</td>\n",
       "      <td>19</td>\n",
       "    </tr>\n",
       "    <tr>\n",
       "      <th>2</th>\n",
       "      <td>238,603</td>\n",
       "      <td>3,634</td>\n",
       "    </tr>\n",
       "    <tr>\n",
       "      <th>3</th>\n",
       "      <td>58,830</td>\n",
       "      <td>2,073</td>\n",
       "    </tr>\n",
       "    <tr>\n",
       "      <th>4</th>\n",
       "      <td>21,210</td>\n",
       "      <td>1,855</td>\n",
       "    </tr>\n",
       "  </tbody>\n",
       "</table>\n",
       "</div>"
      ],
      "text/plain": [
       "       화물차    특수차\n",
       "0  339,921  7,581\n",
       "1   21,278     19\n",
       "2  238,603  3,634\n",
       "3   58,830  2,073\n",
       "4   21,210  1,855"
      ]
     },
     "execution_count": 32,
     "metadata": {},
     "output_type": "execute_result"
    }
   ],
   "source": [
    "# 화물차 와 특수차 정보만 출력\n",
    "lab01_data.loc[:, ('화물차', '특수차')]"
   ]
  }
 ],
 "metadata": {
  "kernelspec": {
   "display_name": "Python 3 (ipykernel)",
   "language": "python",
   "name": "python3"
  },
  "language_info": {
   "codemirror_mode": {
    "name": "ipython",
    "version": 3
   },
   "file_extension": ".py",
   "mimetype": "text/x-python",
   "name": "python",
   "nbconvert_exporter": "python",
   "pygments_lexer": "ipython3",
   "version": "3.11.5"
  }
 },
 "nbformat": 4,
 "nbformat_minor": 5
}
