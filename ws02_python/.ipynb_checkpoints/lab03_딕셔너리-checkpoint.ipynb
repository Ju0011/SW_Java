{
 "cells": [
  {
   "cell_type": "code",
   "execution_count": 3,
   "id": "392d658b",
   "metadata": {},
   "outputs": [
    {
     "name": "stdout",
     "output_type": "stream",
     "text": [
      "{'가위': 1, '바위': 2, '보': 3}\n",
      "가위\n",
      "1\n"
     ]
    }
   ],
   "source": [
    "game = {\"가위\":1,\n",
    "        \"바위\":2,\n",
    "        \"보\"  : 3 }\n",
    "print(game)\n",
    "\n",
    "a = input()\n",
    "if a in game:\n",
    "    print(game[a])"
   ]
  },
  {
   "cell_type": "code",
   "execution_count": 5,
   "id": "e6b40835",
   "metadata": {},
   "outputs": [
    {
     "name": "stdout",
     "output_type": "stream",
     "text": [
      "이름을 입력하세요: 홍길동\n",
      "주소를 입력하세요: 서울\n",
      "사용자 정보:\n",
      "{'name': '홍길동', 'address': '서울'}\n"
     ]
    }
   ],
   "source": [
    "name = input(\"이름을 입력하세요: \")\n",
    "address = input(\"주소를 입력하세요: \")\n",
    "\n",
    "user = {\"name\": name, \"address\": address}\n",
    "\n",
    "print(\"사용자 정보:\")\n",
    "print(user)\n"
   ]
  },
  {
   "cell_type": "code",
   "execution_count": 10,
   "id": "a039aa26",
   "metadata": {},
   "outputs": [
    {
     "name": "stdout",
     "output_type": "stream",
     "text": [
      "50000\n",
      "dict_keys(['피자', '김치볶음밥', '짜장면', '김밥'])\n",
      "10\n",
      "False\n"
     ]
    }
   ],
   "source": [
    "price = { \"피자\" : 10000 ,  \"김치볶음밥\" : 5000, \"짜장면\" : 4500, \"김밥\" : 2000 }\n",
    "order = { \"피자\" : 3 ,  \"김치볶음밥\" : 2,  \"김밥\" : 5 }\n",
    "\n",
    "total = 0\n",
    "\n",
    "for i in order:\n",
    "    total = total + price[i]*order[i]\n",
    "    \n",
    "print(total)\n",
    "print(price.keys())\n",
    "\n",
    "print(sum(order.values()))\n",
    "\n",
    "print(bool(\"짜장면\" in order))"
   ]
  },
  {
   "cell_type": "code",
   "execution_count": null,
   "id": "180dfbc8",
   "metadata": {},
   "outputs": [],
   "source": []
  }
 ],
 "metadata": {
  "kernelspec": {
   "display_name": "Python 3 (ipykernel)",
   "language": "python",
   "name": "python3"
  },
  "language_info": {
   "codemirror_mode": {
    "name": "ipython",
    "version": 3
   },
   "file_extension": ".py",
   "mimetype": "text/x-python",
   "name": "python",
   "nbconvert_exporter": "python",
   "pygments_lexer": "ipython3",
   "version": "3.11.5"
  }
 },
 "nbformat": 4,
 "nbformat_minor": 5
}
