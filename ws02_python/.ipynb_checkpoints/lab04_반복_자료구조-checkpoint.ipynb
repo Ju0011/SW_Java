{
 "cells": [
  {
   "cell_type": "code",
   "execution_count": 2,
   "id": "bfc112d2",
   "metadata": {},
   "outputs": [
    {
     "name": "stdout",
     "output_type": "stream",
     "text": [
      "301\n",
      "1\n"
     ]
    }
   ],
   "source": [
    "data = [10, 100, 70,99 ,22 ]\n",
    "sum = 0\n",
    "for i in range(len(data)):\n",
    "    sum = sum + data[i]\n",
    "    \n",
    "print(sum)\n",
    "print(sum%len(data))"
   ]
  },
  {
   "cell_type": "code",
   "execution_count": 5,
   "id": "2f707a06",
   "metadata": {},
   "outputs": [
    {
     "name": "stdout",
     "output_type": "stream",
     "text": [
      "438\n"
     ]
    }
   ],
   "source": [
    "data = [10, 333, 6 ,99 ,22 ]\n",
    "sum = 0\n",
    "for i in range(len(data)):\n",
    "    if data[i]%3 == 0:\n",
    "        sum = sum + data[i]\n",
    "        \n",
    "print(sum)"
   ]
  },
  {
   "cell_type": "code",
   "execution_count": 6,
   "id": "67d95d0c",
   "metadata": {},
   "outputs": [
    {
     "name": "stdout",
     "output_type": "stream",
     "text": [
      "이름: 홍길동, 연락처: 111-2222\n",
      "이름: 김영희, 연락처: 222-3333\n"
     ]
    }
   ],
   "source": [
    "score = [\n",
    "    [\"홍길동\", [\"111-2222\", \"023331111\", \"서울\"]],\n",
    "    [\"김영희\", [\"222-3333\", \"부산\"]]\n",
    "]\n",
    "\n",
    "for person in score:\n",
    "    name = person[0]\n",
    "    contact_info = person[1]\n",
    "    phone_number = contact_info[0]\n",
    "    \n",
    "    print(f\"이름: {name}, 연락처: {phone_number}\")\n"
   ]
  }
 ],
 "metadata": {
  "kernelspec": {
   "display_name": "Python 3 (ipykernel)",
   "language": "python",
   "name": "python3"
  },
  "language_info": {
   "codemirror_mode": {
    "name": "ipython",
    "version": 3
   },
   "file_extension": ".py",
   "mimetype": "text/x-python",
   "name": "python",
   "nbconvert_exporter": "python",
   "pygments_lexer": "ipython3",
   "version": "3.11.5"
  }
 },
 "nbformat": 4,
 "nbformat_minor": 5
}
