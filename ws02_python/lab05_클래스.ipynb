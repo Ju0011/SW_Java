{
 "cells": [
  {
   "cell_type": "code",
   "execution_count": 2,
   "id": "c205e2fc",
   "metadata": {},
   "outputs": [
    {
     "name": "stdout",
     "output_type": "stream",
     "text": [
      "Car 달림\n",
      "Sonata 달림\n",
      "Genesis 달림\n"
     ]
    }
   ],
   "source": [
    "class Car():\n",
    "    def run(self):\n",
    "        print(\"Car 달림\")\n",
    "        \n",
    "class Sonata(Car):\n",
    "    def run(self):\n",
    "        print(\"Sonata 달림\")\n",
    "        \n",
    "class Genesis(Car):\n",
    "    def run(self):\n",
    "        print(\"Genesis 달림\")\n",
    "        \n",
    "def drive(c):\n",
    "    c.run()\n",
    "    \n",
    "c1 = Car() \n",
    "c2 = Sonata() \n",
    "c3 = Genesis()  \n",
    "drive(c1)\n",
    "drive(c2)\n",
    "drive(c3)"
   ]
  }
 ],
 "metadata": {
  "kernelspec": {
   "display_name": "Python 3 (ipykernel)",
   "language": "python",
   "name": "python3"
  },
  "language_info": {
   "codemirror_mode": {
    "name": "ipython",
    "version": 3
   },
   "file_extension": ".py",
   "mimetype": "text/x-python",
   "name": "python",
   "nbconvert_exporter": "python",
   "pygments_lexer": "ipython3",
   "version": "3.11.5"
  }
 },
 "nbformat": 4,
 "nbformat_minor": 5
}
