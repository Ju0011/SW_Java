{
 "cells": [
  {
   "cell_type": "markdown",
   "metadata": {},
   "source": [
    "# 데이터 타입과 변수"
   ]
  },
  {
   "cell_type": "markdown",
   "metadata": {},
   "source": [
    "### [ 변수 ] "
   ]
  },
  {
   "cell_type": "markdown",
   "metadata": {},
   "source": [
    "#### ○ 변수이름 규칙 \n",
    "  • 변수이름의 첫글자는 반드시 영문자 또는 언더스코어( _ ) 어이야 한다. 숫자나 특수문자로 시작하면 안된다.  \n",
    "  • 영문자의 대소문자를 구분한다.   \n",
    "  • 예약어는 사용할 수 없다. "
   ]
  },
  {
   "cell_type": "code",
   "execution_count": 1,
   "metadata": {},
   "outputs": [
    {
     "ename": "SyntaxError",
     "evalue": "invalid character in identifier (<ipython-input-1-6787bb99a1f7>, line 8)",
     "output_type": "error",
     "traceback": [
      "\u001b[1;36m  File \u001b[1;32m\"<ipython-input-1-6787bb99a1f7>\"\u001b[1;36m, line \u001b[1;32m8\u001b[0m\n\u001b[1;33m    name = “Leeji”\u001b[0m\n\u001b[1;37m                 ^\u001b[0m\n\u001b[1;31mSyntaxError\u001b[0m\u001b[1;31m:\u001b[0m invalid character in identifier\n"
     ]
    }
   ],
   "source": [
    "#1) 변수이름은 score  변수값은 10 \n",
    "score = 10 \n",
    "\n",
    "#2) 변수이름은 qty  변수값은 200\n",
    "qty = 200\n",
    "\n",
    "#3) 변수이름은 name 변수값은 “Leeji”  또는 ‘Leeji’ \n",
    "name = “Leeji”"
   ]
  },
  {
   "cell_type": "markdown",
   "metadata": {},
   "source": [
    "#### ○ 문장 규칙 \n",
    "기본적으로 한 줄이 한 문장.   \n",
    "한 줄에 여러 문장 작성 시 세미콜론( ; )으로 한 문장의 끝을 표시 \n",
    "\n",
    "#### ○ 블록 규칙 \n",
    "들여쓰기로 결정됨"
   ]
  },
  {
   "cell_type": "markdown",
   "metadata": {},
   "source": [
    "### [ 연산자 ]  "
   ]
  },
  {
   "cell_type": "markdown",
   "metadata": {},
   "source": [
    "산술연산자"
   ]
  },
  {
   "cell_type": "code",
   "execution_count": 2,
   "metadata": {
    "scrolled": true
   },
   "outputs": [
    {
     "name": "stdout",
     "output_type": "stream",
     "text": [
      "35\n",
      "5\n",
      "300\n",
      "1.3333333333333333\n",
      "1\n",
      "5\n",
      "400\n"
     ]
    }
   ],
   "source": [
    "a = 20 #대입연산자\n",
    "b = 15 #대입연산자\n",
    "result = a + b ; print( result )   # 덧셈연산자 \n",
    "result = a - b ; print( result )   # 뺄셈연산자 \n",
    "result = a * b ; print( result )   # 곱셈연산자\n",
    "result = a / b ; print( result )   # 나눗셈연산자\n",
    "result = a // b ; print( result )  # 나누기(몫)연산자\n",
    "result = a % b ; print( result )   # 나눈 나머지연산자 \n",
    "result = a ** 2 ; print( result )  # 제곱연산자"
   ]
  },
  {
   "cell_type": "markdown",
   "metadata": {},
   "source": [
    "비교연산자"
   ]
  },
  {
   "cell_type": "code",
   "execution_count": 3,
   "metadata": {
    "scrolled": true
   },
   "outputs": [
    {
     "name": "stdout",
     "output_type": "stream",
     "text": [
      "True\n",
      "True\n",
      "False\n",
      "False\n",
      "False\n",
      "True\n"
     ]
    }
   ],
   "source": [
    "data = 50 \n",
    "score = 100 \n",
    "print( data < score )\n",
    "print( data <= score )\n",
    "print( data > score )\n",
    "print( data >= score )\n",
    "print( data == score ) # 같으면 True \n",
    "print( data != score ) # 다르면 True"
   ]
  },
  {
   "cell_type": "markdown",
   "metadata": {},
   "source": [
    "논리연산자"
   ]
  },
  {
   "cell_type": "code",
   "execution_count": 4,
   "metadata": {},
   "outputs": [
    {
     "name": "stdout",
     "output_type": "stream",
     "text": [
      "True\n",
      "True\n",
      "True\n",
      "False\n"
     ]
    }
   ],
   "source": [
    "print( score >= 0  and  score <= 100 )  # 양쪽 모두 참인 경우 True \n",
    "print( 0  <=   score <= 100 )\n",
    "\n",
    "print( score >= 0  or  score <= 100 )   # 양쪽 중 하나라도 참인 경우 True \n",
    "print( not score >= 0 )                 # 참이면 False ,거짓이면 True"
   ]
  },
  {
   "cell_type": "markdown",
   "metadata": {},
   "source": [
    "### [ 데이터타입 ]  "
   ]
  },
  {
   "cell_type": "markdown",
   "metadata": {},
   "source": [
    "#### ○ 숫자 데이터타입\n",
    "정수형, 실수형"
   ]
  },
  {
   "cell_type": "code",
   "execution_count": 5,
   "metadata": {},
   "outputs": [
    {
     "data": {
      "text/plain": [
       "int"
      ]
     },
     "execution_count": 5,
     "metadata": {},
     "output_type": "execute_result"
    }
   ],
   "source": [
    "i = 10  # 정수형 \n",
    "type(i) # 데이터 타입 확인 "
   ]
  },
  {
   "cell_type": "code",
   "execution_count": 6,
   "metadata": {},
   "outputs": [
    {
     "data": {
      "text/plain": [
       "float"
      ]
     },
     "execution_count": 6,
     "metadata": {},
     "output_type": "execute_result"
    }
   ],
   "source": [
    "j = 10.5 # 실수형\n",
    "type(j)  # 데이터 타입 확인 "
   ]
  },
  {
   "cell_type": "markdown",
   "metadata": {},
   "source": [
    "#### ○ 문자 데이터타입"
   ]
  },
  {
   "cell_type": "code",
   "execution_count": 7,
   "metadata": {},
   "outputs": [
    {
     "name": "stdout",
     "output_type": "stream",
     "text": [
      "<class 'str'>\n",
      "여행의 이유  ::  김영하\n",
      "여행-일상-여행의 고리를 잇는,\n",
      "아홉 개의 매혹적인 이야기\n",
      "6\n"
     ]
    }
   ],
   "source": [
    "# 문자열은 \" \"  또는 ' '로 감싼다. \n",
    "title =\"여행의 이유\" \n",
    "author = '김영하' \n",
    "\n",
    "print( type(title) ) # 데이터 타입 확인 \n",
    "\n",
    "# 여러줄 문자열 \n",
    "message=\"\"\"여행-일상-여행의 고리를 잇는,\n",
    "아홉 개의 매혹적인 이야기\"\"\" \n",
    "\n",
    "print(title, \" :: \" , author)\n",
    "print(message )\n",
    "\n",
    "# 문자열 길이\n",
    "print( len(title)  )"
   ]
  },
  {
   "cell_type": "markdown",
   "metadata": {},
   "source": [
    "#### ○ 문자 인덱싱"
   ]
  },
  {
   "cell_type": "code",
   "execution_count": 8,
   "metadata": {
    "scrolled": true
   },
   "outputs": [
    {
     "name": "stdout",
     "output_type": "stream",
     "text": [
      "여 행 의   이 유\n"
     ]
    }
   ],
   "source": [
    "# 인덱스는 0부터 시작. \n",
    "\n",
    "print(title[0],title[1],title[2],title[3],title[4],title[5] )"
   ]
  },
  {
   "cell_type": "markdown",
   "metadata": {},
   "source": [
    "#### ○ 문자 슬라이싱"
   ]
  },
  {
   "cell_type": "code",
   "execution_count": 9,
   "metadata": {},
   "outputs": [
    {
     "name": "stdout",
     "output_type": "stream",
     "text": [
      "여행의 이유\n",
      "행의 이유\n",
      "의 이유\n",
      " 이유\n",
      "이유\n"
     ]
    }
   ],
   "source": [
    "print(title[:])  # 처음부터 끝까지 \n",
    "print(title[1:]) # 1인덱스부터 끝까지 \n",
    "print(title[2:]) # 2인덱스부터 끝까지 \n",
    "print(title[3:]) # 3인덱스부터 끝까지 \n",
    "print(title[4:]) # 4인덱스부터 끝까지 "
   ]
  },
  {
   "cell_type": "code",
   "execution_count": 10,
   "metadata": {
    "scrolled": false
   },
   "outputs": [
    {
     "name": "stdout",
     "output_type": "stream",
     "text": [
      "여행의 이유\n",
      "여행의 이\n",
      "여행의 이\n",
      "여행의 \n",
      "이유\n"
     ]
    }
   ],
   "source": [
    "print(title[:6])  # 처음부터 6인덱스 바로 앞까지\n",
    "print(title[:5])  # 처음부터 5인덱스 바로 앞까지\n",
    "print(title[:-1]) # 처음부터 마지막 글자 바로 앞까지 \n",
    "print(title[:-2]) # 처음부터 마지막 글자 두개앞까지 \n",
    "print(title[4:6]) # 4인덱스부터 6인덱스 바로 앞까지"
   ]
  },
  {
   "cell_type": "markdown",
   "metadata": {},
   "source": [
    "#### ○ Meta Character \n",
    "\\n   줄바꿈   \n",
    "\\t  탭문자     "
   ]
  },
  {
   "cell_type": "code",
   "execution_count": 11,
   "metadata": {
    "scrolled": false
   },
   "outputs": [
    {
     "name": "stdout",
     "output_type": "stream",
     "text": [
      "줄을 바꿈\n",
      "TAB문자\t\\\n"
     ]
    }
   ],
   "source": [
    "print(\"줄을 바꿈\\nTAB문자\\t\\\\\")"
   ]
  },
  {
   "cell_type": "markdown",
   "metadata": {},
   "source": [
    "#### ○ 문자열함수    "
   ]
  },
  {
   "cell_type": "code",
   "execution_count": 12,
   "metadata": {
    "scrolled": true
   },
   "outputs": [
    {
     "name": "stdout",
     "output_type": "stream",
     "text": [
      "HELLO\n",
      "hello\n"
     ]
    }
   ],
   "source": [
    "message = \"Hello\" \n",
    "print ( message.upper() ) # 대문자로 바꿈\n",
    "print ( message.lower() ) # 소문자로 바꿈 "
   ]
  },
  {
   "cell_type": "code",
   "execution_count": 13,
   "metadata": {
    "scrolled": true
   },
   "outputs": [
    {
     "name": "stdout",
     "output_type": "stream",
     "text": [
      "Hello\n"
     ]
    }
   ],
   "source": [
    "# 단, message변수의 내용을 바꾸는 것이 아니라, 새로운 것을 만들어서 반환하는 것임.\n",
    "# 즉, message변수의 내용은 바뀌지 않았다. \n",
    "print(message)"
   ]
  },
  {
   "cell_type": "code",
   "execution_count": 14,
   "metadata": {},
   "outputs": [
    {
     "name": "stdout",
     "output_type": "stream",
     "text": [
      "HELLO\n"
     ]
    }
   ],
   "source": [
    "# message 변수의 내용을 변경하려면 다음과 같이 message 변수에  할당.\n",
    "message = message.upper()\n",
    "print(message)"
   ]
  },
  {
   "cell_type": "code",
   "execution_count": 15,
   "metadata": {},
   "outputs": [
    {
     "name": "stdout",
     "output_type": "stream",
     "text": [
      "2\n",
      "2\n",
      "1\n"
     ]
    },
    {
     "ename": "ValueError",
     "evalue": "substring not found",
     "output_type": "error",
     "traceback": [
      "\u001b[1;31m---------------------------------------------------------------------------\u001b[0m",
      "\u001b[1;31mValueError\u001b[0m                                Traceback (most recent call last)",
      "\u001b[1;32m<ipython-input-15-64f73fec1c25>\u001b[0m in \u001b[0;36m<module>\u001b[1;34m\u001b[0m\n\u001b[0;32m      2\u001b[0m \u001b[0mprint\u001b[0m \u001b[1;33m(\u001b[0m \u001b[0mmessage\u001b[0m\u001b[1;33m.\u001b[0m\u001b[0mindex\u001b[0m\u001b[1;33m(\u001b[0m\u001b[1;34m'L'\u001b[0m\u001b[1;33m)\u001b[0m  \u001b[1;33m)\u001b[0m\u001b[1;31m# 특정문자('l') 가 위치한 인덱스, 단 없으면 에러.\u001b[0m\u001b[1;33m\u001b[0m\u001b[1;33m\u001b[0m\u001b[0m\n\u001b[0;32m      3\u001b[0m \u001b[0mprint\u001b[0m \u001b[1;33m(\u001b[0m \u001b[0mmessage\u001b[0m\u001b[1;33m.\u001b[0m\u001b[0mcount\u001b[0m\u001b[1;33m(\u001b[0m\u001b[1;34m'L'\u001b[0m\u001b[1;33m,\u001b[0m\u001b[1;36m3\u001b[0m \u001b[1;33m)\u001b[0m  \u001b[1;33m)\u001b[0m  \u001b[1;31m# 특정문자('l') 갯수를 셈. 단 3인덱스 부터\u001b[0m\u001b[1;33m\u001b[0m\u001b[1;33m\u001b[0m\u001b[0m\n\u001b[1;32m----> 4\u001b[1;33m \u001b[0mprint\u001b[0m \u001b[1;33m(\u001b[0m \u001b[0mmessage\u001b[0m\u001b[1;33m.\u001b[0m\u001b[0mindex\u001b[0m\u001b[1;33m(\u001b[0m\u001b[1;34m'z'\u001b[0m\u001b[1;33m)\u001b[0m  \u001b[1;33m)\u001b[0m \u001b[1;31m# 특정문자('z') 가 위치한 인덱스. 단 없으면 에러.\u001b[0m\u001b[1;33m\u001b[0m\u001b[1;33m\u001b[0m\u001b[0m\n\u001b[0m",
      "\u001b[1;31mValueError\u001b[0m: substring not found"
     ]
    }
   ],
   "source": [
    "print ( message.count('L') ) # 특정문자('l') 갯수를 셈. 없으면 0 \n",
    "print ( message.index('L')  )# 특정문자('l') 가 위치한 인덱스, 단 없으면 에러.\n",
    "print ( message.count('L',3 )  )  # 특정문자('l') 갯수를 셈. 단 3인덱스 부터 \n",
    "print ( message.index('z')  ) # 특정문자('z') 가 위치한 인덱스. 단 없으면 에러."
   ]
  },
  {
   "cell_type": "code",
   "execution_count": null,
   "metadata": {
    "scrolled": false
   },
   "outputs": [],
   "source": [
    "message = \" Hello LEEJI \" \n",
    "print ( message )\n",
    "print ( message.strip() ) # 좌우 공백제거\n",
    "print ( message.replace(\"LEEJI\",\"KIMJI\") ) #문자열 변경 \n",
    "\n",
    "print ( message.split(' ') ) \n",
    "data = \"99:10:11\"\n",
    "print ( data.split(':') ) "
   ]
  },
  {
   "cell_type": "markdown",
   "metadata": {},
   "source": [
    "#### ○ 불린 데이터타입"
   ]
  },
  {
   "cell_type": "code",
   "execution_count": null,
   "metadata": {
    "scrolled": true
   },
   "outputs": [],
   "source": [
    "answer = True \n",
    "print(answer)\n",
    "answer = False\n",
    "print(answer)\n",
    "answer = (10 == 10) \n",
    "print(answer)\n",
    "answer = (10 != 10) \n",
    "print(answer)\n",
    "print( type(answer) )  # 데이터 타입 확인 "
   ]
  },
  {
   "cell_type": "markdown",
   "metadata": {},
   "source": [
    "### [ 키보드 입력 ]  "
   ]
  },
  {
   "cell_type": "code",
   "execution_count": null,
   "metadata": {
    "scrolled": true
   },
   "outputs": [],
   "source": [
    "name = input(\"이름을 입력하세요\\n\")"
   ]
  },
  {
   "cell_type": "code",
   "execution_count": null,
   "metadata": {},
   "outputs": [],
   "source": [
    "english_score = input(\"영어 점수를 입력하세요\\n\")"
   ]
  },
  {
   "cell_type": "code",
   "execution_count": null,
   "metadata": {},
   "outputs": [],
   "source": [
    "science_score = input(\"과학 점수를 입력하세요\\n\")"
   ]
  },
  {
   "cell_type": "code",
   "execution_count": null,
   "metadata": {},
   "outputs": [],
   "source": [
    "math_score = input(\"수학 점수를 입력하세요\\n\")"
   ]
  },
  {
   "cell_type": "markdown",
   "metadata": {},
   "source": [
    "### [ 데이터타입 변환 ]  "
   ]
  },
  {
   "cell_type": "markdown",
   "metadata": {},
   "source": [
    "#### ○ 숫자로 타입변환  "
   ]
  },
  {
   "cell_type": "code",
   "execution_count": null,
   "metadata": {},
   "outputs": [],
   "source": [
    "# 산술연산을 하려면 숫자 데이터타입으로 타입변환을 해야 함. \n",
    "\n",
    "english_score = int (english_score)  # 정수로 타입 변환 \n",
    "science_score = float (science_score)# 실수로 타입 변환 \n",
    "math_score = float (math_score)# 실수로 타입 변환\n",
    "\n",
    "avg = (english_score+science_score+math_score)/3\n",
    "avg"
   ]
  },
  {
   "cell_type": "markdown",
   "metadata": {},
   "source": [
    "#### ○ 문자열로 타입변환  "
   ]
  },
  {
   "cell_type": "code",
   "execution_count": null,
   "metadata": {},
   "outputs": [],
   "source": [
    "num = 10 \n",
    "print ( str(num) + \"번\" )"
   ]
  },
  {
   "cell_type": "markdown",
   "metadata": {},
   "source": [
    "#### ○ 불린으로 타입변환  "
   ]
  },
  {
   "cell_type": "code",
   "execution_count": null,
   "metadata": {},
   "outputs": [],
   "source": [
    "print ( bool(num) )\n",
    "print ( bool(0) , bool(-1)  )  #숫자 0만 False,  나머지 모두 True"
   ]
  },
  {
   "cell_type": "markdown",
   "metadata": {},
   "source": [
    "### [ 출력 ]  \n",
    "#### ○ 출력 포멧 \n",
    "%d   정수\n",
    "%f   실수 \n",
    "%s   문자열"
   ]
  },
  {
   "cell_type": "code",
   "execution_count": null,
   "metadata": {
    "scrolled": false
   },
   "outputs": [],
   "source": [
    "# 출력 포멧 갯수와  % 뒤에 나오는 숫자(또는 문자)의 개수가 같아야 함 \n",
    "print(\" 이름 : %s , 평균점수 : %f\" % (name, avg  ))"
   ]
  },
  {
   "cell_type": "code",
   "execution_count": null,
   "metadata": {},
   "outputs": [],
   "source": [
    "# %5s   -->  문자열을 5자리로 출력 \n",
    "# %5.2f -->  실수를 전체 5자리. 소수점이하 2자리로 출력  \n",
    "print(\" 이름 : %5s , 평균점수 : %5.2f\" % (name, avg  )) "
   ]
  },
  {
   "cell_type": "code",
   "execution_count": null,
   "metadata": {
    "scrolled": true
   },
   "outputs": [],
   "source": [
    "# {0:4s} --> 4자리 문자열, 0번째 데이터인(name)\n",
    "# {1:5f} --> 전체 5자리 소수점이하 2자리 실수, 1번째 데이터인(avg)\n",
    "message = \"{0:4s}학생의 평균점수는 {1:5.2f} 입니다.\".format(name,avg)\n",
    "print(message)\n",
    "\n",
    "# {1:4s} --> 4자리 문자열 1번째 데이터인(name)\n",
    "# {0:5f} --> 전체 5자리 소수점이하 2자리 실수. 0번째 데이터인(avg)\n",
    "message = \"{1:4s}학생의 평균점수는 {0:5.2f} 입니다.\".format(avg,name)\n",
    "print(message)"
   ]
  },
  {
   "cell_type": "code",
   "execution_count": null,
   "metadata": {},
   "outputs": [],
   "source": [
    "dash = \"-\"\n",
    "print(dash * 50)  # 문자열 * 숫자 는 문자열을 숫자만큼 반복 "
   ]
  }
 ],
 "metadata": {
  "kernelspec": {
   "display_name": "Python 3",
   "language": "python",
   "name": "python3"
  },
  "language_info": {
   "codemirror_mode": {
    "name": "ipython",
    "version": 3
   },
   "file_extension": ".py",
   "mimetype": "text/x-python",
   "name": "python",
   "nbconvert_exporter": "python",
   "pygments_lexer": "ipython3",
   "version": "3.8.3"
  }
 },
 "nbformat": 4,
 "nbformat_minor": 2
}
