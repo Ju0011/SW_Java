{
 "cells": [
  {
   "cell_type": "code",
   "execution_count": 1,
   "id": "c7b03094",
   "metadata": {},
   "outputs": [],
   "source": [
    "class calculator :\n",
    "    result = 0.0\n",
    "    name = \"\"\n",
    "    def add(self, *num):\n",
    "        for n in num :\n",
    "            self.result = self.result + n\n",
    "    def subtract(self,  num):\n",
    "        self.result = self.result - num\n",
    "    def multiply(self,  num):\n",
    "        self.result = self.result * num\n",
    "    def divide(self,  num):\n",
    "        self.result = self.result / num"
   ]
  },
  {
   "cell_type": "code",
   "execution_count": 3,
   "id": "4bc945dd",
   "metadata": {},
   "outputs": [],
   "source": [
    "def main() :\n",
    "    c = calculator();   c.name = \"똑똑한 계산기\"\n",
    "    c.add(5); \n",
    "    c.multiply(10); \n",
    "    c.subtract(2); \n",
    "    c.divide(3) ;\n",
    "    print(c.result) ;"
   ]
  },
  {
   "cell_type": "markdown",
   "id": "500a83fa",
   "metadata": {},
   "source": [
    "main()"
   ]
  }
 ],
 "metadata": {
  "kernelspec": {
   "display_name": "Python 3 (ipykernel)",
   "language": "python",
   "name": "python3"
  },
  "language_info": {
   "codemirror_mode": {
    "name": "ipython",
    "version": 3
   },
   "file_extension": ".py",
   "mimetype": "text/x-python",
   "name": "python",
   "nbconvert_exporter": "python",
   "pygments_lexer": "ipython3",
   "version": "3.11.5"
  }
 },
 "nbformat": 4,
 "nbformat_minor": 5
}
